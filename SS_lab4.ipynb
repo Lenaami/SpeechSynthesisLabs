{
  "nbformat": 4,
  "nbformat_minor": 0,
  "metadata": {
    "colab": {
      "name": "SS_lab4",
      "provenance": [],
      "collapsed_sections": [],
      "toc_visible": true,
      "authorship_tag": "ABX9TyPKQ/ZMh98oalxrgwyta/qe",
      "include_colab_link": true
    },
    "kernelspec": {
      "name": "python3",
      "display_name": "Python 3"
    },
    "accelerator": "GPU"
  },
  "cells": [
    {
      "cell_type": "markdown",
      "metadata": {
        "id": "view-in-github",
        "colab_type": "text"
      },
      "source": [
        "<a href=\"https://colab.research.google.com/github/Lenaami/SpeechSynthesisLabs/blob/main/SS_lab4.ipynb\" target=\"_parent\"><img src=\"https://colab.research.google.com/assets/colab-badge.svg\" alt=\"Open In Colab\"/></a>"
      ]
    },
    {
      "cell_type": "code",
      "metadata": {
        "colab": {
          "base_uri": "https://localhost:8080/"
        },
        "id": "nE_O2ye2NxIG",
        "outputId": "05f60962-a4e2-4b3b-f842-e72a678b7a21"
      },
      "source": [
        "from google.colab import drive\n",
        "drive.mount('/content/gdrive')"
      ],
      "execution_count": 2,
      "outputs": [
        {
          "output_type": "stream",
          "text": [
            "Mounted at /content/gdrive\n"
          ],
          "name": "stdout"
        }
      ]
    },
    {
      "cell_type": "code",
      "metadata": {
        "id": "LjbICZ1UNxFf"
      },
      "source": [
        "path = '/content/gdrive/My Drive/Colab Notebooks/Синтез речи/'"
      ],
      "execution_count": 3,
      "outputs": []
    },
    {
      "cell_type": "code",
      "metadata": {
        "id": "Z3t3WxJKWWoF"
      },
      "source": [
        "book1 = 'r_hod.Result.xml'\n",
        "book2 = 'tropa.Result.xml' #самый большой\n",
        "book3 = 'whtguard.Result.xml'"
      ],
      "execution_count": 4,
      "outputs": []
    },
    {
      "cell_type": "markdown",
      "metadata": {
        "id": "lKVWcZSzjQr1"
      },
      "source": [
        "# Парсинг xml"
      ]
    },
    {
      "cell_type": "code",
      "metadata": {
        "id": "CoBO8OkFNxDE"
      },
      "source": [
        "import xml.etree.ElementTree as ET \n",
        "import numpy as np\n",
        "import re"
      ],
      "execution_count": 5,
      "outputs": []
    },
    {
      "cell_type": "code",
      "metadata": {
        "id": "GDZaYA1z6ws_"
      },
      "source": [
        "def isNone(a):\n",
        "    return int(a) if a is not None else -1"
      ],
      "execution_count": 6,
      "outputs": []
    },
    {
      "cell_type": "code",
      "metadata": {
        "id": "GbiBZtcKesLF"
      },
      "source": [
        "# Создание словарей\r\n",
        "\r\n",
        "phonemes = ['']\r\n",
        "allophones = ['']\r\n",
        "\r\n",
        "books = [book1, book2, book3]\r\n",
        "\r\n",
        "for book in books:\r\n",
        "    tree = ET.parse(path + book)\r\n",
        "    root = tree.getroot()\r\n",
        "\r\n",
        "    for snt in root.findall('sentence'):\r\n",
        "        for feat in snt:\r\n",
        "            if feat.tag == 'word':         \r\n",
        "                for lt in feat:\r\n",
        "                    if lt.tag == 'phoneme': \r\n",
        "                        phonemes.append(lt.get('ph'))\r\n",
        "                    if lt.tag == 'allophone': \r\n",
        "                        allophones.append(lt.get('ph'))    \r\n",
        "\r\n",
        "phonemes = set(phonemes)\r\n",
        "allophones = set(allophones)\r\n",
        "\r\n",
        "phonemes_dict = {ph:i for i,ph in enumerate(phonemes)}\r\n",
        "allophones_dict = {ph:i for i,ph in enumerate(allophones)}\r\n",
        "\r\n",
        "num_to_phonemes = {i:ph for i,ph in enumerate(phonemes)}\r\n",
        "num_to_allophones = {i:ph for i,ph in enumerate(allophones)}"
      ],
      "execution_count": 7,
      "outputs": []
    },
    {
      "cell_type": "code",
      "metadata": {
        "id": "wgB56mEgf1Hw"
      },
      "source": [
        "def get_data(file):  \n",
        "    X_mfcc = [] \n",
        "    y_mfcc = []\n",
        "\n",
        "    tree = ET.parse(file)\n",
        "    root = tree.getroot()\n",
        "\n",
        "    tags = ['word', 'pause']\n",
        "\n",
        "    for snt in root.findall('sentence'):\n",
        "        features = []\n",
        "        feat_wrd = []\n",
        "\n",
        "        features_ph = []\n",
        "        features_ft_stc = []\n",
        "        allophone_stc = []\n",
        "\n",
        "        ph_wrd = []\n",
        "        allph_wrd = []\n",
        "\n",
        "        pause_pred = 0\n",
        "        count = 0\n",
        "        count_ph = 0\n",
        "        for feat in snt:\n",
        "\n",
        "            if feat.tag not in tags:\n",
        "                continue\n",
        "\n",
        "            if feat.tag == 'word':\n",
        "                if pause_pred:\n",
        "                    feat_wrd.append(1) # пауза до слова\n",
        "                    feat_wrd.append(0) # пауза после слова (предв.)\n",
        "                    feat_wrd.append(0) # длительность паузы\n",
        "                    pause_pred = 0\n",
        "                else:\n",
        "                    feat_wrd.append(0)\n",
        "                    feat_wrd.append(0)\n",
        "                    feat_wrd.append(0)\n",
        "\n",
        "                dct = feat.find('dictitem')\n",
        "                feat_wrd.append(isNone(dct.get('stress_dict'))) # ударение\n",
        "                #feat_wrd.append(isNone(dct.get('genesys'))) # одушевленность\n",
        "                #feat_wrd.append(isNone(dct.get('form'))) # форма\n",
        "                #feat_wrd.append(isNone(dct.get('subpart_of_speech'))) # часть речи        \n",
        "                #feat_wrd.append(isNone(dct.get('semantics1')))\n",
        "                #feat_wrd.append(isNone(dct.get('semantics2')))\n",
        "                feat_wrd.append(-1) # ударение (предв.)\n",
        "                \n",
        "                #ph_wrd = [''] # нет фонемы до слова\n",
        "                allph_wrd = [''] # нет фонемы до слова\n",
        "                features_ph = []\n",
        "\n",
        "                for lt in feat:                    \n",
        " \n",
        "                    #if lt.tag == 'phoneme':\n",
        "                        #features_ph.append(lt.get('ph'))\n",
        "\n",
        "                    if lt.tag == 'allophone':                        \n",
        "                        allph_wrd.append(lt.get('ph'))\n",
        "                        feat_ph = []\n",
        "                        feat_ph.append(isNone(lt.get('FO_INIT'))) # частота основного тона\n",
        "                        for i in range(1, 4):\n",
        "                            feat_ph.append(isNone(lt.get('FO' + str(i))))  # частота основного тона\n",
        "                        feat_ph.extend(np.asarray(lt.get('En').split('|')[1:-1], dtype='int')) # энергия\n",
        "                        feat_ph.append(len(allph_wrd) - 2) # позиция в слове\n",
        "                        feat_ph.append(count_ph) # позиция в предложении\n",
        "                        count_ph += 1\n",
        "\n",
        "                        features_ph.append(feat_ph)\n",
        "\n",
        "                        y_mfcc.append(np.asarray(lt.get('mfcc').split('|')[1:-1], dtype='float')) # значения MFCC для аллофона\n",
        "\n",
        "\n",
        "                    if lt.tag == 'stress':\n",
        "                        feat_wrd[-1] = len(allph_wrd) # позиция ударной фонемы                    \n",
        "\n",
        "                allph_wrd.append('') # нет фонемы после слова\n",
        "                feat_wrd.append(count) # позиция слова в предложении\n",
        "                count += 1 # подсчет слов              \n",
        "               \n",
        "                features.append(feat_wrd)\n",
        "                features_ft_stc.append(features_ph)\n",
        "                allophone_stc.append(allph_wrd)\n",
        "                feat_wrd = []\n",
        "\n",
        "            if feat.tag == 'pause':\n",
        "                features[-1][1] = 1 # пауза после слова\n",
        "                features[-1][2] = isNone(feat.get('time')) # время паузы\n",
        "                pause_pred = 1             \n",
        "\n",
        "        # объединение \n",
        "        for i in range(count):\n",
        "            for l in range(len(allophone_stc[i]) - 2):\n",
        "                feat = [allophone_stc[i][l+1], allophone_stc[i][l], allophone_stc[i][l+2]] # текущая фонема, перед и после\n",
        "                feat = [allophones_dict.get(s) for s in feat] # перевод из буквы в цифру\n",
        "                feat.extend(features_ft_stc[i][l])\n",
        "                feat.extend(features[i])\n",
        "                feat.append(count)\n",
        "                \n",
        "                X_mfcc.append(feat)\n",
        "       \n",
        "    return np.asarray(X_mfcc), np.asarray(y_mfcc)"
      ],
      "execution_count": 8,
      "outputs": []
    },
    {
      "cell_type": "code",
      "metadata": {
        "id": "PvRXn9cAmDPr"
      },
      "source": [
        "X_train_1, y_train_1 = get_data(path + book2)"
      ],
      "execution_count": 9,
      "outputs": []
    },
    {
      "cell_type": "code",
      "metadata": {
        "id": "NintYyjTvlI5"
      },
      "source": [
        "X_train_2, y_train_2 = get_data(path + book3)"
      ],
      "execution_count": 10,
      "outputs": []
    },
    {
      "cell_type": "code",
      "metadata": {
        "id": "jcJHqdL0vv_v"
      },
      "source": [
        "# Объединение корпусов (2 и 3)\n",
        "\n",
        "X_train = np.vstack((X_train_1, X_train_2))\n",
        "y_train = np.vstack((y_train_1, y_train_2))"
      ],
      "execution_count": 11,
      "outputs": []
    },
    {
      "cell_type": "code",
      "metadata": {
        "id": "Vq_lFG8psmCP"
      },
      "source": [
        "# Тестовый корпус (1)\n",
        "\n",
        "X_test, y_test = get_data(path + book1)"
      ],
      "execution_count": 12,
      "outputs": []
    },
    {
      "cell_type": "code",
      "metadata": {
        "colab": {
          "base_uri": "https://localhost:8080/"
        },
        "id": "WChv47hkcwEN",
        "outputId": "b42aac77-51cd-44bc-c0be-a4b2d7af4662"
      },
      "source": [
        "y_train[:, 0].shape"
      ],
      "execution_count": 52,
      "outputs": [
        {
          "output_type": "execute_result",
          "data": {
            "text/plain": [
              "(1033503,)"
            ]
          },
          "metadata": {
            "tags": []
          },
          "execution_count": 52
        }
      ]
    },
    {
      "cell_type": "code",
      "metadata": {
        "colab": {
          "base_uri": "https://localhost:8080/"
        },
        "id": "pDPs1GIoX9xt",
        "outputId": "4fbea189-5ba2-4b31-8003-1e62beb3d1bf"
      },
      "source": [
        "print(X_train.shape, y_train.shape)"
      ],
      "execution_count": 47,
      "outputs": [
        {
          "output_type": "stream",
          "text": [
            "(1033503, 19) (1033503, 12)\n"
          ],
          "name": "stdout"
        }
      ]
    },
    {
      "cell_type": "code",
      "metadata": {
        "colab": {
          "base_uri": "https://localhost:8080/"
        },
        "id": "3cVesNko2g-C",
        "outputId": "cacfe1f3-7bcb-47b6-de9a-6e0a84b73667"
      },
      "source": [
        "len(X_train)"
      ],
      "execution_count": 89,
      "outputs": [
        {
          "output_type": "execute_result",
          "data": {
            "text/plain": [
              "1033503"
            ]
          },
          "metadata": {
            "tags": []
          },
          "execution_count": 89
        }
      ]
    },
    {
      "cell_type": "code",
      "metadata": {
        "colab": {
          "base_uri": "https://localhost:8080/"
        },
        "id": "z2j3g0SFWSzp",
        "outputId": "9fea6750-877a-43f1-bda6-fc62343e51e4"
      },
      "source": [
        "print(X_test.shape, y_test.shape)"
      ],
      "execution_count": 49,
      "outputs": [
        {
          "output_type": "stream",
          "text": [
            "(6579, 19) (6579, 12)\n"
          ],
          "name": "stdout"
        }
      ]
    },
    {
      "cell_type": "markdown",
      "metadata": {
        "id": "_8-nlLAauo5l"
      },
      "source": [
        "# Предсказание MFCC вектора"
      ]
    },
    {
      "cell_type": "markdown",
      "metadata": {
        "id": "npCQwnkvZk8a"
      },
      "source": [
        "## GAN"
      ]
    },
    {
      "cell_type": "code",
      "metadata": {
        "id": "eQY9HDu6ZjfW"
      },
      "source": [
        ""
      ],
      "execution_count": null,
      "outputs": []
    },
    {
      "cell_type": "code",
      "metadata": {
        "id": "WuqIVjpqunf3",
        "colab": {
          "base_uri": "https://localhost:8080/"
        },
        "outputId": "e5b00672-963b-40c7-f8dc-03270a4c8687"
      },
      "source": [
        "import torch\r\n",
        "import torch.nn as nn\r\n",
        "import torch.nn.functional as F\r\n",
        "import torch.optim as optim\r\n",
        "\r\n",
        "import torchvision\r\n",
        "from sklearn.model_selection import train_test_split\r\n",
        "from sklearn.metrics import f1_score\r\n",
        "from tqdm import tqdm\r\n",
        "\r\n",
        "torch.manual_seed(1)"
      ],
      "execution_count": null,
      "outputs": [
        {
          "output_type": "execute_result",
          "data": {
            "text/plain": [
              "<torch._C.Generator at 0x7fc115e97228>"
            ]
          },
          "metadata": {
            "tags": []
          },
          "execution_count": 141
        }
      ]
    },
    {
      "cell_type": "code",
      "metadata": {
        "id": "giYN9MIr0IPe"
      },
      "source": [
        "\r\n",
        "np.random.seed(42)\r\n",
        "torch.manual_seed(42)\r\n",
        "torch.cuda.manual_seed(42)\r\n",
        "torch.backends.cudnn.deterministic = True"
      ],
      "execution_count": null,
      "outputs": []
    },
    {
      "cell_type": "code",
      "metadata": {
        "id": "Jkg1NWKfzSdt"
      },
      "source": [
        "class LSTMModel(nn.Module):\r\n",
        "\r\n",
        "    def __init__(self, embedding_dim, hidden_dim, tagset_size):\r\n",
        "        super(LSTMModel, self).__init__()\r\n",
        "        self.hidden_dim = hidden_dim\r\n",
        "        self.embedding_dim = embedding_dim\r\n",
        "\r\n",
        "        #self.word_embeddings = nn.Embedding(vocab_size, embedding_dim)\r\n",
        "        self.lstm = nn.LSTM(embedding_dim, hidden_dim)\r\n",
        "        self.hidden2tag = nn.Linear(hidden_dim, tagset_size)\r\n",
        "\r\n",
        "    def forward(self, word):\r\n",
        "        feats = torch.tensor(data=word, dtype=torch.float)\r\n",
        "        #feats = feats.type(torch.LongTensor)\r\n",
        "        #print(type(feats))\r\n",
        "        #embeds = self.word_embeddings(word)\r\n",
        "        #print(feats.shape)\r\n",
        "        #print(feats.view(-1, 1, self.embedding_dim).shape)\r\n",
        "        #lstm_out, _ = self.lstm(feats.view(len(word), 1, -1))\r\n",
        "        lstm_out, _ = self.lstm(feats.view(-1, 1, self.embedding_dim))\r\n",
        "        tag_space = self.hidden2tag(lstm_out.view(len(word), -1))\r\n",
        "        tag_scores = F.log_softmax(tag_space, dim=1)\r\n",
        "        return tag_scores"
      ],
      "execution_count": null,
      "outputs": []
    },
    {
      "cell_type": "code",
      "metadata": {
        "id": "oenhh9cTMs0l"
      },
      "source": [
        "def eval_model(model, eval_dataset):\r\n",
        "    model.eval()\r\n",
        "    forecast, true_labels = [], []\r\n",
        "    with torch.no_grad():\r\n",
        "        for features, labels in tqdm(eval_dataset):\r\n",
        "            #features, labels = features.cuda(), labels.detach().numpy()\r\n",
        "            features = torch.tensor(features).cuda()\r\n",
        "            true_labels.append(labels)\r\n",
        "            outputs = model(features)\r\n",
        "            \r\n",
        "            #outputs = outputs.detach().numpy().argmax(axis=1)\r\n",
        "            outputs = outputs.detach().cpu().numpy().argmax(axis=1)\r\n",
        "            forecast.append(outputs)\r\n",
        "    forecast = [x for sublist in forecast for x in sublist]\r\n",
        "    true_labels = [x for sublist in true_labels for x in sublist]\r\n",
        "    return f1_score(forecast, true_labels, average='macro') # weighted micro"
      ],
      "execution_count": null,
      "outputs": []
    },
    {
      "cell_type": "code",
      "metadata": {
        "id": "YEl3dcGUM51U"
      },
      "source": [
        "#criterion = nn.CrossEntropyLoss()\r\n",
        "#model = Model_5()\r\n",
        "#model = model.cuda()\r\n",
        "lr = 1e-3\r\n",
        "\r\n",
        "#optimizer = torch.optim.Adam(model.parameters(), lr=lr)\r\n",
        "\r\n",
        "EMBEDDING_DIM = 20\r\n",
        "HIDDEN_DIM = 20\r\n",
        "\r\n",
        "model = LSTMModel(EMBEDDING_DIM, HIDDEN_DIM, len(phonemes_dict))\r\n",
        "model = model.cuda()\r\n",
        "criterion = nn.NLLLoss()\r\n",
        "optimizer = optim.SGD(model.parameters(), lr=lr)\r\n",
        "\r\n",
        "with torch.no_grad():\r\n",
        "    inputs = torch.tensor(X_train_ph[0]).cuda()\r\n",
        "    tag_scores = model(inputs)\r\n",
        "    print(tag_scores)"
      ],
      "execution_count": null,
      "outputs": []
    },
    {
      "cell_type": "code",
      "metadata": {
        "id": "KyywxmXhs1fT"
      },
      "source": [
        ""
      ],
      "execution_count": null,
      "outputs": []
    },
    {
      "cell_type": "code",
      "metadata": {
        "id": "dsGm00nu4P5M"
      },
      "source": [
        "lr = 1e-3\r\n",
        "\r\n",
        "EMBEDDING_DIM = 20\r\n",
        "HIDDEN_DIM = 200\r\n",
        "\r\n",
        "model = LSTMModel(EMBEDDING_DIM, HIDDEN_DIM, len(phonemes_dict))\r\n",
        "model = model.cuda()\r\n",
        "criterion = nn.NLLLoss()\r\n",
        "optimizer = optim.SGD(model.parameters(), lr=lr)\r\n",
        "\r\n",
        "n_epoch = 10\r\n",
        "#best_f1 = 0\r\n",
        "for epoch in range(n_epoch):\r\n",
        "    model.train()\r\n",
        "    for features, labels in tqdm(zip(X_train_ph, y_train_ph)):\r\n",
        "        #print(labels)\r\n",
        "        optimizer.zero_grad()\r\n",
        "        features, labels = torch.tensor(features).cuda(), torch.tensor(labels).cuda()\r\n",
        "        outputs = model(features)\r\n",
        "        loss = criterion(outputs, torch.tensor(labels))\r\n",
        "        loss.backward()\r\n",
        "        optimizer.step()\r\n",
        "    f1 = eval_model(model, zip(X_test_ph, y_test_ph))\r\n",
        "    f1_train = eval_model(model, zip(X_train_ph, y_train_ph))\r\n",
        "    #print(f'epoch: {epoch}, f1_test: {f1}')\r\n",
        "    print(f'\\nepoch: {epoch}, f1_test: {f1}, f1_train: {f1_train}')\r\n",
        "    #if f1 > best_f1:\r\n",
        "    #    best_f1 = f1\r\n",
        "    #    torch.save(model.state_dict(), '../baseline_v5.pt')\r\n",
        "        \r\n",
        "    lr = lr * 0.95\r\n",
        "    for param_group in optimizer.param_groups:\r\n",
        "        param_group['lr'] = lr"
      ],
      "execution_count": null,
      "outputs": []
    },
    {
      "cell_type": "code",
      "metadata": {
        "id": "w6lFSiW7tJQr"
      },
      "source": [
        "eval_model(model, zip(X_test_ph, y_test_ph))"
      ],
      "execution_count": null,
      "outputs": []
    },
    {
      "cell_type": "code",
      "metadata": {
        "id": "OJBP9ZwenO7D"
      },
      "source": [
        ""
      ],
      "execution_count": null,
      "outputs": []
    },
    {
      "cell_type": "code",
      "metadata": {
        "id": "KC5j1BYqnO13"
      },
      "source": [
        ""
      ],
      "execution_count": null,
      "outputs": []
    },
    {
      "cell_type": "code",
      "metadata": {
        "id": "WrURhxdhnOw0"
      },
      "source": [
        ""
      ],
      "execution_count": null,
      "outputs": []
    },
    {
      "cell_type": "code",
      "metadata": {
        "id": "CNDcclV0nOhh"
      },
      "source": [
        ""
      ],
      "execution_count": null,
      "outputs": []
    },
    {
      "cell_type": "code",
      "metadata": {
        "id": "ikkDUmJenOSi"
      },
      "source": [
        ""
      ],
      "execution_count": null,
      "outputs": []
    },
    {
      "cell_type": "code",
      "metadata": {
        "colab": {
          "base_uri": "https://localhost:8080/"
        },
        "id": "Sm6zctJGtdWX",
        "outputId": "1077238b-0519-4f2e-ce05-20f5cb921460"
      },
      "source": [
        "i = 3\r\n",
        "with torch.no_grad():    \r\n",
        "    outputs = model(torch.tensor(X_test_ph[i]).cuda())            \r\n",
        "    outputs = outputs.detach().cpu().numpy().argmax(axis=1)\r\n",
        "    print(outputs)\r\n",
        "    \r\n",
        "    out = [num_to_phonemes.get(s) for s in outputs]\r\n",
        "    print(out)\r\n",
        "    print([num_to_phonemes.get(s) for s in y_test_ph[i]])"
      ],
      "execution_count": null,
      "outputs": [
        {
          "output_type": "stream",
          "text": [
            "[30 29 20 10  0 12 39 42]\n",
            "['к', \"р'\", 'е', 'с', '', 'н', 'ы', 'й']\n",
            "['к', \"р'\", 'е', 'с', '', 'н', 'ы', 'й']\n"
          ],
          "name": "stdout"
        },
        {
          "output_type": "stream",
          "text": [
            "/usr/local/lib/python3.6/dist-packages/ipykernel_launcher.py:13: UserWarning: To copy construct from a tensor, it is recommended to use sourceTensor.clone().detach() or sourceTensor.clone().detach().requires_grad_(True), rather than torch.tensor(sourceTensor).\n",
            "  del sys.path[0]\n"
          ],
          "name": "stderr"
        }
      ]
    },
    {
      "cell_type": "code",
      "metadata": {
        "id": "NWUPWIfOGGbO"
      },
      "source": [
        "torch.save(model.state_dict(), path + 'model_test.pt')"
      ],
      "execution_count": null,
      "outputs": []
    },
    {
      "cell_type": "code",
      "metadata": {
        "id": "wpME7XugM8xj",
        "colab": {
          "base_uri": "https://localhost:8080/"
        },
        "outputId": "0ae7b1b0-bb57-457a-a624-c2d0c5b94b99"
      },
      "source": [
        "# Загрузить модель\r\n",
        "model_name = 'model_test.pt'\r\n",
        "\r\n",
        "EMBEDDING_DIM = 20\r\n",
        "HIDDEN_DIM = 200\r\n",
        "model = LSTMModel(EMBEDDING_DIM, HIDDEN_DIM, len(phonemes_dict)).cuda()\r\n",
        "#model = LSTMModel(EMBEDDING_DIM, HIDDEN_DIM, 43).cuda()\r\n",
        "model.load_state_dict(torch.load(path + 'model_test.pt'))\r\n",
        "model.eval()"
      ],
      "execution_count": null,
      "outputs": [
        {
          "output_type": "execute_result",
          "data": {
            "text/plain": [
              "LSTMModel(\n",
              "  (lstm): LSTM(20, 200)\n",
              "  (hidden2tag): Linear(in_features=200, out_features=43, bias=True)\n",
              ")"
            ]
          },
          "metadata": {
            "tags": []
          },
          "execution_count": 151
        }
      ]
    },
    {
      "cell_type": "code",
      "metadata": {
        "colab": {
          "base_uri": "https://localhost:8080/"
        },
        "id": "CVVfbUg5pxsi",
        "outputId": "1b5be15f-b96c-43ee-fe1d-ac7a2552bb0c"
      },
      "source": [
        "y_pred = []\r\n",
        "y_true = []\r\n",
        "\r\n",
        "lev_score=[]\r\n",
        "with torch.no_grad():\r\n",
        "    for features, labels in tqdm(zip(X_test_ph, y_test_ph)):\r\n",
        "        outputs = model(torch.tensor(features).cuda())            \r\n",
        "        outputs = outputs.detach().cpu().numpy().argmax(axis=1)\r\n",
        "\r\n",
        "        y_pred.extend(outputs)\r\n",
        "        y_true.extend(labels)\r\n",
        "\r\n",
        "        out = \"\".join([num_to_phonemes.get(s) for s in outputs])\r\n",
        "        true = \"\".join([num_to_phonemes.get(s) for s in labels])\r\n",
        "\r\n",
        "        lev_score.append(Levenshtein.distance(out, true))\r\n",
        "\r\n",
        "show_metric_ph(y_pred, y_true)\r\n",
        "#print(np.mean(lev_score))\r\n",
        "print(np.mean(lev_score))"
      ],
      "execution_count": null,
      "outputs": [
        {
          "output_type": "stream",
          "text": [
            "0it [00:00, ?it/s]/usr/local/lib/python3.6/dist-packages/ipykernel_launcher.py:13: UserWarning: To copy construct from a tensor, it is recommended to use sourceTensor.clone().detach() or sourceTensor.clone().detach().requires_grad_(True), rather than torch.tensor(sourceTensor).\n",
            "  del sys.path[0]\n",
            "1268it [00:00, 1636.45it/s]\n"
          ],
          "name": "stderr"
        },
        {
          "output_type": "stream",
          "text": [
            "F1-score (micro):\t0.076\n",
            "Recall (micro): \t0.076\n",
            "Precision (micro):\t0.076\n",
            "Accuracy:\t\t0.076\n",
            "\n",
            "Levenshtein distance:\t1.436\n",
            "6.419558359621451\n"
          ],
          "name": "stdout"
        }
      ]
    },
    {
      "cell_type": "code",
      "metadata": {
        "id": "O6O8mCKcjPAW"
      },
      "source": [
        "def show_metric_ph(y_pred, y_true, metric='micro'):\r\n",
        "\r\n",
        "    lev_score = []\r\n",
        "\r\n",
        "    for i in range(len(len_word) - 1):\r\n",
        "        pred = \"\".join([num_to_phonemes.get(s) for s in y_pred[i:i+1]])\r\n",
        "        true = \"\".join([num_to_phonemes.get(s) for s in y_true[i:i+1]])\r\n",
        "\r\n",
        "        lev_score.append(Levenshtein.distance(pred, true))    \r\n",
        "\r\n",
        "    print('F1-score (%s):\\t%0.3f' % (metric, metrics.f1_score(y_true, y_pred, average=metric)))\r\n",
        "    print('Recall (%s): \\t%0.3f' % (metric, metrics.recall_score(y_true, y_pred, average=metric)))\r\n",
        "    print('Precision (%s):\\t%0.3f' % (metric,metrics.precision_score(y_true, y_pred, average=metric)))\r\n",
        "    print('Accuracy:\\t\\t%0.3f' % metrics.accuracy_score(y_true, y_pred))\r\n",
        "    print('\\nLevenshtein distance:\\t%0.3f' % np.mean(lev_score))"
      ],
      "execution_count": null,
      "outputs": []
    },
    {
      "cell_type": "code",
      "metadata": {
        "id": "ibFgCkvjunWG"
      },
      "source": [
        ""
      ],
      "execution_count": null,
      "outputs": []
    },
    {
      "cell_type": "code",
      "metadata": {
        "id": "zOn9dNXuunTy"
      },
      "source": [
        "import torch\r\n",
        "from torch import nn\r\n",
        "import torch.optim as optim\r\n",
        "\r\n",
        "from torch.utils.data import Dataset\r\n",
        "from torch.utils.data import DataLoader"
      ],
      "execution_count": 16,
      "outputs": []
    },
    {
      "cell_type": "code",
      "metadata": {
        "id": "873kCb5lhd0p"
      },
      "source": [
        "class Generator(nn.Module):\r\n",
        "    def __init__(self, latent_dim, layers, output_activation=None):\r\n",
        "        super(Generator, self).__init__()\r\n",
        "        self.latent_dim = latent_dim\r\n",
        "        self.output_activation = output_activation\r\n",
        "        self._init_layers(layers)\r\n",
        "\r\n",
        "    def _init_layers(self, layers):\r\n",
        "        self.module_list = nn.ModuleList()\r\n",
        "        last_layer = self.latent_dim\r\n",
        "        for index, width in enumerate(layers):\r\n",
        "            self.module_list.append(nn.Linear(last_layer, width))\r\n",
        "            last_layer = width\r\n",
        "            if index + 1 != len(layers):\r\n",
        "                self.module_list.append(nn.LeakyReLU())\r\n",
        "\r\n",
        "    def forward(self, input_tensor):\r\n",
        "        intermediate = input_tensor\r\n",
        "        for layer in self.module_list:\r\n",
        "            intermediate = layer(intermediate)\r\n",
        "        return intermediate"
      ],
      "execution_count": 17,
      "outputs": []
    },
    {
      "cell_type": "code",
      "metadata": {
        "id": "jxDb0g1ZhsnT"
      },
      "source": [
        "class Discriminator(nn.Module):\r\n",
        "    def __init__(self, input_dim, layers):\r\n",
        "        super(Discriminator, self).__init__()\r\n",
        "        self.input_dim = input_dim\r\n",
        "        self._init_layers(layers)\r\n",
        "\r\n",
        "    def _init_layers(self, layers):\r\n",
        "        self.module_list = nn.ModuleList()\r\n",
        "        last_layer = self.input_dim\r\n",
        "        for index, width in enumerate(layers):\r\n",
        "            self.module_list.append(nn.Linear(last_layer, width))\r\n",
        "            last_layer = width\r\n",
        "            if index + 1 != len(layers):\r\n",
        "                self.module_list.append(nn.LeakyReLU())\r\n",
        "        else:\r\n",
        "            self.module_list.append(nn.Sigmoid())\r\n",
        "\r\n",
        "    def forward(self, input_tensor):\r\n",
        "        intermediate = input_tensor\r\n",
        "        for layer in self.module_list:\r\n",
        "            intermediate = layer(intermediate)\r\n",
        "        return intermediate        "
      ],
      "execution_count": 18,
      "outputs": []
    },
    {
      "cell_type": "code",
      "metadata": {
        "id": "MuisXPZJhdxl"
      },
      "source": [
        "class VanillaGAN():\r\n",
        "    def __init__(self, generator, discriminator, batch_size=32, device='cpu', lr_d=1e-3, lr_g=2e-4):\r\n",
        "\r\n",
        "        self.generator = generator\r\n",
        "        self.generator = self.generator.to(device)\r\n",
        "        self.discriminator = discriminator\r\n",
        "        self.discriminator = self.discriminator.to(device)\r\n",
        "        self.batch_size = batch_size\r\n",
        "        self.device = device\r\n",
        "        self.criterion = nn.BCELoss()\r\n",
        "        self.optim_d = optim.Adam(discriminator.parameters(), lr=lr_d, betas=(0.5, 0.999))\r\n",
        "        self.optim_g = optim.Adam(generator.parameters(), lr=lr_g, betas=(0.5, 0.999))\r\n",
        "        self.target_ones = torch.ones((batch_size, 1)).to(device)\r\n",
        "        self.target_zeros = torch.zeros((batch_size, 1)).to(device)\r\n",
        "\r\n",
        "    def generate_samples(self, latent_vec=None, num=None):\r\n",
        "        with torch.no_grad():\r\n",
        "            samples = self.generator(latent_vec)\r\n",
        "        return samples\r\n",
        "\r\n",
        "    def train_step_generator(self, latent_vec):\r\n",
        "        self.generator.zero_grad()\r\n",
        "\r\n",
        "        generated = self.generator(latent_vec)\r\n",
        "        classifications = self.discriminator(generated)\r\n",
        "        loss = self.criterion(classifications, self.target_ones)\r\n",
        "        loss.backward()\r\n",
        "        self.optim_g.step()\r\n",
        "        return loss.item()\r\n",
        "\r\n",
        "    def train_step_discriminator(self, latent_vec, real_samples):\r\n",
        "        self.discriminator.zero_grad()\r\n",
        "\r\n",
        "        # real samples\r\n",
        "        pred_real = self.discriminator(real_samples)\r\n",
        "        loss_real = self.criterion(pred_real, self.target_ones)\r\n",
        "\r\n",
        "        # generated samples\r\n",
        "        with torch.no_grad():\r\n",
        "            fake_samples = self.generator(latent_vec)\r\n",
        "        pred_fake = self.discriminator(fake_samples)\r\n",
        "        loss_fake = self.criterion(pred_fake, self.target_zeros)\r\n",
        "\r\n",
        "        # combine\r\n",
        "        loss = (loss_real + loss_fake) / 2\r\n",
        "        loss.backward()\r\n",
        "        self.optim_d.step()\r\n",
        "        return loss_real.item(), loss_fake.item()\r\n",
        "\r\n",
        "    def train_step(self, latent_vec, real_samples):\r\n",
        "        loss_d = self.train_step_discriminator(latent_vec, real_samples)\r\n",
        "        loss_g = self.train_step_generator(latent_vec)\r\n",
        "        return loss_g, loss_d"
      ],
      "execution_count": 19,
      "outputs": []
    },
    {
      "cell_type": "code",
      "metadata": {
        "id": "VYf1AaE92GpN"
      },
      "source": [
        "class PhonemeDataset(Dataset):\r\n",
        "    def __init__(self, x, y=None):\r\n",
        "        self.x = x\r\n",
        "        self.y = y\r\n",
        "    \r\n",
        "    def __len__(self):\r\n",
        "        return len(self.x)\r\n",
        "\r\n",
        "    def __getitem__(self, idx):\r\n",
        "        features = self.x[idx]\r\n",
        "        if self.y is not None:\r\n",
        "            return features, self.y[idx]\r\n",
        "        return features"
      ],
      "execution_count": 20,
      "outputs": []
    },
    {
      "cell_type": "code",
      "metadata": {
        "id": "M05-bRfOLxZ_"
      },
      "source": [
        "batch_size = 32"
      ],
      "execution_count": 21,
      "outputs": []
    },
    {
      "cell_type": "code",
      "metadata": {
        "id": "erXW-_Zt2KH4"
      },
      "source": [
        "train_loader = DataLoader(PhonemeDataset(X_train[:(-1)*(len(y_train) % batch_size)], y_train[:(-1)*(len(y_train) % batch_size)]), batch_size=batch_size)\r\n",
        "#test_loader = DataLoader(PhonemeDataset(X_test[:(-1)*(len(y_test) % 32)], y_test[:(-1)*(len(y_test) % 32)]), batch_size=batch_size)"
      ],
      "execution_count": 22,
      "outputs": []
    },
    {
      "cell_type": "code",
      "metadata": {
        "id": "d1ExLGfcEknY"
      },
      "source": [
        "test_loader = DataLoader(PhonemeDataset(X_test, y_test), batch_size=1)"
      ],
      "execution_count": 23,
      "outputs": []
    },
    {
      "cell_type": "code",
      "metadata": {
        "colab": {
          "base_uri": "https://localhost:8080/"
        },
        "id": "_dPshcoPBrLK",
        "outputId": "d465570f-e3c3-4e1c-bcf0-bb35e4915576"
      },
      "source": [
        "len(y_test[:(-1)*(len(y_test) % 32)])"
      ],
      "execution_count": 110,
      "outputs": [
        {
          "output_type": "execute_result",
          "data": {
            "text/plain": [
              "6560"
            ]
          },
          "metadata": {
            "tags": []
          },
          "execution_count": 110
        }
      ]
    },
    {
      "cell_type": "code",
      "metadata": {
        "id": "KeTctByA378k"
      },
      "source": [
        "for wavs, labs in train_loader:\r\n",
        "    print(wavs)\r\n",
        "    #wavs, labs = wavs.cuda(), labs.detach().numpy()\r\n",
        " \r\n",
        "    #outputs = outputs.detach().cpu().numpy().argmax(axis=1)\r\n",
        "    #forecast.append(outputs)\r\n"
      ],
      "execution_count": null,
      "outputs": []
    },
    {
      "cell_type": "code",
      "metadata": {
        "colab": {
          "base_uri": "https://localhost:8080/"
        },
        "id": "abiZDQxlhduk",
        "outputId": "f050777e-6255-4af0-9c47-c2bba4499cba"
      },
      "source": [
        "from time import time\r\n",
        "\r\n",
        "epochs = 20\r\n",
        "##batches = 100\r\n",
        "generator = Generator(19, [64, 32, 12]) # X_train.shape[1] , y_train.shape[1]\r\n",
        "discriminator = Discriminator(12, [64, 32, 1])\r\n",
        "##noise_fn = lambda x: torch.rand((x, 19), device='cuda') ######## < --------------\r\n",
        "##data_fn = lambda x: torch.randn((x, 12), device='cuda') ######## < --------------\r\n",
        "##gan = VanillaGAN(generator, discriminator, noise_fn, data_fn, device='cuda')\r\n",
        "gan = VanillaGAN(generator, discriminator, batch_size, device='cuda')\r\n",
        "loss_g, loss_d_real, loss_d_fake = [], [], []\r\n",
        "start = time()\r\n",
        "for epoch in range(epochs):\r\n",
        "    count_batches = 0\r\n",
        "    loss_g_running, loss_d_real_running, loss_d_fake_running = 0, 0, 0\r\n",
        "    #for batch in range(batches):\r\n",
        "    for features, labels in train_loader:\r\n",
        "        features, labels = features.cuda(), labels.cuda()\r\n",
        "        lg_, (ldr_, ldf_) = gan.train_step(features.float(), labels.float())\r\n",
        "        loss_g_running += lg_\r\n",
        "        loss_d_real_running += ldr_\r\n",
        "        loss_d_fake_running += ldf_\r\n",
        "        count_batches += 1\r\n",
        "    loss_g.append(loss_g_running / count_batches)\r\n",
        "    loss_d_real.append(loss_d_real_running / count_batches)\r\n",
        "    loss_d_fake.append(loss_d_fake_running / count_batches)\r\n",
        "    print(f\"Epoch {epoch+1}/{epochs} ({int(time() - start)}s):\"\r\n",
        "          f\" G={loss_g[-1]:.3f},\"\r\n",
        "          f\" Dr={loss_d_real[-1]:.3f},\"\r\n",
        "          f\" Df={loss_d_fake[-1]:.3f}\")"
      ],
      "execution_count": 28,
      "outputs": [
        {
          "output_type": "stream",
          "text": [
            "Epoch 1/20 (171s): G=4.506, Dr=0.368, Df=0.352\n",
            "Epoch 2/20 (343s): G=0.962, Dr=0.627, Df=0.583\n",
            "Epoch 3/20 (514s): G=0.983, Dr=0.618, Df=0.563\n",
            "Epoch 4/20 (685s): G=0.949, Dr=0.624, Df=0.571\n",
            "Epoch 5/20 (855s): G=0.988, Dr=0.613, Df=0.552\n",
            "Epoch 6/20 (1025s): G=0.971, Dr=0.618, Df=0.563\n",
            "Epoch 7/20 (1195s): G=0.960, Dr=0.622, Df=0.571\n",
            "Epoch 8/20 (1367s): G=0.971, Dr=0.618, Df=0.560\n",
            "Epoch 9/20 (1536s): G=0.960, Dr=0.621, Df=0.567\n",
            "Epoch 10/20 (1706s): G=0.908, Dr=0.636, Df=0.590\n",
            "Epoch 11/20 (1874s): G=0.931, Dr=0.629, Df=0.577\n",
            "Epoch 12/20 (2044s): G=0.919, Dr=0.632, Df=0.582\n",
            "Epoch 13/20 (2213s): G=0.933, Dr=0.629, Df=0.578\n",
            "Epoch 14/20 (2383s): G=0.932, Dr=0.630, Df=0.582\n",
            "Epoch 15/20 (2554s): G=0.940, Dr=0.625, Df=0.573\n",
            "Epoch 16/20 (2724s): G=0.919, Dr=0.632, Df=0.581\n",
            "Epoch 17/20 (2895s): G=0.902, Dr=0.636, Df=0.588\n",
            "Epoch 18/20 (3064s): G=0.895, Dr=0.638, Df=0.593\n",
            "Epoch 19/20 (3234s): G=0.899, Dr=0.637, Df=0.595\n",
            "Epoch 20/20 (3403s): G=0.910, Dr=0.635, Df=0.587\n"
          ],
          "name": "stdout"
        }
      ]
    },
    {
      "cell_type": "code",
      "metadata": {
        "colab": {
          "base_uri": "https://localhost:8080/"
        },
        "id": "uVKcvG29hn9m",
        "outputId": "bb416511-b4d0-439b-e400-61217b81d9f4"
      },
      "source": [
        "from time import time\r\n",
        "\r\n",
        "epochs = 20\r\n",
        "##batches = 100\r\n",
        "generator = Generator(19, [64, 32, 12]) # X_train.shape[1] , y_train.shape[1]\r\n",
        "discriminator = Discriminator(12, [64, 32, 1])\r\n",
        "##noise_fn = lambda x: torch.rand((x, 19), device='cuda') ######## < --------------\r\n",
        "##data_fn = lambda x: torch.randn((x, 12), device='cuda') ######## < --------------\r\n",
        "##gan = VanillaGAN(generator, discriminator, noise_fn, data_fn, device='cuda')\r\n",
        "gan = VanillaGAN(generator, discriminator, batch_size, device='cuda')\r\n",
        "loss_g, loss_d_real, loss_d_fake = [], [], []\r\n",
        "start = time()\r\n",
        "for epoch in range(epochs):\r\n",
        "    count_batches = 0\r\n",
        "    loss_g_running, loss_d_real_running, loss_d_fake_running = 0, 0, 0\r\n",
        "    #for batch in range(batches):\r\n",
        "    for features, labels in train_loader:\r\n",
        "        features, labels = features.cuda(), labels.cuda()\r\n",
        "        lg_, (ldr_, ldf_) = gan.train_step(features.float(), labels.float())\r\n",
        "        loss_g_running += lg_\r\n",
        "        loss_d_real_running += ldr_\r\n",
        "        loss_d_fake_running += ldf_\r\n",
        "        count_batches += 1\r\n",
        "    loss_g.append(loss_g_running / count_batches)\r\n",
        "    loss_d_real.append(loss_d_real_running / count_batches)\r\n",
        "    loss_d_fake.append(loss_d_fake_running / count_batches)\r\n",
        "    print(f\"Epoch {epoch+1}/{epochs} ({int(time() - start)}s):\"\r\n",
        "          f\" G={loss_g[-1]:.3f},\"\r\n",
        "          f\" Dr={loss_d_real[-1]:.3f},\"\r\n",
        "          f\" Df={loss_d_fake[-1]:.3f}\")"
      ],
      "execution_count": 24,
      "outputs": [
        {
          "output_type": "stream",
          "text": [
            "Epoch 1/20 (178s): G=6.198, Dr=0.339, Df=0.331\n",
            "Epoch 2/20 (354s): G=1.107, Dr=0.601, Df=0.536\n",
            "Epoch 3/20 (530s): G=1.025, Dr=0.614, Df=0.558\n",
            "Epoch 4/20 (706s): G=1.030, Dr=0.613, Df=0.553\n",
            "Epoch 5/20 (884s): G=1.036, Dr=0.611, Df=0.551\n",
            "Epoch 6/20 (1059s): G=1.010, Dr=0.614, Df=0.557\n",
            "Epoch 7/20 (1236s): G=1.022, Dr=0.609, Df=0.549\n",
            "Epoch 8/20 (1414s): G=0.986, Dr=0.620, Df=0.566\n",
            "Epoch 9/20 (1595s): G=0.963, Dr=0.624, Df=0.576\n",
            "Epoch 10/20 (1773s): G=0.984, Dr=0.619, Df=0.565\n",
            "Epoch 11/20 (1952s): G=0.962, Dr=0.624, Df=0.572\n",
            "Epoch 12/20 (2131s): G=0.943, Dr=0.627, Df=0.579\n",
            "Epoch 13/20 (2309s): G=0.933, Dr=0.631, Df=0.584\n",
            "Epoch 14/20 (2488s): G=0.899, Dr=0.642, Df=0.609\n",
            "Epoch 15/20 (2667s): G=0.905, Dr=0.640, Df=0.600\n",
            "Epoch 16/20 (2847s): G=0.898, Dr=0.642, Df=0.602\n",
            "Epoch 17/20 (3027s): G=0.895, Dr=0.643, Df=0.605\n",
            "Epoch 18/20 (3204s): G=0.890, Dr=0.645, Df=0.606\n",
            "Epoch 19/20 (3384s): G=0.896, Dr=0.640, Df=0.598\n",
            "Epoch 20/20 (3564s): G=0.952, Dr=0.629, Df=0.578\n"
          ],
          "name": "stdout"
        }
      ]
    },
    {
      "cell_type": "code",
      "metadata": {
        "colab": {
          "base_uri": "https://localhost:8080/"
        },
        "id": "n42ryq16zcxR",
        "outputId": "ff95b773-2116-45b5-8bfb-56eb85502357"
      },
      "source": [
        "gan.generate_samples(torch.tensor((0, 1, 2, 3, 4, 5, 6, 7, 8, 9, 10, 11, 12, 13, 14, 15, 16, 17, 18), dtype=torch.float, device='cuda'), 1)"
      ],
      "execution_count": 88,
      "outputs": [
        {
          "output_type": "execute_result",
          "data": {
            "text/plain": [
              "tensor([-15.2117,  34.0781,   7.5779,  -5.0084, -29.8542,   3.8091,  -1.9497,\n",
              "        -13.0288, -14.4846,  25.4570, -18.9715,  15.6978], device='cuda:0')"
            ]
          },
          "metadata": {
            "tags": []
          },
          "execution_count": 88
        }
      ]
    },
    {
      "cell_type": "code",
      "metadata": {
        "colab": {
          "base_uri": "https://localhost:8080/"
        },
        "id": "Wu6hIgrkhdru",
        "outputId": "3767fd5c-9b1b-4b59-a4b7-971c469b8867"
      },
      "source": [
        "y_true = []\r\n",
        "y_pred = []\r\n",
        "\r\n",
        "for features, labels in test_loader:\r\n",
        "    features, labels = features.cuda(), labels.detach().numpy()\r\n",
        "    outputs = gan.generate_samples(features.float())    \r\n",
        "    outputs = outputs.detach().cpu().numpy()\r\n",
        "\r\n",
        "    y_pred.append(outputs)\r\n",
        "    y_true.append(labels)\r\n",
        "\r\n",
        "show_metric(y_pred, y_true)"
      ],
      "execution_count": 25,
      "outputs": [
        {
          "output_type": "stream",
          "text": [
            "\n",
            "Euclidean distance:\t1.906\n"
          ],
          "name": "stdout"
        }
      ]
    },
    {
      "cell_type": "code",
      "metadata": {
        "colab": {
          "base_uri": "https://localhost:8080/"
        },
        "id": "KFaMNB2bhdpI",
        "outputId": "bc6b2931-5fb2-44c0-c67d-0273edec081e"
      },
      "source": [
        "print(y_true[0])\r\n",
        "print(y_pred[0])"
      ],
      "execution_count": 26,
      "outputs": [
        {
          "output_type": "stream",
          "text": [
            "[[-0.67395527  1.03842558 -0.46609802 -0.26750833 -0.08744055 -0.55251648\n",
            "   0.06810237  0.31983177 -0.2124693   0.25121132  0.09961122  0.02914081]]\n",
            "[[-2.8735523   2.3975954   0.22248186  0.6811306  -0.6667562  -0.13630494\n",
            "  -0.38938317  0.5198267  -0.50991833  0.11009459 -0.21513316 -1.0195515 ]]\n"
          ],
          "name": "stdout"
        }
      ]
    },
    {
      "cell_type": "code",
      "metadata": {
        "id": "ZTA2N0CUhdmi"
      },
      "source": [
        ""
      ],
      "execution_count": null,
      "outputs": []
    },
    {
      "cell_type": "code",
      "metadata": {
        "id": "yLpw8H8zhdjc"
      },
      "source": [
        ""
      ],
      "execution_count": null,
      "outputs": []
    },
    {
      "cell_type": "code",
      "metadata": {
        "id": "FnRyIfGEunRi"
      },
      "source": [
        ""
      ],
      "execution_count": null,
      "outputs": []
    },
    {
      "cell_type": "markdown",
      "metadata": {
        "id": "yDR5KYsIZqBm"
      },
      "source": [
        "## Классификаторы"
      ]
    },
    {
      "cell_type": "code",
      "metadata": {
        "id": "-gjp3j_fBqqF"
      },
      "source": [
        "import warnings\n",
        "warnings.filterwarnings('ignore')"
      ],
      "execution_count": null,
      "outputs": []
    },
    {
      "cell_type": "code",
      "metadata": {
        "id": "BANG5glggz5w"
      },
      "source": [
        "from sklearn.tree import DecisionTreeClassifier\n",
        "from sklearn.ensemble import RandomForestClassifier\n",
        "from sklearn.naive_bayes import GaussianNB\n",
        "from sklearn.linear_model import LogisticRegression\n",
        "from sklearn.linear_model import LinearRegression\n",
        "\n",
        "from sklearn.model_selection import cross_val_score\n",
        "from sklearn import metrics\n",
        "import matplotlib.pyplot as plt\n",
        "import pandas as pd\n",
        "\n",
        "from numpy import linalg"
      ],
      "execution_count": 13,
      "outputs": []
    },
    {
      "cell_type": "code",
      "metadata": {
        "id": "ypKbZzg5f0fu"
      },
      "source": [
        "import numpy as np\r\n",
        "from sklearn import linear_model\r\n",
        "from sklearn import svm\r\n",
        "\r\n",
        "classifiers = [\r\n",
        "    svm.SVR(),\r\n",
        "    linear_model.SGDRegressor(),\r\n",
        "    linear_model.BayesianRidge(),\r\n",
        "    linear_model.LassoLars(),\r\n",
        "    linear_model.ARDRegression(),\r\n",
        "    linear_model.PassiveAggressiveRegressor(),\r\n",
        "    linear_model.TheilSenRegressor(),\r\n",
        "    linear_model.LinearRegression()]"
      ],
      "execution_count": 14,
      "outputs": []
    },
    {
      "cell_type": "code",
      "metadata": {
        "colab": {
          "base_uri": "https://localhost:8080/"
        },
        "id": "Z4yeqyJ2dn5b",
        "outputId": "5f157e30-8001-4ec4-993c-64eae7deaf04"
      },
      "source": [
        "a = np.array([[1, 1, 1], [2, 2, 2]])\r\n",
        "print(a)\r\n",
        "print(a.T)"
      ],
      "execution_count": 54,
      "outputs": [
        {
          "output_type": "stream",
          "text": [
            "[[1 1 1]\n",
            " [2 2 2]]\n",
            "[[1 2]\n",
            " [1 2]\n",
            " [1 2]]\n"
          ],
          "name": "stdout"
        }
      ]
    },
    {
      "cell_type": "code",
      "metadata": {
        "id": "KLqcXG-7njFq"
      },
      "source": [
        "#def fit_clf(clf, X_train, y_train):\n",
        "def fit_clf(X_train, y_train):\n",
        "    \n",
        "    n_clf = y_train.shape[1]\n",
        "    clfs = []\n",
        "    for i in range(n_clf):\n",
        "        clfs.append(LinearRegression())\n",
        "    \n",
        "    for i in range(n_clf):\n",
        "        clfs[i].fit(X_train, y_train[:, i])\n",
        "    \n",
        "    return clfs\n",
        "\n",
        "def predict_clf(clfs, X_test, y_test, metric='micro'):\n",
        "    \n",
        "    y_pred = []\n",
        "\n",
        "    for i in range(len(clfs)):\n",
        "        y_pred.append(clfs[i].predict(X_test))\n",
        "\n",
        "    #print(len(y_pred), len(y_pred[0]))\n",
        "    y_pred = np.asarray(y_pred).T\n",
        "    #print(y_pred[0])\n",
        "\n",
        "    show_metric(y_pred, y_test)\n",
        "\n",
        "    #print('\\nConfusion matrix:\\n', pd.DataFrame(metrics.confusion_matrix(y_test, y_pred)))\n",
        "\n",
        "    #metrics.plot_confusion_matrix(clf, X_test, y_test, values_format='d')\n",
        "    #plt.show()\n",
        "\n",
        "    return y_pred\n",
        "\n",
        "\n",
        "def show_metric(y_pred, y_true):\n",
        "\n",
        "\n",
        "\n",
        "    L2_score = []\n",
        "\n",
        "    for i in range(len(y_pred)):\n",
        "        L2_score.append(np.linalg.norm(y_pred[i] - y_true[i]))\n",
        "\n",
        "    #print(pred, true)\n",
        "\n",
        "    #print(metrics.classification_report(true, pred))\n",
        "\n",
        "    #lev_score.append(Levenshtein.distance(out, true))\n",
        "    \n",
        "\n",
        "    #print('F1-score (%s):\\t%0.3f' % (metric, metrics.f1_score(y_true, y_pred, average=metric)))\n",
        "    #print('F1-score (%s):\\t%0.3f' % (metric, metrics.f1_score(y_true, y_pred, average=metric)))\n",
        "    #print('Recall (%s): \\t%0.3f' % (metric, metrics.recall_score(y_true, y_pred, average=metric)))\n",
        "    #print('Precision (%s):\\t%0.3f' % (metric,metrics.precision_score(y_true, y_pred, average=metric)))\n",
        "    #print('Accuracy:\\t\\t%0.3f' % metrics.accuracy_score(y_true, y_pred))\n",
        "    print('\\nEuclidean distance:\\t%0.3f' % np.mean(L2_score))\n",
        "\n",
        "    # np.linalg.norm(x-y)\n"
      ],
      "execution_count": 41,
      "outputs": []
    },
    {
      "cell_type": "code",
      "metadata": {
        "id": "yi4FkBKmunMh",
        "colab": {
          "base_uri": "https://localhost:8080/"
        },
        "outputId": "07739708-795e-4454-8ec2-9a22e08612d3"
      },
      "source": [
        "#lr = LinearRegression()\r\n",
        "\r\n",
        "lrs = fit_clf(X_train, y_train)\r\n",
        "y_pred = predict_clf(lrs, X_test, y_test) #'weighted'"
      ],
      "execution_count": 43,
      "outputs": [
        {
          "output_type": "stream",
          "text": [
            "\n",
            "Euclidean distance:\t1.144\n"
          ],
          "name": "stdout"
        }
      ]
    },
    {
      "cell_type": "code",
      "metadata": {
        "id": "ZKPAPVMn0OVN"
      },
      "source": [
        ""
      ],
      "execution_count": null,
      "outputs": []
    },
    {
      "cell_type": "code",
      "metadata": {
        "colab": {
          "base_uri": "https://localhost:8080/"
        },
        "id": "BL48u20axjas",
        "outputId": "4fd1e83d-2ee0-4fdc-c6a8-a7b3584de2e7"
      },
      "source": [
        "print(y_test[0])\r\n",
        "print(y_pred[0])"
      ],
      "execution_count": 47,
      "outputs": [
        {
          "output_type": "stream",
          "text": [
            "[-0.67395527  1.03842558 -0.46609802 -0.26750833 -0.08744055 -0.55251648\n",
            "  0.06810237  0.31983177 -0.2124693   0.25121132  0.09961122  0.02914081]\n",
            "[-1.52776019 -0.41384362 -0.43839239  0.56508074 -0.23214492 -0.48060697\n",
            " -0.27259143  0.04865441 -0.20263612  0.11753622 -0.29548488 -0.14340339]\n"
          ],
          "name": "stdout"
        }
      ]
    },
    {
      "cell_type": "code",
      "metadata": {
        "id": "NcIdmfe7g4D_"
      },
      "source": [
        "from sklearn import linear_model\r\n",
        "from sklearn import svm"
      ],
      "execution_count": 65,
      "outputs": []
    },
    {
      "cell_type": "code",
      "metadata": {
        "id": "_j8c3Jf4unJ9",
        "colab": {
          "base_uri": "https://localhost:8080/"
        },
        "outputId": "241cb99a-e865-430f-f06e-fb1ea79e1b68"
      },
      "source": [
        "svc = linear_model.SGDRegressor()\r\n",
        "\r\n",
        "svcs = fit_clf(svc, X_train, y_train)\r\n",
        "y_pred = predict_clf(svcs, X_test, y_test) #'weighted'"
      ],
      "execution_count": 67,
      "outputs": [
        {
          "output_type": "stream",
          "text": [
            "\n",
            "Euclidean distance:\t557722936138315.750\n"
          ],
          "name": "stdout"
        }
      ]
    },
    {
      "cell_type": "code",
      "metadata": {
        "id": "t5ibjcPiunHK"
      },
      "source": [
        ""
      ],
      "execution_count": null,
      "outputs": []
    },
    {
      "cell_type": "code",
      "metadata": {
        "id": "tOJMrgtwzNa3"
      },
      "source": [
        ""
      ],
      "execution_count": null,
      "outputs": []
    },
    {
      "cell_type": "markdown",
      "metadata": {
        "id": "UGcOvwg6isBe"
      },
      "source": [
        "#Классификация фонем"
      ]
    },
    {
      "cell_type": "markdown",
      "metadata": {
        "id": "LlHx1Vm1i6NL"
      },
      "source": [
        "## Decision Tree"
      ]
    },
    {
      "cell_type": "code",
      "metadata": {
        "colab": {
          "base_uri": "https://localhost:8080/"
        },
        "id": "j-zop2EGHPTP",
        "outputId": "8492c9fd-4869-4140-b131-b85c4be35b35"
      },
      "source": [
        "# критерий разделения, максимальная глубина дерева, минимальное число объектов в листе, максимальное число листьев\n",
        "#tree = DecisionTreeClassifier(criterion='entropy', max_depth=5, min_samples_leaf=5, max_leaf_nodes=100) \n",
        "#tree = DecisionTreeClassifier(criterion='entropy', max_depth=7, min_samples_leaf=15, max_leaf_nodes=25)\n",
        "tree = DecisionTreeClassifier()\n",
        "    \n",
        "#cross_val_clf(tree, X_train, y_train)\n",
        "#y_train_allph=np.asarray(y_train_allph).astype('int')\n",
        "#y_train_allph = np.asarray(y_train_allph, dtype='int')\n",
        "#print(y_train_allph.shape)\n",
        "#y_train_allph = y_train_allph.astype('int')\n",
        "tree = fit_clf(tree, X_train_allph, y_train_allph)\n",
        "y_pred = predict_clf(tree, X_test_allph, y_test_allph) #'weighted'"
      ],
      "execution_count": null,
      "outputs": [
        {
          "output_type": "stream",
          "text": [
            "F1-score (micro):\t0.993\n",
            "Recall (micro): \t0.993\n",
            "Precision (micro):\t0.993\n",
            "Accuracy:\t\t0.993\n",
            "\n",
            "Levenshtein distance:\t0.006\n"
          ],
          "name": "stdout"
        }
      ]
    },
    {
      "cell_type": "code",
      "metadata": {
        "colab": {
          "base_uri": "https://localhost:8080/"
        },
        "id": "qZjrHhWjdbRh",
        "outputId": "fd1e5ac4-b9da-40e6-9ed2-56a96ca00c99"
      },
      "source": [
        "y_pred = predict_clf(tree, X_train_allph[:9], y_train_allph[:9])"
      ],
      "execution_count": null,
      "outputs": [
        {
          "output_type": "stream",
          "text": [
            "gr'i1go0r'i4jf' gr'i1go0r'i4jf'\n",
            "F1-score (micro):\t1.000\n",
            "Recall (micro): \t1.000\n",
            "Precision (micro):\t1.000\n",
            "Accuracy:\t\t1.000\n"
          ],
          "name": "stdout"
        }
      ]
    },
    {
      "cell_type": "code",
      "metadata": {
        "colab": {
          "base_uri": "https://localhost:8080/"
        },
        "id": "sjFKaODuTQ2m",
        "outputId": "0af6c1e3-0198-4aec-cd16-5d45ad0858c6"
      },
      "source": [
        "len(y_train_allph)"
      ],
      "execution_count": null,
      "outputs": [
        {
          "output_type": "execute_result",
          "data": {
            "text/plain": [
              "1036158"
            ]
          },
          "metadata": {
            "tags": []
          },
          "execution_count": 116
        }
      ]
    },
    {
      "cell_type": "code",
      "metadata": {
        "colab": {
          "base_uri": "https://localhost:8080/"
        },
        "id": "SEysMKiWTUYH",
        "outputId": "9819099a-612d-47d2-a57c-5510a13072a7"
      },
      "source": [
        "type(y_test_allph[0])"
      ],
      "execution_count": null,
      "outputs": [
        {
          "output_type": "execute_result",
          "data": {
            "text/plain": [
              "int"
            ]
          },
          "metadata": {
            "tags": []
          },
          "execution_count": 75
        }
      ]
    },
    {
      "cell_type": "code",
      "metadata": {
        "id": "O4QJoBCPTbe3"
      },
      "source": [
        "y_test_allph"
      ],
      "execution_count": null,
      "outputs": []
    },
    {
      "cell_type": "code",
      "metadata": {
        "id": "gMfK87TFTAT1"
      },
      "source": [
        "y = np.copy(y_train_allph_1)"
      ],
      "execution_count": null,
      "outputs": []
    },
    {
      "cell_type": "code",
      "metadata": {
        "id": "-XWzWLAISzPK"
      },
      "source": [
        "list(y_train_allph_1)"
      ],
      "execution_count": null,
      "outputs": []
    },
    {
      "cell_type": "code",
      "metadata": {
        "id": "mR5KFRqvXdev"
      },
      "source": [
        "len_word = [0]\r\n",
        "for y in y_test_ph:\r\n",
        "    len_word.append(len_word[-1] + len(y))"
      ],
      "execution_count": null,
      "outputs": []
    },
    {
      "cell_type": "code",
      "metadata": {
        "id": "TUsp80uzhXSS"
      },
      "source": [
        "len_word_train = [0]\r\n",
        "for y in y_train_ph:\r\n",
        "    len_word_train.append(len_word[-1] + len(y))"
      ],
      "execution_count": null,
      "outputs": []
    },
    {
      "cell_type": "code",
      "metadata": {
        "id": "wqRYLy2fe3ay"
      },
      "source": [
        "len_word"
      ],
      "execution_count": null,
      "outputs": []
    },
    {
      "cell_type": "code",
      "metadata": {
        "colab": {
          "base_uri": "https://localhost:8080/"
        },
        "id": "8nsYJipIQ4Vt",
        "outputId": "63b77fd6-5a3d-4a3a-a81b-388eb804187b"
      },
      "source": [
        "y_pred"
      ],
      "execution_count": null,
      "outputs": [
        {
          "output_type": "execute_result",
          "data": {
            "text/plain": [
              "array([38, 19, 33, ..., 37, 49,  8])"
            ]
          },
          "metadata": {
            "tags": []
          },
          "execution_count": 58
        }
      ]
    },
    {
      "cell_type": "code",
      "metadata": {
        "colab": {
          "base_uri": "https://localhost:8080/"
        },
        "id": "3R6WdE0IP-9K",
        "outputId": "58938be5-cb16-4b21-a41b-d2c79feed94a"
      },
      "source": [
        "y_train_allph.shape"
      ],
      "execution_count": null,
      "outputs": [
        {
          "output_type": "execute_result",
          "data": {
            "text/plain": [
              "(1036158,)"
            ]
          },
          "metadata": {
            "tags": []
          },
          "execution_count": 47
        }
      ]
    },
    {
      "cell_type": "code",
      "metadata": {
        "id": "7hLiG439NTLM"
      },
      "source": [
        "for y in y_test_allph:\r\n",
        "    if type(y) != 'int':\r\n",
        "        print(type(y))"
      ],
      "execution_count": null,
      "outputs": []
    },
    {
      "cell_type": "markdown",
      "metadata": {
        "id": "beaCtn5Wi8K-"
      },
      "source": [
        "## Random Forest"
      ]
    },
    {
      "cell_type": "code",
      "metadata": {
        "colab": {
          "base_uri": "https://localhost:8080/"
        },
        "id": "xisO3HDg5LPQ",
        "outputId": "0dfc2823-e12e-4f51-cba8-520e848980e6"
      },
      "source": [
        "rf = RandomForestClassifier(n_estimators=15)\n",
        "\n",
        "#cross_val_clf(rf, X_train, y_train)\n",
        "\n",
        "rf = fit_clf(rf, X_train_allph, y_train_allph)\n",
        "y_pred = predict_clf(rf, X_test_allph, y_test_allph)"
      ],
      "execution_count": null,
      "outputs": [
        {
          "output_type": "stream",
          "text": [
            "F1-score (micro):\t0.980\n",
            "Recall (micro): \t0.980\n",
            "Precision (micro):\t0.980\n",
            "Accuracy:\t\t0.980\n",
            "\n",
            "Levenshtein distance:\t0.028\n"
          ],
          "name": "stdout"
        }
      ]
    },
    {
      "cell_type": "code",
      "metadata": {
        "colab": {
          "base_uri": "https://localhost:8080/"
        },
        "id": "v4lE-j5OZ8Ww",
        "outputId": "ea2dcd34-7f53-4c69-cdf3-5f225e2cd4f9"
      },
      "source": [
        "y_pred = predict_clf(rf, X_train_allph, y_train_allph)"
      ],
      "execution_count": null,
      "outputs": [
        {
          "output_type": "stream",
          "text": [
            "IOPub data rate exceeded.\n",
            "The notebook server will temporarily stop sending output\n",
            "to the client in order to avoid crashing it.\n",
            "To change this limit, set the config variable\n",
            "`--NotebookApp.iopub_data_rate_limit`.\n",
            "\n",
            "Current values:\n",
            "NotebookApp.iopub_data_rate_limit=1000000.0 (bytes/sec)\n",
            "NotebookApp.rate_limit_window=3.0 (secs)\n",
            "\n"
          ],
          "name": "stderr"
        },
        {
          "output_type": "stream",
          "text": [
            "F1-score (micro):\t0.998\n",
            "Recall (micro): \t0.998\n",
            "Precision (micro):\t0.998\n",
            "Accuracy:\t\t0.998\n"
          ],
          "name": "stdout"
        }
      ]
    },
    {
      "cell_type": "markdown",
      "metadata": {
        "id": "TaLLlmsei-it"
      },
      "source": [
        "## Naive Baies \n",
        "\n"
      ]
    },
    {
      "cell_type": "code",
      "metadata": {
        "colab": {
          "base_uri": "https://localhost:8080/"
        },
        "id": "wQFaZu8Bm8Oq",
        "outputId": "b28615f0-11a5-44e5-d45e-24135db84644"
      },
      "source": [
        "nb = GaussianNB(var_smoothing=1e-5) \n",
        "\n",
        "#cross_val_clf(nb, X_train, y_train)\n",
        "\n",
        "nb = fit_clf(nb, X_train_allph, y_train_allph)\n",
        "y_pred = predict_clf(nb, X_test_allph, y_test_allph)"
      ],
      "execution_count": null,
      "outputs": [
        {
          "output_type": "stream",
          "text": [
            "F1-score (micro):\t0.860\n",
            "Recall (micro): \t0.860\n",
            "Precision (micro):\t0.860\n",
            "Accuracy:\t\t0.860\n",
            "\n",
            "Levenshtein distance:\t0.166\n"
          ],
          "name": "stdout"
        }
      ]
    },
    {
      "cell_type": "markdown",
      "metadata": {
        "id": "wwT6TDJ2jDbq"
      },
      "source": [
        "## Logisric Regression (uselsess)"
      ]
    },
    {
      "cell_type": "code",
      "metadata": {
        "colab": {
          "base_uri": "https://localhost:8080/"
        },
        "id": "KpPP6aqEPZSK",
        "outputId": "52926a69-8505-456c-9ae5-e4232d6a6edf"
      },
      "source": [
        "lr = LogisticRegression()\n",
        "\n",
        "#cross_val_clf(lr, X_train, y_train)\n",
        "\n",
        "lr = fit_clf(lr, X_train_allph, y_train_allph)\n",
        "y_pred = predict_clf(lr, X_test_allph, y_test_allph)"
      ],
      "execution_count": null,
      "outputs": [
        {
          "output_type": "stream",
          "text": [
            "F1-score (micro):\t0.363\n",
            "Recall (micro): \t0.363\n",
            "Precision (micro):\t0.363\n",
            "Accuracy:\t\t0.363\n",
            "\n",
            "Levenshtein distance:\t0.961\n"
          ],
          "name": "stdout"
        },
        {
          "output_type": "stream",
          "text": [
            "/usr/local/lib/python3.6/dist-packages/sklearn/linear_model/_logistic.py:940: ConvergenceWarning: lbfgs failed to converge (status=1):\n",
            "STOP: TOTAL NO. of ITERATIONS REACHED LIMIT.\n",
            "\n",
            "Increase the number of iterations (max_iter) or scale the data as shown in:\n",
            "    https://scikit-learn.org/stable/modules/preprocessing.html\n",
            "Please also refer to the documentation for alternative solver options:\n",
            "    https://scikit-learn.org/stable/modules/linear_model.html#logistic-regression\n",
            "  extra_warning_msg=_LOGISTIC_SOLVER_CONVERGENCE_MSG)\n"
          ],
          "name": "stderr"
        }
      ]
    },
    {
      "cell_type": "code",
      "metadata": {
        "id": "SNzxeKpqkg4t"
      },
      "source": [
        ""
      ],
      "execution_count": null,
      "outputs": []
    },
    {
      "cell_type": "markdown",
      "metadata": {
        "id": "gPS5T1oqmBnN"
      },
      "source": [
        "# Классификация по типам пауз и интонационных контуров"
      ]
    },
    {
      "cell_type": "code",
      "metadata": {
        "colab": {
          "base_uri": "https://localhost:8080/"
        },
        "id": "8RNWXGeWlvXJ",
        "outputId": "9f82e473-31dc-45fa-bfc5-3ca0988706ac"
      },
      "source": [
        "# Типы пауз в используемых корпусах\n",
        "\n",
        "print(set(y_ps_train))\n",
        "print(set(y_ps_test))"
      ],
      "execution_count": null,
      "outputs": [
        {
          "output_type": "stream",
          "text": [
            "{0, 'long', 'x-long', 'spelling', 'weak'}\n",
            "{0, 'long', 'x-long', 'spelling', 'weak'}\n"
          ],
          "name": "stdout"
        }
      ]
    },
    {
      "cell_type": "code",
      "metadata": {
        "colab": {
          "base_uri": "https://localhost:8080/"
        },
        "id": "lv6gbd-Reygu",
        "outputId": "29ca37e5-1c07-4738-c681-c08822c14230"
      },
      "source": [
        "# Типы интонационных контуров в используемых корпусах\n",
        "\n",
        "print(set(y_int_train))\n",
        "print(set(y_int_test))"
      ],
      "execution_count": null,
      "outputs": [
        {
          "output_type": "stream",
          "text": [
            "{0, '40', '50', '30', '70', '110', '11'}\n",
            "{0, '40', '50', '30', '70', '110', '11'}\n"
          ],
          "name": "stdout"
        }
      ]
    },
    {
      "cell_type": "markdown",
      "metadata": {
        "id": "72hqNUnYmcsr"
      },
      "source": [
        "## Учитывая нулевой класс"
      ]
    },
    {
      "cell_type": "markdown",
      "metadata": {
        "id": "IprlDmtys2vV"
      },
      "source": [
        "### Decision Tree"
      ]
    },
    {
      "cell_type": "code",
      "metadata": {
        "colab": {
          "base_uri": "https://localhost:8080/"
        },
        "id": "k_WYArogqhzz",
        "outputId": "0f29c030-0644-4b5d-cfb6-d642978d0c4b"
      },
      "source": [
        "tree_2 = DecisionTreeClassifier()\n",
        "    \n",
        "cross_val_clf(tree_2, X_train, y_ps_train, metric='f1_macro') # f1_weighted\n",
        "\n",
        "tree_2 = fit_clf(tree_2, X_train, y_ps_train)\n",
        "y_pred = predict_clf(tree_2, X_test, y_ps_test, metric='macro') # weighted"
      ],
      "execution_count": null,
      "outputs": [
        {
          "output_type": "stream",
          "text": [
            "   Srocc Val Scores (F1)\n",
            "0               0.867442\n",
            "1               0.771254\n",
            "2               0.759452\n",
            "3               0.750449\n",
            "4               0.701569\n",
            "Average:\t0.770\n",
            "\n",
            "              precision    recall  f1-score   support\n",
            "\n",
            "           0       0.98      0.98      0.98       970\n",
            "        long       0.98      1.00      0.99        91\n",
            "    spelling       1.00      1.00      1.00         1\n",
            "        weak       0.91      0.93      0.92       204\n",
            "      x-long       0.00      0.00      0.00         2\n",
            "\n",
            "    accuracy                           0.97      1268\n",
            "   macro avg       0.78      0.78      0.78      1268\n",
            "weighted avg       0.97      0.97      0.97      1268\n",
            "\n",
            "F1-score (macro):\t0.778\n",
            "Recall (macro): \t0.782\n",
            "Precision (macro):\t0.775\n",
            "Accuracy:\t\t0.972\n",
            "\n",
            "Confusion matrix:\n",
            "      0   1  2    3  4\n",
            "0  952   0  0   18  0\n",
            "1    0  91  0    0  0\n",
            "2    0   0  1    0  0\n",
            "3   15   0  0  189  0\n",
            "4    0   2  0    0  0\n"
          ],
          "name": "stdout"
        }
      ]
    },
    {
      "cell_type": "code",
      "metadata": {
        "colab": {
          "base_uri": "https://localhost:8080/"
        },
        "id": "8J1lrenFq-DN",
        "outputId": "f2732622-2f22-4fd5-95ed-584f3287055e"
      },
      "source": [
        "tree_3 = DecisionTreeClassifier()\n",
        "    \n",
        "cross_val_clf(tree_3, X_train, y_int_train, metric='f1_macro')\n",
        "\n",
        "tree_3 = fit_clf(tree_3, X_train, y_int_train)\n",
        "y_pred = predict_clf(tree_3, X_test, y_int_test, metric='macro')"
      ],
      "execution_count": null,
      "outputs": [
        {
          "output_type": "stream",
          "text": [
            "   Srocc Val Scores (F1)\n",
            "0               0.717130\n",
            "1               0.685636\n",
            "2               0.718948\n",
            "3               0.698500\n",
            "4               0.701718\n",
            "Average:\t0.704\n",
            "\n",
            "              precision    recall  f1-score   support\n",
            "\n",
            "           0       0.98      0.98      0.98       970\n",
            "          11       0.93      0.97      0.95        87\n",
            "         110       0.89      0.90      0.89       183\n",
            "          30       0.67      0.50      0.57        12\n",
            "          40       0.83      1.00      0.91        10\n",
            "          50       1.00      0.67      0.80         3\n",
            "          70       0.33      0.33      0.33         3\n",
            "\n",
            "    accuracy                           0.96      1268\n",
            "   macro avg       0.81      0.76      0.78      1268\n",
            "weighted avg       0.96      0.96      0.96      1268\n",
            "\n",
            "F1-score (macro):\t0.777\n",
            "Recall (macro): \t0.764\n",
            "Precision (macro):\t0.805\n",
            "Accuracy:\t\t0.961\n",
            "\n",
            "Confusion matrix:\n",
            "      0   1    2  3   4  5  6\n",
            "0  951   0   18  0   0  0  1\n",
            "1    1  84    0  1   1  0  0\n",
            "2   13   3  165  1   0  0  1\n",
            "3    1   3    2  6   0  0  0\n",
            "4    0   0    0  0  10  0  0\n",
            "5    0   0    0  0   1  2  0\n",
            "6    0   0    1  1   0  0  1\n"
          ],
          "name": "stdout"
        }
      ]
    },
    {
      "cell_type": "markdown",
      "metadata": {
        "id": "txdVhIT-s5wA"
      },
      "source": [
        "### Random Forest"
      ]
    },
    {
      "cell_type": "code",
      "metadata": {
        "colab": {
          "base_uri": "https://localhost:8080/"
        },
        "id": "qlA54YeHHhXe",
        "outputId": "bd236751-caef-430a-813f-0f36964090d1"
      },
      "source": [
        "rf_2 = RandomForestClassifier(n_estimators=15) \n",
        "\n",
        "cross_val_clf(rf_2, X_train, y_ps_train, metric='f1_macro')\n",
        "\n",
        "rf_2 = fit_clf(rf_2, X_train, y_ps_train)\n",
        "y_pred = predict_clf(rf_2, X_test, y_ps_test, metric='macro')"
      ],
      "execution_count": null,
      "outputs": [
        {
          "output_type": "stream",
          "text": [
            "   Srocc Val Scores (F1)\n",
            "0               0.680351\n",
            "1               0.747765\n",
            "2               0.759069\n",
            "3               0.779176\n",
            "4               0.617269\n",
            "Average:\t0.717\n",
            "\n",
            "              precision    recall  f1-score   support\n",
            "\n",
            "           0       0.98      0.99      0.99       970\n",
            "        long       0.98      1.00      0.99        91\n",
            "    spelling       1.00      1.00      1.00         1\n",
            "        weak       0.97      0.92      0.94       204\n",
            "      x-long       0.00      0.00      0.00         2\n",
            "\n",
            "    accuracy                           0.98      1268\n",
            "   macro avg       0.79      0.78      0.78      1268\n",
            "weighted avg       0.98      0.98      0.98      1268\n",
            "\n",
            "F1-score (macro):\t0.784\n",
            "Recall (macro): \t0.782\n",
            "Precision (macro):\t0.787\n",
            "Accuracy:\t\t0.981\n",
            "\n",
            "Confusion matrix:\n",
            "      0   1  2    3  4\n",
            "0  965   0  0    5  0\n",
            "1    0  91  0    0  0\n",
            "2    0   0  1    0  0\n",
            "3   17   0  0  187  0\n",
            "4    0   2  0    0  0\n"
          ],
          "name": "stdout"
        }
      ]
    },
    {
      "cell_type": "code",
      "metadata": {
        "colab": {
          "base_uri": "https://localhost:8080/"
        },
        "id": "ftdSgyHLdFGA",
        "outputId": "23a7e9a0-bf24-44e7-a618-5b05b00c9b7d"
      },
      "source": [
        "rf_3 = RandomForestClassifier(n_estimators=15)\n",
        "\n",
        "cross_val_clf(rf_3, X_train, y_int_train, metric='f1_macro')\n",
        "\n",
        "rf_3 = fit_clf(rf_3, X_train, y_int_train)\n",
        "y_pred = predict_clf(rf_3, X_test, y_int_test, metric='macro')"
      ],
      "execution_count": null,
      "outputs": [
        {
          "output_type": "stream",
          "text": [
            "   Srocc Val Scores (F1)\n",
            "0               0.570505\n",
            "1               0.543288\n",
            "2               0.524875\n",
            "3               0.539155\n",
            "4               0.559745\n",
            "Average:\t0.548\n",
            "\n",
            "              precision    recall  f1-score   support\n",
            "\n",
            "           0       0.98      1.00      0.99       970\n",
            "          11       0.78      0.84      0.81        87\n",
            "         110       0.90      0.89      0.89       183\n",
            "          30       0.33      0.08      0.13        12\n",
            "          40       0.00      0.00      0.00        10\n",
            "          50       0.00      0.00      0.00         3\n",
            "          70       0.00      0.00      0.00         3\n",
            "\n",
            "    accuracy                           0.95      1268\n",
            "   macro avg       0.43      0.40      0.40      1268\n",
            "weighted avg       0.93      0.95      0.94      1268\n",
            "\n",
            "F1-score (macro):\t0.403\n",
            "Recall (macro): \t0.401\n",
            "Precision (macro):\t0.427\n",
            "Accuracy:\t\t0.948\n",
            "\n",
            "Confusion matrix:\n",
            "      0   1    2  3  4  5  6\n",
            "0  966   0    4  0  0  0  0\n",
            "1    4  73   10  0  0  0  0\n",
            "2   18   2  162  1  0  0  0\n",
            "3    0   8    3  1  0  0  0\n",
            "4    1   7    0  1  0  1  0\n",
            "5    0   3    0  0  0  0  0\n",
            "6    0   1    1  0  1  0  0\n"
          ],
          "name": "stdout"
        }
      ]
    },
    {
      "cell_type": "markdown",
      "metadata": {
        "id": "GTcptZTKtCmx"
      },
      "source": [
        "### Naive Baies"
      ]
    },
    {
      "cell_type": "code",
      "metadata": {
        "colab": {
          "base_uri": "https://localhost:8080/"
        },
        "id": "GooiZGmeFPAG",
        "outputId": "b8b7e0f7-7467-4b4f-b7b6-51c75806fd19"
      },
      "source": [
        "nb_2 = GaussianNB(var_smoothing=1e-5)\n",
        "\n",
        "cross_val_clf(nb_2, X_train, y_ps_train, metric='f1_macro')\n",
        "\n",
        "nb_2 = fit_clf(nb_2, X_train, y_ps_train)\n",
        "y_pred = predict_clf(nb_2, X_test, y_ps_test, metric='macro')"
      ],
      "execution_count": null,
      "outputs": [
        {
          "output_type": "stream",
          "text": [
            "   Srocc Val Scores (F1)\n",
            "0               0.551282\n",
            "1               0.689748\n",
            "2               0.685619\n",
            "3               0.614275\n",
            "4               0.495626\n",
            "Average:\t0.607\n",
            "\n",
            "              precision    recall  f1-score   support\n",
            "\n",
            "           0       0.95      0.89      0.92       970\n",
            "        long       0.99      0.87      0.92        91\n",
            "    spelling       1.00      1.00      1.00         1\n",
            "        weak       0.59      0.76      0.67       204\n",
            "      x-long       0.07      0.50      0.12         2\n",
            "\n",
            "    accuracy                           0.87      1268\n",
            "   macro avg       0.72      0.80      0.73      1268\n",
            "weighted avg       0.89      0.87      0.87      1268\n",
            "\n",
            "F1-score (macro):\t0.726\n",
            "Recall (macro): \t0.803\n",
            "Precision (macro):\t0.719\n",
            "Accuracy:\t\t0.865\n",
            "\n",
            "Confusion matrix:\n",
            "      0   1  2    3   4\n",
            "0  861   0  0  107   2\n",
            "1    2  79  0    0  10\n",
            "2    0   0  1    0   0\n",
            "3   48   0  0  155   1\n",
            "4    0   1  0    0   1\n"
          ],
          "name": "stdout"
        }
      ]
    },
    {
      "cell_type": "code",
      "metadata": {
        "colab": {
          "base_uri": "https://localhost:8080/"
        },
        "id": "pab26thwdpba",
        "outputId": "457f1e87-ce50-45ba-ee14-33576b6e00c1"
      },
      "source": [
        "nb_3 = GaussianNB(var_smoothing=1e-5)\n",
        "\n",
        "cross_val_clf(nb_3, X_train, y_int_train, metric='f1_macro')\n",
        "\n",
        "nb_3 = fit_clf(nb_3, X_train, y_int_train)\n",
        "y_pred = predict_clf(nb_3, X_test, y_int_test, metric='macro')"
      ],
      "execution_count": null,
      "outputs": [
        {
          "output_type": "stream",
          "text": [
            "   Srocc Val Scores (F1)\n",
            "0               0.446821\n",
            "1               0.444499\n",
            "2               0.467644\n",
            "3               0.445916\n",
            "4               0.435079\n",
            "Average:\t0.448\n",
            "\n",
            "              precision    recall  f1-score   support\n",
            "\n",
            "           0       0.96      0.75      0.85       970\n",
            "          11       0.75      0.75      0.75        87\n",
            "         110       0.40      0.85      0.54       183\n",
            "          30       0.14      0.17      0.15        12\n",
            "          40       0.00      0.00      0.00        10\n",
            "          50       0.00      0.00      0.00         3\n",
            "          70       0.00      0.00      0.00         3\n",
            "\n",
            "    accuracy                           0.75      1268\n",
            "   macro avg       0.32      0.36      0.33      1268\n",
            "weighted avg       0.85      0.75      0.78      1268\n",
            "\n",
            "F1-score (macro):\t0.327\n",
            "Recall (macro): \t0.359\n",
            "Precision (macro):\t0.322\n",
            "Accuracy:\t\t0.752\n",
            "\n",
            "Confusion matrix:\n",
            "      0   1    2  3  4  5  6\n",
            "0  732   8  219  5  0  0  6\n",
            "1    7  65    9  2  0  1  3\n",
            "2   19   5  155  1  0  0  3\n",
            "3    1   5    3  2  0  1  0\n",
            "4    0   2    0  3  0  5  0\n",
            "5    0   1    0  1  1  0  0\n",
            "6    0   1    1  0  0  1  0\n"
          ],
          "name": "stdout"
        }
      ]
    },
    {
      "cell_type": "markdown",
      "metadata": {
        "id": "UooM6gSvtMsu"
      },
      "source": [
        "### Logistic Regression (useless)"
      ]
    },
    {
      "cell_type": "code",
      "metadata": {
        "colab": {
          "base_uri": "https://localhost:8080/"
        },
        "id": "LVOk50hVTA54",
        "outputId": "f58b7185-682c-4fb0-c68f-5f1309dce777"
      },
      "source": [
        "lr_2 = LogisticRegression() \n",
        "\n",
        "cross_val_clf(lr_2, X_train, y_ps_train, metric='f1_macro')\n",
        "\n",
        "lr_2 = fit_clf(lr_2, X_train, y_ps_train)\n",
        "y_pred = predict_clf(lr_2, X_test, y_ps_test, metric='macro')"
      ],
      "execution_count": null,
      "outputs": [
        {
          "output_type": "stream",
          "text": [
            "   Srocc Val Scores (F1)\n",
            "0               0.568748\n",
            "1               0.712253\n",
            "2               0.716886\n",
            "3               0.696573\n",
            "4               0.558448\n",
            "Average:\t0.651\n",
            "\n",
            "              precision    recall  f1-score   support\n",
            "\n",
            "           0       0.96      0.99      0.98       970\n",
            "        long       0.97      0.98      0.97        91\n",
            "    spelling       0.00      0.00      0.00         1\n",
            "        weak       0.96      0.82      0.89       204\n",
            "      x-long       0.00      0.00      0.00         2\n",
            "\n",
            "    accuracy                           0.96      1268\n",
            "   macro avg       0.58      0.56      0.57      1268\n",
            "weighted avg       0.96      0.96      0.96      1268\n",
            "\n",
            "F1-score (macro):\t0.567\n",
            "Recall (macro): \t0.559\n",
            "Precision (macro):\t0.578\n",
            "Accuracy:\t\t0.962\n",
            "\n",
            "Confusion matrix:\n",
            "      0   1  2    3  4\n",
            "0  963   0  0    7  0\n",
            "1    0  89  0    0  2\n",
            "2    0   1  0    0  0\n",
            "3   36   0  0  168  0\n",
            "4    0   2  0    0  0\n"
          ],
          "name": "stdout"
        }
      ]
    },
    {
      "cell_type": "code",
      "metadata": {
        "colab": {
          "base_uri": "https://localhost:8080/"
        },
        "id": "TPR-JOzgdyhx",
        "outputId": "6867cad7-f767-453c-e502-875dbb7c7564"
      },
      "source": [
        "lr_3 = LogisticRegression() \n",
        "\n",
        "cross_val_clf(lr_3, X_train, y_int_train, metric='f1_macro')\n",
        "\n",
        "lr_3 = fit_clf(lr_3, X_train, y_int_train)\n",
        "y_pred = predict_clf(lr_3, X_test, y_int_test, metric='macro')"
      ],
      "execution_count": null,
      "outputs": [
        {
          "output_type": "stream",
          "text": [
            "   Srocc Val Scores (F1)\n",
            "0               0.382431\n",
            "1               0.378983\n",
            "2               0.391218\n",
            "3               0.385577\n",
            "4               0.383793\n",
            "Average:\t0.384\n",
            "\n",
            "              precision    recall  f1-score   support\n",
            "\n",
            "           0       0.96      0.99      0.98       970\n",
            "          11       0.72      0.78      0.75        87\n",
            "         110       0.86      0.79      0.82       183\n",
            "          30       0.00      0.00      0.00        12\n",
            "          40       0.00      0.00      0.00        10\n",
            "          50       0.00      0.00      0.00         3\n",
            "          70       0.00      0.00      0.00         3\n",
            "\n",
            "    accuracy                           0.93      1268\n",
            "   macro avg       0.36      0.37      0.36      1268\n",
            "weighted avg       0.91      0.93      0.92      1268\n",
            "\n",
            "F1-score (macro):\t0.364\n",
            "Recall (macro): \t0.366\n",
            "Precision (macro):\t0.363\n",
            "Accuracy:\t\t0.927\n",
            "\n",
            "Confusion matrix:\n",
            "      0   1    2  3  4  5  6\n",
            "0  963   0    7  0  0  0  0\n",
            "1    5  68   12  1  1  0  0\n",
            "2   34   4  144  1  0  0  0\n",
            "3    0   8    4  0  0  0  0\n",
            "4    0   9    0  1  0  0  0\n",
            "5    0   3    0  0  0  0  0\n",
            "6    0   2    1  0  0  0  0\n"
          ],
          "name": "stdout"
        }
      ]
    },
    {
      "cell_type": "markdown",
      "metadata": {
        "id": "1elUu2_xn1b0"
      },
      "source": [
        "## Учитывая только ненулевые классы"
      ]
    },
    {
      "cell_type": "code",
      "metadata": {
        "id": "5U2oef7WVxMR"
      },
      "source": [
        "def get_data_klass(X, y, y_ps, y_int):\n",
        "    new_X = []\n",
        "    new_y_ps = []\n",
        "    new_y_int = []\n",
        "    for i in range(len(y)):\n",
        "        if y[i] == 1:\n",
        "            new_X.append(X[i])\n",
        "            new_y_ps.append(y_ps[i])\n",
        "            new_y_int.append(y_int[i])            \n",
        "    \n",
        "    new_X = np.asarray(new_X)\n",
        "    return new_X, new_y_ps, new_y_int"
      ],
      "execution_count": null,
      "outputs": []
    },
    {
      "cell_type": "code",
      "metadata": {
        "id": "PfKJZXneVxPG"
      },
      "source": [
        "X_train_klass, y_ps_train_klass, y_int_train_klass = get_data_klass(X_train, y_train, y_ps_train, y_int_train)"
      ],
      "execution_count": null,
      "outputs": []
    },
    {
      "cell_type": "code",
      "metadata": {
        "id": "-1qn0iVXez-L"
      },
      "source": [
        "X_test_klass, y_ps_test_klass, y_int_test_klass = get_data_klass(X_test, y_test,y_ps_test, y_int_test)"
      ],
      "execution_count": null,
      "outputs": []
    },
    {
      "cell_type": "markdown",
      "metadata": {
        "id": "Ipq2SuDdt98J"
      },
      "source": [
        "### Decision Tree"
      ]
    },
    {
      "cell_type": "code",
      "metadata": {
        "colab": {
          "base_uri": "https://localhost:8080/"
        },
        "id": "bLXFhCy5uBlR",
        "outputId": "e3da9d11-8185-48b5-f785-773784c8a726"
      },
      "source": [
        "tree_4 = DecisionTreeClassifier() \n",
        "\n",
        "cross_val_clf(tree_4, X_train_klass, y_ps_train_klass, metric='f1_macro')\n",
        "\n",
        "tree_4 = fit_clf(tree_4, X_train_klass, y_ps_train_klass)\n",
        "y_pred = predict_clf(tree_4, X_test_klass, y_ps_test_klass, metric='macro')"
      ],
      "execution_count": null,
      "outputs": [
        {
          "output_type": "stream",
          "text": [
            "   Srocc Val Scores (F1)\n",
            "0               0.791165\n",
            "1               0.698472\n",
            "2               0.526820\n",
            "3               0.783776\n",
            "4               0.695893\n",
            "Average:\t0.699\n",
            "\n",
            "              precision    recall  f1-score   support\n",
            "\n",
            "        long       0.98      1.00      0.99        91\n",
            "    spelling       1.00      1.00      1.00         1\n",
            "        weak       1.00      1.00      1.00       204\n",
            "      x-long       0.00      0.00      0.00         2\n",
            "\n",
            "    accuracy                           0.99       298\n",
            "   macro avg       0.74      0.75      0.75       298\n",
            "weighted avg       0.99      0.99      0.99       298\n",
            "\n",
            "F1-score (macro):\t0.747\n",
            "Recall (macro): \t0.750\n",
            "Precision (macro):\t0.745\n",
            "Accuracy:\t\t0.993\n",
            "\n",
            "Confusion matrix:\n",
            "     0  1    2  3\n",
            "0  91  0    0  0\n",
            "1   0  1    0  0\n",
            "2   0  0  204  0\n",
            "3   2  0    0  0\n"
          ],
          "name": "stdout"
        }
      ]
    },
    {
      "cell_type": "code",
      "metadata": {
        "colab": {
          "base_uri": "https://localhost:8080/"
        },
        "id": "mjwBVTw-uByW",
        "outputId": "b0ab0f68-5c76-4e41-8714-a8ede814ba5f"
      },
      "source": [
        "tree_5 = DecisionTreeClassifier() \n",
        "\n",
        "cross_val_clf(tree_5, X_train_klass, y_int_train_klass, metric='f1_macro')\n",
        "\n",
        "tree_5 = fit_clf(tree_5, X_train_klass, y_int_train_klass)\n",
        "y_pred = predict_clf(tree_5, X_test_klass, y_int_test_klass, metric='macro')"
      ],
      "execution_count": null,
      "outputs": [
        {
          "output_type": "stream",
          "text": [
            "   Srocc Val Scores (F1)\n",
            "0               0.692425\n",
            "1               0.650763\n",
            "2               0.696817\n",
            "3               0.679019\n",
            "4               0.669869\n",
            "Average:\t0.678\n",
            "\n",
            "              precision    recall  f1-score   support\n",
            "\n",
            "          11       0.97      0.95      0.96        87\n",
            "         110       0.97      0.98      0.98       183\n",
            "          30       0.64      0.58      0.61        12\n",
            "          40       0.83      1.00      0.91        10\n",
            "          50       1.00      0.67      0.80         3\n",
            "          70       0.33      0.33      0.33         3\n",
            "\n",
            "    accuracy                           0.95       298\n",
            "   macro avg       0.79      0.75      0.76       298\n",
            "weighted avg       0.95      0.95      0.95       298\n",
            "\n",
            "F1-score (macro):\t0.764\n",
            "Recall (macro): \t0.753\n",
            "Precision (macro):\t0.790\n",
            "Accuracy:\t\t0.946\n",
            "\n",
            "Confusion matrix:\n",
            "     0    1  2   3  4  5\n",
            "0  83    1  2   1  0  0\n",
            "1   1  179  1   0  0  2\n",
            "2   2    3  7   0  0  0\n",
            "3   0    0  0  10  0  0\n",
            "4   0    0  0   1  2  0\n",
            "5   0    1  1   0  0  1\n"
          ],
          "name": "stdout"
        }
      ]
    },
    {
      "cell_type": "markdown",
      "metadata": {
        "id": "Ye-WOyjMtebR"
      },
      "source": [
        "### Random Forest"
      ]
    },
    {
      "cell_type": "code",
      "metadata": {
        "colab": {
          "base_uri": "https://localhost:8080/"
        },
        "id": "wRz3VLd4eyYN",
        "outputId": "049854ca-c5e4-49fa-c998-ae23233a080c"
      },
      "source": [
        "rf_4 = RandomForestClassifier(n_estimators=15) \n",
        "\n",
        "cross_val_clf(rf_4, X_train_klass, y_ps_train_klass, metric='f1_macro')\n",
        "\n",
        "rf_4 = fit_clf(rf_4, X_train_klass, y_ps_train_klass)\n",
        "y_pred = predict_clf(rf_4, X_test_klass, y_ps_test_klass, metric='macro')"
      ],
      "execution_count": null,
      "outputs": [
        {
          "output_type": "stream",
          "text": [
            "   Srocc Val Scores (F1)\n",
            "0               0.861885\n",
            "1               0.698941\n",
            "2               0.524659\n",
            "3               0.540726\n",
            "4               0.687454\n",
            "Average:\t0.663\n",
            "\n",
            "              precision    recall  f1-score   support\n",
            "\n",
            "        long       0.98      1.00      0.99        91\n",
            "    spelling       1.00      1.00      1.00         1\n",
            "        weak       1.00      1.00      1.00       204\n",
            "      x-long       0.00      0.00      0.00         2\n",
            "\n",
            "    accuracy                           0.99       298\n",
            "   macro avg       0.74      0.75      0.75       298\n",
            "weighted avg       0.99      0.99      0.99       298\n",
            "\n",
            "F1-score (macro):\t0.747\n",
            "Recall (macro): \t0.750\n",
            "Precision (macro):\t0.745\n",
            "Accuracy:\t\t0.993\n",
            "\n",
            "Confusion matrix:\n",
            "     0  1    2  3\n",
            "0  91  0    0  0\n",
            "1   0  1    0  0\n",
            "2   0  0  204  0\n",
            "3   2  0    0  0\n"
          ],
          "name": "stdout"
        }
      ]
    },
    {
      "cell_type": "code",
      "metadata": {
        "colab": {
          "base_uri": "https://localhost:8080/"
        },
        "id": "geRH-zgFVlPi",
        "outputId": "68330392-4bf6-4784-9608-e2d892e6eb83"
      },
      "source": [
        "rf_5 = RandomForestClassifier(n_estimators=15)\n",
        "\n",
        "cross_val_clf(rf_5, X_train_klass, y_int_train_klass, metric='f1_macro')\n",
        "\n",
        "rf_5 = fit_clf(rf_5, X_train_klass, y_int_train_klass)\n",
        "y_pred = predict_clf(rf_5, X_test_klass, y_int_test_klass, metric='macro')"
      ],
      "execution_count": null,
      "outputs": [
        {
          "output_type": "stream",
          "text": [
            "   Srocc Val Scores (F1)\n",
            "0               0.514429\n",
            "1               0.513018\n",
            "2               0.562370\n",
            "3               0.536692\n",
            "4               0.514112\n",
            "Average:\t0.528\n",
            "\n",
            "              precision    recall  f1-score   support\n",
            "\n",
            "          11       0.81      0.86      0.83        87\n",
            "         110       0.93      0.99      0.96       183\n",
            "          30       1.00      0.08      0.15        12\n",
            "          40       0.88      0.70      0.78        10\n",
            "          50       0.00      0.00      0.00         3\n",
            "          70       0.00      0.00      0.00         3\n",
            "\n",
            "    accuracy                           0.89       298\n",
            "   macro avg       0.60      0.44      0.45       298\n",
            "weighted avg       0.88      0.89      0.86       298\n",
            "\n",
            "F1-score (macro):\t0.454\n",
            "Recall (macro): \t0.439\n",
            "Precision (macro):\t0.602\n",
            "Accuracy:\t\t0.886\n",
            "\n",
            "Confusion matrix:\n",
            "     0    1  2  3  4  5\n",
            "0  75   10  0  1  1  0\n",
            "1   2  181  0  0  0  0\n",
            "2   8    3  1  0  0  0\n",
            "3   3    0  0  7  0  0\n",
            "4   3    0  0  0  0  0\n",
            "5   2    1  0  0  0  0\n"
          ],
          "name": "stdout"
        }
      ]
    },
    {
      "cell_type": "markdown",
      "metadata": {
        "id": "LO8CiE76ti_V"
      },
      "source": [
        "### Naive Baies"
      ]
    },
    {
      "cell_type": "code",
      "metadata": {
        "colab": {
          "base_uri": "https://localhost:8080/"
        },
        "id": "GA5SbALhqHk6",
        "outputId": "13aebcc3-db5e-4d6e-c15c-cc092820b02f"
      },
      "source": [
        "nb_4 = GaussianNB(var_smoothing=1e-5)\n",
        "\n",
        "cross_val_clf(nb_4, X_train_klass, y_ps_train_klass, metric='f1_macro')\n",
        "\n",
        "nb_4 = fit_clf(nb_4, X_train_klass, y_ps_train_klass)\n",
        "y_pred = predict_clf(nb_4, X_test_klass, y_ps_test_klass, metric='macro')"
      ],
      "execution_count": null,
      "outputs": [
        {
          "output_type": "stream",
          "text": [
            "   Srocc Val Scores (F1)\n",
            "0               0.726739\n",
            "1               0.726196\n",
            "2               0.534057\n",
            "3               0.479576\n",
            "4               0.649860\n",
            "Average:\t0.623\n",
            "\n",
            "              precision    recall  f1-score   support\n",
            "\n",
            "        long       0.99      0.89      0.94        91\n",
            "    spelling       1.00      1.00      1.00         1\n",
            "        weak       1.00      1.00      1.00       204\n",
            "      x-long       0.08      0.50      0.14         2\n",
            "\n",
            "    accuracy                           0.96       298\n",
            "   macro avg       0.77      0.85      0.77       298\n",
            "weighted avg       0.99      0.96      0.97       298\n",
            "\n",
            "F1-score (macro):\t0.769\n",
            "Recall (macro): \t0.846\n",
            "Precision (macro):\t0.768\n",
            "Accuracy:\t\t0.960\n",
            "\n",
            "Confusion matrix:\n",
            "     0  1    2   3\n",
            "0  81  0    0  10\n",
            "1   0  1    0   0\n",
            "2   0  0  203   1\n",
            "3   1  0    0   1\n"
          ],
          "name": "stdout"
        }
      ]
    },
    {
      "cell_type": "code",
      "metadata": {
        "colab": {
          "base_uri": "https://localhost:8080/"
        },
        "id": "rcYRv3SZqHbm",
        "outputId": "0c2c9475-2a7d-47b2-ab9c-83cbde10d798"
      },
      "source": [
        "nb_5 = GaussianNB(var_smoothing=1e-5)\n",
        "\n",
        "cross_val_clf(nb_5, X_train_klass, y_int_train_klass, metric='f1_macro')\n",
        "\n",
        "nb_5 = fit_clf(nb_5, X_train_klass, y_int_train_klass)\n",
        "y_pred = predict_clf(nb_5, X_test_klass, y_int_test_klass, metric='macro')"
      ],
      "execution_count": null,
      "outputs": [
        {
          "output_type": "stream",
          "text": [
            "   Srocc Val Scores (F1)\n",
            "0               0.456889\n",
            "1               0.451720\n",
            "2               0.474249\n",
            "3               0.459170\n",
            "4               0.449166\n",
            "Average:\t0.458\n",
            "\n",
            "              precision    recall  f1-score   support\n",
            "\n",
            "          11       0.83      0.78      0.80        87\n",
            "         110       0.92      0.94      0.93       183\n",
            "          30       0.17      0.17      0.17        12\n",
            "          40       0.00      0.00      0.00        10\n",
            "          50       0.00      0.00      0.00         3\n",
            "          70       0.00      0.00      0.00         3\n",
            "\n",
            "    accuracy                           0.81       298\n",
            "   macro avg       0.32      0.31      0.32       298\n",
            "weighted avg       0.81      0.81      0.81       298\n",
            "\n",
            "F1-score (macro):\t0.317\n",
            "Recall (macro): \t0.315\n",
            "Precision (macro):\t0.319\n",
            "Accuracy:\t\t0.812\n",
            "\n",
            "Confusion matrix:\n",
            "     0    1  2  3  4  5\n",
            "0  68   10  3  0  1  5\n",
            "1   5  172  3  0  0  3\n",
            "2   5    4  2  0  1  0\n",
            "3   2    0  3  0  5  0\n",
            "4   1    0  1  1  0  0\n",
            "5   1    1  0  0  1  0\n"
          ],
          "name": "stdout"
        }
      ]
    },
    {
      "cell_type": "markdown",
      "metadata": {
        "id": "xt_-sfFUt0vf"
      },
      "source": [
        "### Logistic Regression (useless)"
      ]
    },
    {
      "cell_type": "code",
      "metadata": {
        "colab": {
          "base_uri": "https://localhost:8080/"
        },
        "id": "Cn5v6fdqqHge",
        "outputId": "bb6c8c58-2c5e-4230-83ff-9e9a09195634"
      },
      "source": [
        "lr_4 = LogisticRegression() \n",
        "\n",
        "cross_val_clf(lr_4, X_train_klass, y_ps_train_klass, metric='f1_macro')\n",
        "\n",
        "lr_4 = fit_clf(lr_4, X_train_klass, y_ps_train_klass)\n",
        "y_pred = predict_clf(lr_4, X_test_klass, y_ps_test_klass, metric='macro')"
      ],
      "execution_count": null,
      "outputs": [
        {
          "output_type": "stream",
          "text": [
            "   Srocc Val Scores (F1)\n",
            "0               0.663879\n",
            "1               0.676067\n",
            "2               0.507265\n",
            "3               0.525606\n",
            "4               0.693388\n",
            "Average:\t0.613\n",
            "\n",
            "              precision    recall  f1-score   support\n",
            "\n",
            "        long       0.97      1.00      0.98        91\n",
            "    spelling       0.00      0.00      0.00         1\n",
            "        weak       1.00      1.00      1.00       204\n",
            "      x-long       0.00      0.00      0.00         2\n",
            "\n",
            "    accuracy                           0.99       298\n",
            "   macro avg       0.49      0.50      0.50       298\n",
            "weighted avg       0.98      0.99      0.98       298\n",
            "\n",
            "F1-score (macro):\t0.496\n",
            "Recall (macro): \t0.500\n",
            "Precision (macro):\t0.492\n",
            "Accuracy:\t\t0.990\n",
            "\n",
            "Confusion matrix:\n",
            "     0  1    2  3\n",
            "0  91  0    0  0\n",
            "1   1  0    0  0\n",
            "2   0  0  204  0\n",
            "3   2  0    0  0\n"
          ],
          "name": "stdout"
        }
      ]
    },
    {
      "cell_type": "code",
      "metadata": {
        "colab": {
          "base_uri": "https://localhost:8080/"
        },
        "id": "Y_fkrvtrqHTM",
        "outputId": "f840a40f-3c5b-49f3-fee4-31884e62ceb8"
      },
      "source": [
        "lr_5 = LogisticRegression() \n",
        "\n",
        "cross_val_clf(lr_5, X_train_klass, y_int_train_klass, metric='f1_macro')\n",
        "\n",
        "lr_5 = fit_clf(lr_5, X_train_klass, y_int_train_klass)\n",
        "y_pred = predict_clf(lr_5, X_test_klass, y_int_test_klass, metric='macro')"
      ],
      "execution_count": null,
      "outputs": [
        {
          "output_type": "stream",
          "text": [
            "   Srocc Val Scores (F1)\n",
            "0               0.329306\n",
            "1               0.345180\n",
            "2               0.350029\n",
            "3               0.363210\n",
            "4               0.369945\n",
            "Average:\t0.352\n",
            "\n",
            "              precision    recall  f1-score   support\n",
            "\n",
            "          11       0.71      0.80      0.75        87\n",
            "         110       0.89      0.97      0.93       183\n",
            "          30       0.00      0.00      0.00        12\n",
            "          40       0.00      0.00      0.00        10\n",
            "          50       0.00      0.00      0.00         3\n",
            "          70       0.00      0.00      0.00         3\n",
            "\n",
            "    accuracy                           0.83       298\n",
            "   macro avg       0.27      0.30      0.28       298\n",
            "weighted avg       0.76      0.83      0.79       298\n",
            "\n",
            "F1-score (macro):\t0.280\n",
            "Recall (macro): \t0.295\n",
            "Precision (macro):\t0.267\n",
            "Accuracy:\t\t0.829\n",
            "\n",
            "Confusion matrix:\n",
            "     0    1  2  3  4  5\n",
            "0  70   16  0  0  0  1\n",
            "1   6  177  0  0  0  0\n",
            "2   8    4  0  0  0  0\n",
            "3  10    0  0  0  0  0\n",
            "4   3    0  0  0  0  0\n",
            "5   2    1  0  0  0  0\n"
          ],
          "name": "stdout"
        }
      ]
    },
    {
      "cell_type": "markdown",
      "metadata": {
        "id": "oDAnMIHArR1T"
      },
      "source": [
        "# Комбинирование классификаторов"
      ]
    },
    {
      "cell_type": "markdown",
      "metadata": {
        "id": "CsT619wWradZ"
      },
      "source": [
        "Вариант с классификаторами, обученных на одинаковых данных\n",
        "\n",
        "1. **Случайный лес** (расстановка пауз)\n",
        "2. Определение длительности паузы --- **Случайный лес** или Дерево решений\n",
        "3. Определение интонационного контура --- Дерево решений"
      ]
    },
    {
      "cell_type": "markdown",
      "metadata": {
        "id": "N6_m4rYnrz1V"
      },
      "source": [
        "Вариант, со специально обученными классификаторами\n",
        "\n",
        "1. Random Forest\n",
        "2. Naive Baies \n",
        "3. Decision Tree"
      ]
    },
    {
      "cell_type": "code",
      "metadata": {
        "id": "_LrjE4xqr89C"
      },
      "source": [
        "def clf_prosodic(X, clf, clf_ps, clf_int):\n",
        "    y_pred = clf.predict(X) # определение пауз\n",
        "\n",
        "    new_X = []\n",
        "    for i in range(len(y_pred)):\n",
        "        if y_pred[i] == 1:\n",
        "            new_X.append(X[i])\n",
        "\n",
        "    y_ps = clf_ps.predict(new_X)\n",
        "    y_int = clf_int.predict(new_X)\n",
        "    \n",
        "    y_ps_pred = []\n",
        "    y_int_pred = []\n",
        "\n",
        "    count = 0\n",
        "    for i in range(len(y_pred)):\n",
        "        if y_pred[i] == 1:\n",
        "            y_ps_pred.append(y_ps[count])\n",
        "            y_int_pred.append(y_int[count])\n",
        "            count += 1\n",
        "        else:\n",
        "            y_ps_pred.append(0)\n",
        "            y_int_pred.append(0)\n",
        "\n",
        "    return y_pred, y_ps_pred, y_int_pred"
      ],
      "execution_count": null,
      "outputs": []
    },
    {
      "cell_type": "code",
      "metadata": {
        "id": "1unZD3yTXhhs"
      },
      "source": [
        "def clf_score(y_pred, y, metric='binary'):\n",
        "\n",
        "    print(metrics.classification_report(y, y_pred))\n",
        "\n",
        "    print('F1-score (%s):\\t%0.3f' % (metric, metrics.f1_score(y, y_pred, average=metric)))\n",
        "    print('Recall (%s): \\t%0.3f' % (metric, metrics.recall_score(y, y_pred, average=metric)))\n",
        "    print('Precision (%s):\\t%0.3f' % (metric,metrics.precision_score(y, y_pred, average=metric)))\n",
        "    print('Accuracy:\\t\\t%0.3f' % metrics.accuracy_score(y, y_pred))\n",
        "\n",
        "    print('\\nConfusion matrix:\\n', pd.DataFrame(metrics.confusion_matrix(y, y_pred)))"
      ],
      "execution_count": null,
      "outputs": []
    },
    {
      "cell_type": "code",
      "metadata": {
        "id": "c3RR1Ar-r4u2"
      },
      "source": [
        "y_pred, y_ps_pred, y_int_pred = clf_prosodic(X_test, rf, nb_4, tree_5)"
      ],
      "execution_count": null,
      "outputs": []
    },
    {
      "cell_type": "code",
      "metadata": {
        "colab": {
          "base_uri": "https://localhost:8080/"
        },
        "id": "mPKTUvXXr5p1",
        "outputId": "0b7130a1-6283-4ac0-8c7e-ed4bf2d063e8"
      },
      "source": [
        "clf_score(y_pred, y_test, metric='macro')"
      ],
      "execution_count": null,
      "outputs": [
        {
          "output_type": "stream",
          "text": [
            "              precision    recall  f1-score   support\n",
            "\n",
            "           0       0.98      1.00      0.99       970\n",
            "           1       0.99      0.94      0.97       298\n",
            "\n",
            "    accuracy                           0.98      1268\n",
            "   macro avg       0.99      0.97      0.98      1268\n",
            "weighted avg       0.98      0.98      0.98      1268\n",
            "\n",
            "F1-score (macro):\t0.978\n",
            "Recall (macro): \t0.970\n",
            "Precision (macro):\t0.986\n",
            "Accuracy:\t\t0.984\n",
            "\n",
            "Confusion matrix:\n",
            "      0    1\n",
            "0  967    3\n",
            "1   17  281\n"
          ],
          "name": "stdout"
        }
      ]
    },
    {
      "cell_type": "code",
      "metadata": {
        "colab": {
          "base_uri": "https://localhost:8080/"
        },
        "id": "JTBjJn5Ur5YT",
        "outputId": "0789e128-bf5c-48aa-8dac-54f006674f95"
      },
      "source": [
        "clf_score(y_ps_pred, y_ps_test, metric='macro')"
      ],
      "execution_count": null,
      "outputs": [
        {
          "output_type": "stream",
          "text": [
            "              precision    recall  f1-score   support\n",
            "\n",
            "           0       0.98      1.00      0.99       970\n",
            "        long       0.99      0.89      0.94        91\n",
            "    spelling       1.00      1.00      1.00         1\n",
            "        weak       0.98      0.91      0.95       204\n",
            "      x-long       0.08      0.50      0.14         2\n",
            "\n",
            "    accuracy                           0.97      1268\n",
            "   macro avg       0.81      0.86      0.80      1268\n",
            "weighted avg       0.98      0.97      0.98      1268\n",
            "\n",
            "F1-score (macro):\t0.803\n",
            "Recall (macro): \t0.860\n",
            "Precision (macro):\t0.808\n",
            "Accuracy:\t\t0.975\n",
            "\n",
            "Confusion matrix:\n",
            "      0   1  2    3   4\n",
            "0  967   0  0    3   0\n",
            "1    0  81  0    0  10\n",
            "2    0   0  1    0   0\n",
            "3   17   0  0  186   1\n",
            "4    0   1  0    0   1\n"
          ],
          "name": "stdout"
        }
      ]
    },
    {
      "cell_type": "code",
      "metadata": {
        "colab": {
          "base_uri": "https://localhost:8080/"
        },
        "id": "lIRKPp6Fr5Ue",
        "outputId": "ddea0bda-9801-416f-8ada-808fdb24486e"
      },
      "source": [
        "clf_score(y_int_pred, y_int_test, metric='macro')"
      ],
      "execution_count": null,
      "outputs": [
        {
          "output_type": "stream",
          "text": [
            "              precision    recall  f1-score   support\n",
            "\n",
            "           0       0.98      1.00      0.99       970\n",
            "          11       0.96      0.93      0.95        87\n",
            "         110       0.96      0.90      0.93       183\n",
            "          30       0.64      0.58      0.61        12\n",
            "          40       0.83      1.00      0.91        10\n",
            "          50       1.00      0.67      0.80         3\n",
            "          70       0.33      0.33      0.33         3\n",
            "\n",
            "    accuracy                           0.97      1268\n",
            "   macro avg       0.82      0.77      0.79      1268\n",
            "weighted avg       0.97      0.97      0.97      1268\n",
            "\n",
            "F1-score (macro):\t0.788\n",
            "Recall (macro): \t0.773\n",
            "Precision (macro):\t0.816\n",
            "Accuracy:\t\t0.972\n",
            "\n",
            "Confusion matrix:\n",
            "      0   1    2  3   4  5  6\n",
            "0  967   0    3  0   0  0  0\n",
            "1    3  81    0  2   1  0  0\n",
            "2   14   1  165  1   0  0  2\n",
            "3    0   2    3  7   0  0  0\n",
            "4    0   0    0  0  10  0  0\n",
            "5    0   0    0  0   1  2  0\n",
            "6    0   0    1  1   0  0  1\n"
          ],
          "name": "stdout"
        }
      ]
    }
  ]
}