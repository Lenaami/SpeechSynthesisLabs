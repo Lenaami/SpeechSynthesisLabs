{
  "nbformat": 4,
  "nbformat_minor": 0,
  "metadata": {
    "colab": {
      "name": "SS_lab4",
      "provenance": [],
      "collapsed_sections": [],
      "toc_visible": true,
      "authorship_tag": "ABX9TyNKb0T/etLQJJ/AYIyAhWDm",
      "include_colab_link": true
    },
    "kernelspec": {
      "name": "python3",
      "display_name": "Python 3"
    },
    "accelerator": "GPU"
  },
  "cells": [
    {
      "cell_type": "markdown",
      "metadata": {
        "id": "view-in-github",
        "colab_type": "text"
      },
      "source": [
        "<a href=\"https://colab.research.google.com/github/Lenaami/SpeechSynthesisLabs/blob/main/SS_lab4.ipynb\" target=\"_parent\"><img src=\"https://colab.research.google.com/assets/colab-badge.svg\" alt=\"Open In Colab\"/></a>"
      ]
    },
    {
      "cell_type": "code",
      "metadata": {
        "colab": {
          "base_uri": "https://localhost:8080/"
        },
        "id": "nE_O2ye2NxIG",
        "outputId": "05f60962-a4e2-4b3b-f842-e72a678b7a21"
      },
      "source": [
        "from google.colab import drive\n",
        "drive.mount('/content/gdrive')"
      ],
      "execution_count": 2,
      "outputs": [
        {
          "output_type": "stream",
          "text": [
            "Mounted at /content/gdrive\n"
          ],
          "name": "stdout"
        }
      ]
    },
    {
      "cell_type": "code",
      "metadata": {
        "id": "LjbICZ1UNxFf"
      },
      "source": [
        "path = '/content/gdrive/My Drive/Colab Notebooks/Синтез речи/'"
      ],
      "execution_count": 3,
      "outputs": []
    },
    {
      "cell_type": "code",
      "metadata": {
        "id": "Z3t3WxJKWWoF"
      },
      "source": [
        "book1 = 'r_hod.Result.xml'\n",
        "book2 = 'tropa.Result.xml' #самый большой\n",
        "book3 = 'whtguard.Result.xml'"
      ],
      "execution_count": 4,
      "outputs": []
    },
    {
      "cell_type": "markdown",
      "metadata": {
        "id": "lKVWcZSzjQr1"
      },
      "source": [
        "# Парсинг xml"
      ]
    },
    {
      "cell_type": "code",
      "metadata": {
        "id": "CoBO8OkFNxDE"
      },
      "source": [
        "import xml.etree.ElementTree as ET \n",
        "import numpy as np\n",
        "import re"
      ],
      "execution_count": 5,
      "outputs": []
    },
    {
      "cell_type": "code",
      "metadata": {
        "id": "GDZaYA1z6ws_"
      },
      "source": [
        "def isNone(a):\n",
        "    return int(a) if a is not None else -1"
      ],
      "execution_count": 6,
      "outputs": []
    },
    {
      "cell_type": "code",
      "metadata": {
        "id": "GbiBZtcKesLF"
      },
      "source": [
        "# Создание словарей\r\n",
        "\r\n",
        "allophones = ['']\r\n",
        "\r\n",
        "books = [book1, book2, book3]\r\n",
        "\r\n",
        "for book in books:\r\n",
        "    tree = ET.parse(path + book)\r\n",
        "    root = tree.getroot()\r\n",
        "\r\n",
        "    for snt in root.findall('sentence'):\r\n",
        "        for feat in snt:\r\n",
        "            if feat.tag == 'word':         \r\n",
        "                for lt in feat:\r\n",
        "                    if lt.tag == 'allophone': \r\n",
        "                        allophones.append(lt.get('ph'))    \r\n",
        "\r\n",
        "\r\n",
        "allophones = set(allophones)\r\n",
        "allophones_dict = {ph:i for i,ph in enumerate(allophones)}\r\n",
        "num_to_allophones = {i:ph for i,ph in enumerate(allophones)}"
      ],
      "execution_count": 7,
      "outputs": []
    },
    {
      "cell_type": "code",
      "metadata": {
        "id": "wgB56mEgf1Hw"
      },
      "source": [
        "def get_data(file):  \n",
        "    X_mfcc = [] \n",
        "    y_mfcc = []\n",
        "\n",
        "    tree = ET.parse(file)\n",
        "    root = tree.getroot()\n",
        "\n",
        "    tags = ['word', 'pause']\n",
        "\n",
        "    for snt in root.findall('sentence'):\n",
        "        features = []\n",
        "        feat_wrd = []\n",
        "\n",
        "        features_ph = []\n",
        "        features_ft_stc = []\n",
        "        allophone_stc = []\n",
        "\n",
        "        allph_wrd = []\n",
        "\n",
        "        pause_pred = 0\n",
        "        count = 0\n",
        "        count_ph = 0\n",
        "        for feat in snt:\n",
        "\n",
        "            if feat.tag not in tags:\n",
        "                continue\n",
        "\n",
        "            if feat.tag == 'word':\n",
        "                if pause_pred:\n",
        "                    feat_wrd.append(1) # пауза до слова\n",
        "                    feat_wrd.append(0) # пауза после слова (предв.)\n",
        "                    feat_wrd.append(0) # длительность паузы\n",
        "                    pause_pred = 0\n",
        "                else:\n",
        "                    feat_wrd.append(0)\n",
        "                    feat_wrd.append(0)\n",
        "                    feat_wrd.append(0)\n",
        "\n",
        "                dct = feat.find('dictitem')\n",
        "                feat_wrd.append(isNone(dct.get('stress_dict'))) # ударение\n",
        "                feat_wrd.append(-1) # ударение (предв.)\n",
        "                \n",
        "                allph_wrd = [''] # нет фонемы до слова\n",
        "                features_ph = []\n",
        "\n",
        "                for lt in feat:                    \n",
        " \n",
        "                    if lt.tag == 'allophone':                        \n",
        "                        allph_wrd.append(lt.get('ph'))\n",
        "                        feat_ph = []\n",
        "                        feat_ph.append(isNone(lt.get('FO_INIT'))) # частота основного тона\n",
        "                        for i in range(1, 4):\n",
        "                            feat_ph.append(isNone(lt.get('FO' + str(i))))  # частота основного тона\n",
        "                        feat_ph.extend(np.asarray(lt.get('En').split('|')[1:-1], dtype='int')) # энергия\n",
        "                        feat_ph.append(len(allph_wrd) - 2) # позиция в слове\n",
        "                        feat_ph.append(count_ph) # позиция в предложении\n",
        "                        count_ph += 1\n",
        "\n",
        "                        features_ph.append(feat_ph)\n",
        "\n",
        "                        y_mfcc.append(np.asarray(lt.get('mfcc').split('|')[1:-1], dtype='float')) # значения MFCC для аллофона\n",
        "\n",
        "\n",
        "                    if lt.tag == 'stress':\n",
        "                        feat_wrd[-1] = len(allph_wrd) # позиция ударной фонемы                    \n",
        "\n",
        "                allph_wrd.append('') # нет фонемы после слова\n",
        "                feat_wrd.append(count) # позиция слова в предложении\n",
        "                count += 1 # подсчет слов              \n",
        "               \n",
        "                features.append(feat_wrd)\n",
        "                features_ft_stc.append(features_ph)\n",
        "                allophone_stc.append(allph_wrd)\n",
        "                feat_wrd = []\n",
        "\n",
        "            if feat.tag == 'pause':\n",
        "                features[-1][1] = 1 # пауза после слова\n",
        "                features[-1][2] = isNone(feat.get('time')) # время паузы\n",
        "                pause_pred = 1             \n",
        "\n",
        "        # объединение \n",
        "        for i in range(count):\n",
        "            for l in range(len(allophone_stc[i]) - 2):\n",
        "                feat = [allophone_stc[i][l+1], allophone_stc[i][l], allophone_stc[i][l+2]] # текущая фонема, перед и после\n",
        "                feat = [allophones_dict.get(s) for s in feat] # перевод из буквы в цифру\n",
        "                feat.extend(features_ft_stc[i][l])\n",
        "                feat.extend(features[i])\n",
        "                feat.append(count)\n",
        "\n",
        "                X_mfcc.append(feat)\n",
        "       \n",
        "    return np.asarray(X_mfcc), np.asarray(y_mfcc)"
      ],
      "execution_count": 8,
      "outputs": []
    },
    {
      "cell_type": "code",
      "metadata": {
        "id": "PvRXn9cAmDPr"
      },
      "source": [
        "X_train_1, y_train_1 = get_data(path + book2)"
      ],
      "execution_count": 9,
      "outputs": []
    },
    {
      "cell_type": "code",
      "metadata": {
        "id": "NintYyjTvlI5"
      },
      "source": [
        "X_train_2, y_train_2 = get_data(path + book3)"
      ],
      "execution_count": 10,
      "outputs": []
    },
    {
      "cell_type": "code",
      "metadata": {
        "id": "jcJHqdL0vv_v"
      },
      "source": [
        "# Объединение корпусов (2 и 3)\n",
        "\n",
        "X_train = np.vstack((X_train_1, X_train_2))\n",
        "y_train = np.vstack((y_train_1, y_train_2))"
      ],
      "execution_count": 11,
      "outputs": []
    },
    {
      "cell_type": "code",
      "metadata": {
        "id": "Vq_lFG8psmCP"
      },
      "source": [
        "# Тестовый корпус (1)\n",
        "\n",
        "X_test, y_test = get_data(path + book1)"
      ],
      "execution_count": 12,
      "outputs": []
    },
    {
      "cell_type": "markdown",
      "metadata": {
        "id": "_8-nlLAauo5l"
      },
      "source": [
        "# Предсказание MFCC вектора"
      ]
    },
    {
      "cell_type": "markdown",
      "metadata": {
        "id": "npCQwnkvZk8a"
      },
      "source": [
        "## GAN"
      ]
    },
    {
      "cell_type": "code",
      "metadata": {
        "id": "zOn9dNXuunTy"
      },
      "source": [
        "import torch\r\n",
        "from torch import nn\r\n",
        "import torch.optim as optim\r\n",
        "from time import time\r\n",
        "\r\n",
        "from torch.utils.data import Dataset\r\n",
        "from torch.utils.data import DataLoader"
      ],
      "execution_count": 16,
      "outputs": []
    },
    {
      "cell_type": "code",
      "metadata": {
        "id": "873kCb5lhd0p"
      },
      "source": [
        "class Generator(nn.Module):\r\n",
        "    def __init__(self, latent_dim, layers, output_activation=None):\r\n",
        "        super(Generator, self).__init__()\r\n",
        "        self.latent_dim = latent_dim\r\n",
        "        self.output_activation = output_activation\r\n",
        "        self._init_layers(layers)\r\n",
        "\r\n",
        "    def _init_layers(self, layers):\r\n",
        "        self.module_list = nn.ModuleList()\r\n",
        "        last_layer = self.latent_dim\r\n",
        "        for index, width in enumerate(layers):\r\n",
        "            self.module_list.append(nn.Linear(last_layer, width))\r\n",
        "            last_layer = width\r\n",
        "            if index + 1 != len(layers):\r\n",
        "                self.module_list.append(nn.LeakyReLU())\r\n",
        "\r\n",
        "    def forward(self, input_tensor):\r\n",
        "        intermediate = input_tensor\r\n",
        "        for layer in self.module_list:\r\n",
        "            intermediate = layer(intermediate)\r\n",
        "        return intermediate"
      ],
      "execution_count": 17,
      "outputs": []
    },
    {
      "cell_type": "code",
      "metadata": {
        "id": "jxDb0g1ZhsnT"
      },
      "source": [
        "class Discriminator(nn.Module):\r\n",
        "    def __init__(self, input_dim, layers):\r\n",
        "        super(Discriminator, self).__init__()\r\n",
        "        self.input_dim = input_dim\r\n",
        "        self._init_layers(layers)\r\n",
        "\r\n",
        "    def _init_layers(self, layers):\r\n",
        "        self.module_list = nn.ModuleList()\r\n",
        "        last_layer = self.input_dim\r\n",
        "        for index, width in enumerate(layers):\r\n",
        "            self.module_list.append(nn.Linear(last_layer, width))\r\n",
        "            last_layer = width\r\n",
        "            if index + 1 != len(layers):\r\n",
        "                self.module_list.append(nn.LeakyReLU())\r\n",
        "        else:\r\n",
        "            self.module_list.append(nn.Sigmoid())\r\n",
        "\r\n",
        "    def forward(self, input_tensor):\r\n",
        "        intermediate = input_tensor\r\n",
        "        for layer in self.module_list:\r\n",
        "            intermediate = layer(intermediate)\r\n",
        "        return intermediate        "
      ],
      "execution_count": 18,
      "outputs": []
    },
    {
      "cell_type": "code",
      "metadata": {
        "id": "MuisXPZJhdxl"
      },
      "source": [
        "class VanillaGAN():\r\n",
        "    def __init__(self, generator, discriminator, batch_size=32, device='cpu', lr_d=1e-3, lr_g=2e-4):\r\n",
        "\r\n",
        "        self.generator = generator\r\n",
        "        self.generator = self.generator.to(device)\r\n",
        "        self.discriminator = discriminator\r\n",
        "        self.discriminator = self.discriminator.to(device)\r\n",
        "        self.batch_size = batch_size\r\n",
        "        self.device = device\r\n",
        "        self.criterion = nn.BCELoss()\r\n",
        "        self.optim_d = optim.Adam(discriminator.parameters(), lr=lr_d, betas=(0.5, 0.999))\r\n",
        "        self.optim_g = optim.Adam(generator.parameters(), lr=lr_g, betas=(0.5, 0.999))\r\n",
        "        self.target_ones = torch.ones((batch_size, 1)).to(device)\r\n",
        "        self.target_zeros = torch.zeros((batch_size, 1)).to(device)\r\n",
        "\r\n",
        "    def generate_samples(self, latent_vec=None, num=None):\r\n",
        "        with torch.no_grad():\r\n",
        "            samples = self.generator(latent_vec)\r\n",
        "        return samples\r\n",
        "\r\n",
        "    def train_step_generator(self, latent_vec):\r\n",
        "        self.generator.zero_grad()\r\n",
        "\r\n",
        "        generated = self.generator(latent_vec)\r\n",
        "        classifications = self.discriminator(generated)\r\n",
        "        loss = self.criterion(classifications, self.target_ones)\r\n",
        "        loss.backward()\r\n",
        "        self.optim_g.step()\r\n",
        "        return loss.item()\r\n",
        "\r\n",
        "    def train_step_discriminator(self, latent_vec, real_samples):\r\n",
        "        self.discriminator.zero_grad()\r\n",
        "\r\n",
        "        # real samples\r\n",
        "        pred_real = self.discriminator(real_samples)\r\n",
        "        loss_real = self.criterion(pred_real, self.target_ones)\r\n",
        "\r\n",
        "        # generated samples\r\n",
        "        with torch.no_grad():\r\n",
        "            fake_samples = self.generator(latent_vec)\r\n",
        "        pred_fake = self.discriminator(fake_samples)\r\n",
        "        loss_fake = self.criterion(pred_fake, self.target_zeros)\r\n",
        "\r\n",
        "        # combine\r\n",
        "        loss = (loss_real + loss_fake) / 2\r\n",
        "        loss.backward()\r\n",
        "        self.optim_d.step()\r\n",
        "        return loss_real.item(), loss_fake.item()\r\n",
        "\r\n",
        "    def train_step(self, latent_vec, real_samples):\r\n",
        "        loss_d = self.train_step_discriminator(latent_vec, real_samples)\r\n",
        "        loss_g = self.train_step_generator(latent_vec)\r\n",
        "        return loss_g, loss_d"
      ],
      "execution_count": 19,
      "outputs": []
    },
    {
      "cell_type": "code",
      "metadata": {
        "id": "VYf1AaE92GpN"
      },
      "source": [
        "class PhonemeDataset(Dataset):\r\n",
        "    def __init__(self, x, y=None):\r\n",
        "        self.x = x\r\n",
        "        self.y = y\r\n",
        "    \r\n",
        "    def __len__(self):\r\n",
        "        return len(self.x)\r\n",
        "\r\n",
        "    def __getitem__(self, idx):\r\n",
        "        features = self.x[idx]\r\n",
        "        if self.y is not None:\r\n",
        "            return features, self.y[idx]\r\n",
        "        return features"
      ],
      "execution_count": 20,
      "outputs": []
    },
    {
      "cell_type": "code",
      "metadata": {
        "id": "M05-bRfOLxZ_"
      },
      "source": [
        "batch_size = 32\r\n",
        "\r\n",
        "train_loader = DataLoader(PhonemeDataset(X_train[:(-1)*(len(y_train) % batch_size)], y_train[:(-1)*(len(y_train) % batch_size)]), batch_size=batch_size)\r\n",
        "test_loader = DataLoader(PhonemeDataset(X_test, y_test), batch_size=1)"
      ],
      "execution_count": 21,
      "outputs": []
    },
    {
      "cell_type": "code",
      "metadata": {
        "colab": {
          "base_uri": "https://localhost:8080/"
        },
        "id": "uVKcvG29hn9m",
        "outputId": "bb416511-b4d0-439b-e400-61217b81d9f4"
      },
      "source": [
        "epochs = 20\r\n",
        "generator = Generator(X_train.shape[1], [64, 32, y_train.shape[1]]) # X_train.shape[1] = 19 , y_train.shape[1] = 12\r\n",
        "discriminator = Discriminator(y_train.shape[1], [64, 32, 1])\r\n",
        "gan = VanillaGAN(generator, discriminator, batch_size, device='cuda')\r\n",
        "loss_g, loss_d_real, loss_d_fake = [], [], []\r\n",
        "start = time()\r\n",
        "for epoch in range(epochs):\r\n",
        "    count_batches = 0\r\n",
        "    loss_g_running, loss_d_real_running, loss_d_fake_running = 0, 0, 0\r\n",
        "    #for batch in range(batches):\r\n",
        "    for features, labels in train_loader:\r\n",
        "        features, labels = features.cuda(), labels.cuda()\r\n",
        "        lg_, (ldr_, ldf_) = gan.train_step(features.float(), labels.float())\r\n",
        "        loss_g_running += lg_\r\n",
        "        loss_d_real_running += ldr_\r\n",
        "        loss_d_fake_running += ldf_\r\n",
        "        count_batches += 1\r\n",
        "    loss_g.append(loss_g_running / count_batches)\r\n",
        "    loss_d_real.append(loss_d_real_running / count_batches)\r\n",
        "    loss_d_fake.append(loss_d_fake_running / count_batches)\r\n",
        "    print(f\"Epoch {epoch+1}/{epochs} ({int(time() - start)}s):\"\r\n",
        "          f\" G={loss_g[-1]:.3f},\"\r\n",
        "          f\" Dr={loss_d_real[-1]:.3f},\"\r\n",
        "          f\" Df={loss_d_fake[-1]:.3f}\")"
      ],
      "execution_count": 24,
      "outputs": [
        {
          "output_type": "stream",
          "text": [
            "Epoch 1/20 (178s): G=6.198, Dr=0.339, Df=0.331\n",
            "Epoch 2/20 (354s): G=1.107, Dr=0.601, Df=0.536\n",
            "Epoch 3/20 (530s): G=1.025, Dr=0.614, Df=0.558\n",
            "Epoch 4/20 (706s): G=1.030, Dr=0.613, Df=0.553\n",
            "Epoch 5/20 (884s): G=1.036, Dr=0.611, Df=0.551\n",
            "Epoch 6/20 (1059s): G=1.010, Dr=0.614, Df=0.557\n",
            "Epoch 7/20 (1236s): G=1.022, Dr=0.609, Df=0.549\n",
            "Epoch 8/20 (1414s): G=0.986, Dr=0.620, Df=0.566\n",
            "Epoch 9/20 (1595s): G=0.963, Dr=0.624, Df=0.576\n",
            "Epoch 10/20 (1773s): G=0.984, Dr=0.619, Df=0.565\n",
            "Epoch 11/20 (1952s): G=0.962, Dr=0.624, Df=0.572\n",
            "Epoch 12/20 (2131s): G=0.943, Dr=0.627, Df=0.579\n",
            "Epoch 13/20 (2309s): G=0.933, Dr=0.631, Df=0.584\n",
            "Epoch 14/20 (2488s): G=0.899, Dr=0.642, Df=0.609\n",
            "Epoch 15/20 (2667s): G=0.905, Dr=0.640, Df=0.600\n",
            "Epoch 16/20 (2847s): G=0.898, Dr=0.642, Df=0.602\n",
            "Epoch 17/20 (3027s): G=0.895, Dr=0.643, Df=0.605\n",
            "Epoch 18/20 (3204s): G=0.890, Dr=0.645, Df=0.606\n",
            "Epoch 19/20 (3384s): G=0.896, Dr=0.640, Df=0.598\n",
            "Epoch 20/20 (3564s): G=0.952, Dr=0.629, Df=0.578\n"
          ],
          "name": "stdout"
        }
      ]
    },
    {
      "cell_type": "code",
      "metadata": {
        "colab": {
          "base_uri": "https://localhost:8080/"
        },
        "id": "n42ryq16zcxR",
        "outputId": "ff95b773-2116-45b5-8bfb-56eb85502357"
      },
      "source": [
        "# Пример генерации вектора\r\n",
        "\r\n",
        "gan.generate_samples(torch.tensor((0, 1, 2, 3, 4, 5, 6, 7, 8, 9, 10, 11, 12, 13, 14, 15, 16, 17, 18), dtype=torch.float, device='cuda'), 1)"
      ],
      "execution_count": 88,
      "outputs": [
        {
          "output_type": "execute_result",
          "data": {
            "text/plain": [
              "tensor([-15.2117,  34.0781,   7.5779,  -5.0084, -29.8542,   3.8091,  -1.9497,\n",
              "        -13.0288, -14.4846,  25.4570, -18.9715,  15.6978], device='cuda:0')"
            ]
          },
          "metadata": {
            "tags": []
          },
          "execution_count": 88
        }
      ]
    },
    {
      "cell_type": "code",
      "metadata": {
        "id": "q_zBvNcREYsy"
      },
      "source": [
        "from numpy import linalg\r\n",
        "\r\n",
        "def show_metric(y_pred, y_true):\r\n",
        "    L2_score = []\r\n",
        "    for i in range(len(y_pred)):\r\n",
        "        L2_score.append(np.linalg.norm(y_pred[i] - y_true[i]))\r\n",
        "\r\n",
        "    print('\\nEuclidean distance:\\t%0.3f' % np.mean(L2_score))"
      ],
      "execution_count": null,
      "outputs": []
    },
    {
      "cell_type": "code",
      "metadata": {
        "colab": {
          "base_uri": "https://localhost:8080/"
        },
        "id": "Wu6hIgrkhdru",
        "outputId": "3767fd5c-9b1b-4b59-a4b7-971c469b8867"
      },
      "source": [
        "# Оценка работы GAN\r\n",
        "\r\n",
        "y_true = []\r\n",
        "y_pred = []\r\n",
        "\r\n",
        "for features, labels in test_loader:\r\n",
        "    features, labels = features.cuda(), labels.detach().numpy()\r\n",
        "    outputs = gan.generate_samples(features.float())    \r\n",
        "    outputs = outputs.detach().cpu().numpy()\r\n",
        "\r\n",
        "    y_pred.append(outputs)\r\n",
        "    y_true.append(labels)\r\n",
        "\r\n",
        "show_metric(y_pred, y_true)"
      ],
      "execution_count": 25,
      "outputs": [
        {
          "output_type": "stream",
          "text": [
            "\n",
            "Euclidean distance:\t1.906\n"
          ],
          "name": "stdout"
        }
      ]
    },
    {
      "cell_type": "code",
      "metadata": {
        "colab": {
          "base_uri": "https://localhost:8080/"
        },
        "id": "KFaMNB2bhdpI",
        "outputId": "bc6b2931-5fb2-44c0-c67d-0273edec081e"
      },
      "source": [
        "# Пример исходного и предсказанного вектора\r\n",
        "\r\n",
        "print(y_true[0])\r\n",
        "print(y_pred[0])"
      ],
      "execution_count": 26,
      "outputs": [
        {
          "output_type": "stream",
          "text": [
            "[[-0.67395527  1.03842558 -0.46609802 -0.26750833 -0.08744055 -0.55251648\n",
            "   0.06810237  0.31983177 -0.2124693   0.25121132  0.09961122  0.02914081]]\n",
            "[[-2.8735523   2.3975954   0.22248186  0.6811306  -0.6667562  -0.13630494\n",
            "  -0.38938317  0.5198267  -0.50991833  0.11009459 -0.21513316 -1.0195515 ]]\n"
          ],
          "name": "stdout"
        }
      ]
    },
    {
      "cell_type": "markdown",
      "metadata": {
        "id": "yDR5KYsIZqBm"
      },
      "source": [
        "## Регрессионная модель"
      ]
    },
    {
      "cell_type": "code",
      "metadata": {
        "id": "-gjp3j_fBqqF"
      },
      "source": [
        "import warnings\n",
        "warnings.filterwarnings('ignore')"
      ],
      "execution_count": null,
      "outputs": []
    },
    {
      "cell_type": "code",
      "metadata": {
        "id": "KLqcXG-7njFq"
      },
      "source": [
        "from sklearn.linear_model import LinearRegression\n",
        "\n",
        "def fit_clf(X_train, y_train):\n",
        "    \n",
        "    n_clf = y_train.shape[1]\n",
        "    clfs = []\n",
        "    for i in range(n_clf):\n",
        "        clfs.append(LinearRegression())\n",
        "    \n",
        "    for i in range(n_clf):\n",
        "        clfs[i].fit(X_train, y_train[:, i])\n",
        "    \n",
        "    return clfs\n",
        "\n",
        "\n",
        "def predict_clf(clfs, X_test, y_test, metric='micro'):    \n",
        "    y_pred = []\n",
        "    for i in range(len(clfs)):\n",
        "        y_pred.append(clfs[i].predict(X_test))\n",
        "\n",
        "    y_pred = np.asarray(y_pred).T\n",
        "\n",
        "    show_metric(y_pred, y_test)\n",
        "\n",
        "    return y_pred"
      ],
      "execution_count": 41,
      "outputs": []
    },
    {
      "cell_type": "code",
      "metadata": {
        "id": "yi4FkBKmunMh",
        "colab": {
          "base_uri": "https://localhost:8080/"
        },
        "outputId": "07739708-795e-4454-8ec2-9a22e08612d3"
      },
      "source": [
        "lrs = fit_clf(X_train, y_train)\r\n",
        "y_pred = predict_clf(lrs, X_test, y_test)"
      ],
      "execution_count": 43,
      "outputs": [
        {
          "output_type": "stream",
          "text": [
            "\n",
            "Euclidean distance:\t1.144\n"
          ],
          "name": "stdout"
        }
      ]
    },
    {
      "cell_type": "code",
      "metadata": {
        "colab": {
          "base_uri": "https://localhost:8080/"
        },
        "id": "BL48u20axjas",
        "outputId": "4fd1e83d-2ee0-4fdc-c6a8-a7b3584de2e7"
      },
      "source": [
        "# Пример исходного и предсказанного вектора\r\n",
        "\r\n",
        "print(y_test[0])\r\n",
        "print(y_pred[0])"
      ],
      "execution_count": 47,
      "outputs": [
        {
          "output_type": "stream",
          "text": [
            "[-0.67395527  1.03842558 -0.46609802 -0.26750833 -0.08744055 -0.55251648\n",
            "  0.06810237  0.31983177 -0.2124693   0.25121132  0.09961122  0.02914081]\n",
            "[-1.52776019 -0.41384362 -0.43839239  0.56508074 -0.23214492 -0.48060697\n",
            " -0.27259143  0.04865441 -0.20263612  0.11753622 -0.29548488 -0.14340339]\n"
          ],
          "name": "stdout"
        }
      ]
    }
  ]
}