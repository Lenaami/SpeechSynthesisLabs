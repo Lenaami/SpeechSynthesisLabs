{
  "nbformat": 4,
  "nbformat_minor": 0,
  "metadata": {
    "colab": {
      "name": "SS_lab4",
      "provenance": [],
      "collapsed_sections": [],
      "toc_visible": true,
      "authorship_tag": "ABX9TyOnlRjnpKYuclNvhUai8PGn",
      "include_colab_link": true
    },
    "kernelspec": {
      "name": "python3",
      "display_name": "Python 3"
    },
    "accelerator": "GPU"
  },
  "cells": [
    {
      "cell_type": "markdown",
      "metadata": {
        "id": "view-in-github",
        "colab_type": "text"
      },
      "source": [
        "<a href=\"https://colab.research.google.com/github/Lenaami/SpeechSynthesisLabs/blob/main/SS_lab4.ipynb\" target=\"_parent\"><img src=\"https://colab.research.google.com/assets/colab-badge.svg\" alt=\"Open In Colab\"/></a>"
      ]
    },
    {
      "cell_type": "code",
      "metadata": {
        "colab": {
          "base_uri": "https://localhost:8080/"
        },
        "id": "nE_O2ye2NxIG",
        "outputId": "05f60962-a4e2-4b3b-f842-e72a678b7a21"
      },
      "source": [
        "from google.colab import drive\n",
        "drive.mount('/content/gdrive')"
      ],
      "execution_count": 2,
      "outputs": [
        {
          "output_type": "stream",
          "text": [
            "Mounted at /content/gdrive\n"
          ],
          "name": "stdout"
        }
      ]
    },
    {
      "cell_type": "code",
      "metadata": {
        "id": "LjbICZ1UNxFf"
      },
      "source": [
        "path = '/content/gdrive/My Drive/Colab Notebooks/Синтез речи/'"
      ],
      "execution_count": 3,
      "outputs": []
    },
    {
      "cell_type": "code",
      "metadata": {
        "id": "Z3t3WxJKWWoF"
      },
      "source": [
        "book1 = 'r_hod.Result.xml'\n",
        "book2 = 'tropa.Result.xml' #самый большой\n",
        "book3 = 'whtguard.Result.xml'"
      ],
      "execution_count": 4,
      "outputs": []
    },
    {
      "cell_type": "markdown",
      "metadata": {
        "id": "lKVWcZSzjQr1"
      },
      "source": [
        "# Парсинг xml"
      ]
    },
    {
      "cell_type": "code",
      "metadata": {
        "id": "CoBO8OkFNxDE"
      },
      "source": [
        "import xml.etree.ElementTree as ET \n",
        "import numpy as np\n",
        "import re"
      ],
      "execution_count": 5,
      "outputs": []
    },
    {
      "cell_type": "code",
      "metadata": {
        "id": "GDZaYA1z6ws_"
      },
      "source": [
        "def isNone(a):\n",
        "    return int(a) if a is not None else -1"
      ],
      "execution_count": 6,
      "outputs": []
    },
    {
      "cell_type": "code",
      "metadata": {
        "id": "GbiBZtcKesLF"
      },
      "source": [
        "# Создание словарей\r\n",
        "\r\n",
        "phonemes = ['']\r\n",
        "allophones = ['']\r\n",
        "\r\n",
        "books = [book1, book2, book3]\r\n",
        "\r\n",
        "for book in books:\r\n",
        "    tree = ET.parse(path + book)\r\n",
        "    root = tree.getroot()\r\n",
        "\r\n",
        "    for snt in root.findall('sentence'):\r\n",
        "        for feat in snt:\r\n",
        "            if feat.tag == 'word':         \r\n",
        "                for lt in feat:\r\n",
        "                    if lt.tag == 'phoneme': \r\n",
        "                        phonemes.append(lt.get('ph'))\r\n",
        "                    if lt.tag == 'allophone': \r\n",
        "                        allophones.append(lt.get('ph'))    \r\n",
        "\r\n",
        "phonemes = set(phonemes)\r\n",
        "allophones = set(allophones)\r\n",
        "\r\n",
        "phonemes_dict = {ph:i for i,ph in enumerate(phonemes)}\r\n",
        "allophones_dict = {ph:i for i,ph in enumerate(allophones)}\r\n",
        "\r\n",
        "num_to_phonemes = {i:ph for i,ph in enumerate(phonemes)}\r\n",
        "num_to_allophones = {i:ph for i,ph in enumerate(allophones)}"
      ],
      "execution_count": 7,
      "outputs": []
    },
    {
      "cell_type": "code",
      "metadata": {
        "id": "wgB56mEgf1Hw"
      },
      "source": [
        "def get_data(file):  \n",
        "    X_mfcc = [] \n",
        "    y_mfcc = []\n",
        "\n",
        "    tree = ET.parse(file)\n",
        "    root = tree.getroot()\n",
        "\n",
        "    tags = ['word', 'pause']\n",
        "\n",
        "    for snt in root.findall('sentence'):\n",
        "        features = []\n",
        "        feat_wrd = []\n",
        "\n",
        "        features_ph = []\n",
        "        features_ft_stc = []\n",
        "        allophone_stc = []\n",
        "\n",
        "        ph_wrd = []\n",
        "        allph_wrd = []\n",
        "\n",
        "        pause_pred = 0\n",
        "        count = 0\n",
        "        count_ph = 0\n",
        "        for feat in snt:\n",
        "\n",
        "            if feat.tag not in tags:\n",
        "                continue\n",
        "\n",
        "            if feat.tag == 'word':\n",
        "                if pause_pred:\n",
        "                    feat_wrd.append(1) # пауза до слова\n",
        "                    feat_wrd.append(0) # пауза после слова (предв.)\n",
        "                    feat_wrd.append(0) # длительность паузы\n",
        "                    pause_pred = 0\n",
        "                else:\n",
        "                    feat_wrd.append(0)\n",
        "                    feat_wrd.append(0)\n",
        "                    feat_wrd.append(0)\n",
        "\n",
        "                dct = feat.find('dictitem')\n",
        "                feat_wrd.append(isNone(dct.get('stress_dict'))) # ударение\n",
        "                #feat_wrd.append(isNone(dct.get('genesys'))) # одушевленность\n",
        "                #feat_wrd.append(isNone(dct.get('form'))) # форма\n",
        "                #feat_wrd.append(isNone(dct.get('subpart_of_speech'))) # часть речи        \n",
        "                #feat_wrd.append(isNone(dct.get('semantics1')))\n",
        "                #feat_wrd.append(isNone(dct.get('semantics2')))\n",
        "                feat_wrd.append(-1) # ударение (предв.)\n",
        "                \n",
        "                #ph_wrd = [''] # нет фонемы до слова\n",
        "                allph_wrd = [''] # нет фонемы до слова\n",
        "                features_ph = []\n",
        "\n",
        "                for lt in feat:                    \n",
        " \n",
        "                    #if lt.tag == 'phoneme':\n",
        "                        #features_ph.append(lt.get('ph'))\n",
        "\n",
        "                    if lt.tag == 'allophone':                        \n",
        "                        allph_wrd.append(lt.get('ph'))\n",
        "                        feat_ph = []\n",
        "                        feat_ph.append(isNone(lt.get('FO_INIT'))) # частота основного тона\n",
        "                        for i in range(1, 4):\n",
        "                            feat_ph.append(isNone(lt.get('FO' + str(i))))  # частота основного тона\n",
        "                        feat_ph.extend(np.asarray(lt.get('En').split('|')[1:-1], dtype='int')) # энергия\n",
        "                        feat_ph.append(len(allph_wrd) - 2) # позиция в слове\n",
        "                        feat_ph.append(count_ph) # позиция в предложении\n",
        "                        count_ph += 1\n",
        "\n",
        "                        features_ph.append(feat_ph)\n",
        "\n",
        "                        y_mfcc.append(np.asarray(lt.get('mfcc').split('|')[1:-1], dtype='float')) # значения MFCC для аллофона\n",
        "\n",
        "\n",
        "                    if lt.tag == 'stress':\n",
        "                        feat_wrd[-1] = len(allph_wrd) # позиция ударной фонемы                    \n",
        "\n",
        "                allph_wrd.append('') # нет фонемы после слова\n",
        "                feat_wrd.append(count) # позиция слова в предложении\n",
        "                count += 1 # подсчет слов              \n",
        "               \n",
        "                features.append(feat_wrd)\n",
        "                features_ft_stc.append(features_ph)\n",
        "                allophone_stc.append(allph_wrd)\n",
        "                feat_wrd = []\n",
        "\n",
        "            if feat.tag == 'pause':\n",
        "                features[-1][1] = 1 # пауза после слова\n",
        "                features[-1][2] = isNone(feat.get('time')) # время паузы\n",
        "                pause_pred = 1             \n",
        "\n",
        "        # объединение \n",
        "        for i in range(count):\n",
        "            for l in range(len(allophone_stc[i]) - 2):\n",
        "                feat = [allophone_stc[i][l+1], allophone_stc[i][l], allophone_stc[i][l+2]] # текущая фонема, перед и после\n",
        "                feat = [allophones_dict.get(s) for s in feat] # перевод из буквы в цифру\n",
        "                feat.extend(features_ft_stc[i][l])\n",
        "                feat.extend(features[i])\n",
        "                feat.append(count)\n",
        "                \n",
        "                X_mfcc.append(feat)\n",
        "       \n",
        "    return np.asarray(X_mfcc), np.asarray(y_mfcc)"
      ],
      "execution_count": 8,
      "outputs": []
    },
    {
      "cell_type": "code",
      "metadata": {
        "id": "PvRXn9cAmDPr"
      },
      "source": [
        "X_train_1, y_train_1 = get_data(path + book2)"
      ],
      "execution_count": 9,
      "outputs": []
    },
    {
      "cell_type": "code",
      "metadata": {
        "id": "NintYyjTvlI5"
      },
      "source": [
        "X_train_2, y_train_2 = get_data(path + book3)"
      ],
      "execution_count": 10,
      "outputs": []
    },
    {
      "cell_type": "code",
      "metadata": {
        "id": "jcJHqdL0vv_v"
      },
      "source": [
        "# Объединение корпусов (2 и 3)\n",
        "\n",
        "X_train = np.vstack((X_train_1, X_train_2))\n",
        "y_train = np.vstack((y_train_1, y_train_2))"
      ],
      "execution_count": 11,
      "outputs": []
    },
    {
      "cell_type": "code",
      "metadata": {
        "id": "Vq_lFG8psmCP"
      },
      "source": [
        "# Тестовый корпус (1)\n",
        "\n",
        "X_test, y_test = get_data(path + book1)"
      ],
      "execution_count": 12,
      "outputs": []
    },
    {
      "cell_type": "code",
      "metadata": {
        "colab": {
          "base_uri": "https://localhost:8080/"
        },
        "id": "WChv47hkcwEN",
        "outputId": "b42aac77-51cd-44bc-c0be-a4b2d7af4662"
      },
      "source": [
        "y_train[:, 0].shape"
      ],
      "execution_count": 52,
      "outputs": [
        {
          "output_type": "execute_result",
          "data": {
            "text/plain": [
              "(1033503,)"
            ]
          },
          "metadata": {
            "tags": []
          },
          "execution_count": 52
        }
      ]
    },
    {
      "cell_type": "code",
      "metadata": {
        "colab": {
          "base_uri": "https://localhost:8080/"
        },
        "id": "pDPs1GIoX9xt",
        "outputId": "4fbea189-5ba2-4b31-8003-1e62beb3d1bf"
      },
      "source": [
        "print(X_train.shape, y_train.shape)"
      ],
      "execution_count": 47,
      "outputs": [
        {
          "output_type": "stream",
          "text": [
            "(1033503, 19) (1033503, 12)\n"
          ],
          "name": "stdout"
        }
      ]
    },
    {
      "cell_type": "code",
      "metadata": {
        "colab": {
          "base_uri": "https://localhost:8080/"
        },
        "id": "3cVesNko2g-C",
        "outputId": "cacfe1f3-7bcb-47b6-de9a-6e0a84b73667"
      },
      "source": [
        "len(X_train)"
      ],
      "execution_count": 89,
      "outputs": [
        {
          "output_type": "execute_result",
          "data": {
            "text/plain": [
              "1033503"
            ]
          },
          "metadata": {
            "tags": []
          },
          "execution_count": 89
        }
      ]
    },
    {
      "cell_type": "code",
      "metadata": {
        "colab": {
          "base_uri": "https://localhost:8080/"
        },
        "id": "z2j3g0SFWSzp",
        "outputId": "9fea6750-877a-43f1-bda6-fc62343e51e4"
      },
      "source": [
        "print(X_test.shape, y_test.shape)"
      ],
      "execution_count": 49,
      "outputs": [
        {
          "output_type": "stream",
          "text": [
            "(6579, 19) (6579, 12)\n"
          ],
          "name": "stdout"
        }
      ]
    },
    {
      "cell_type": "markdown",
      "metadata": {
        "id": "_8-nlLAauo5l"
      },
      "source": [
        "# Предсказание MFCC вектора"
      ]
    },
    {
      "cell_type": "markdown",
      "metadata": {
        "id": "npCQwnkvZk8a"
      },
      "source": [
        "## GAN"
      ]
    },
    {
      "cell_type": "code",
      "metadata": {
        "id": "eQY9HDu6ZjfW"
      },
      "source": [
        ""
      ],
      "execution_count": null,
      "outputs": []
    },
    {
      "cell_type": "code",
      "metadata": {
        "id": "WuqIVjpqunf3",
        "colab": {
          "base_uri": "https://localhost:8080/"
        },
        "outputId": "e5b00672-963b-40c7-f8dc-03270a4c8687"
      },
      "source": [
        "import torch\r\n",
        "import torch.nn as nn\r\n",
        "import torch.nn.functional as F\r\n",
        "import torch.optim as optim\r\n",
        "\r\n",
        "import torchvision\r\n",
        "from sklearn.model_selection import train_test_split\r\n",
        "from sklearn.metrics import f1_score\r\n",
        "from tqdm import tqdm\r\n",
        "\r\n",
        "torch.manual_seed(1)"
      ],
      "execution_count": null,
      "outputs": [
        {
          "output_type": "execute_result",
          "data": {
            "text/plain": [
              "<torch._C.Generator at 0x7fc115e97228>"
            ]
          },
          "metadata": {
            "tags": []
          },
          "execution_count": 141
        }
      ]
    },
    {
      "cell_type": "code",
      "metadata": {
        "id": "giYN9MIr0IPe"
      },
      "source": [
        "\r\n",
        "np.random.seed(42)\r\n",
        "torch.manual_seed(42)\r\n",
        "torch.cuda.manual_seed(42)\r\n",
        "torch.backends.cudnn.deterministic = True"
      ],
      "execution_count": null,
      "outputs": []
    },
    {
      "cell_type": "code",
      "metadata": {
        "id": "Jkg1NWKfzSdt"
      },
      "source": [
        "class LSTMModel(nn.Module):\r\n",
        "\r\n",
        "    def __init__(self, embedding_dim, hidden_dim, tagset_size):\r\n",
        "        super(LSTMModel, self).__init__()\r\n",
        "        self.hidden_dim = hidden_dim\r\n",
        "        self.embedding_dim = embedding_dim\r\n",
        "\r\n",
        "        #self.word_embeddings = nn.Embedding(vocab_size, embedding_dim)\r\n",
        "        self.lstm = nn.LSTM(embedding_dim, hidden_dim)\r\n",
        "        self.hidden2tag = nn.Linear(hidden_dim, tagset_size)\r\n",
        "\r\n",
        "    def forward(self, word):\r\n",
        "        feats = torch.tensor(data=word, dtype=torch.float)\r\n",
        "        #feats = feats.type(torch.LongTensor)\r\n",
        "        #print(type(feats))\r\n",
        "        #embeds = self.word_embeddings(word)\r\n",
        "        #print(feats.shape)\r\n",
        "        #print(feats.view(-1, 1, self.embedding_dim).shape)\r\n",
        "        #lstm_out, _ = self.lstm(feats.view(len(word), 1, -1))\r\n",
        "        lstm_out, _ = self.lstm(feats.view(-1, 1, self.embedding_dim))\r\n",
        "        tag_space = self.hidden2tag(lstm_out.view(len(word), -1))\r\n",
        "        tag_scores = F.log_softmax(tag_space, dim=1)\r\n",
        "        return tag_scores"
      ],
      "execution_count": null,
      "outputs": []
    },
    {
      "cell_type": "code",
      "metadata": {
        "id": "oenhh9cTMs0l"
      },
      "source": [
        "def eval_model(model, eval_dataset):\r\n",
        "    model.eval()\r\n",
        "    forecast, true_labels = [], []\r\n",
        "    with torch.no_grad():\r\n",
        "        for features, labels in tqdm(eval_dataset):\r\n",
        "            #features, labels = features.cuda(), labels.detach().numpy()\r\n",
        "            features = torch.tensor(features).cuda()\r\n",
        "            true_labels.append(labels)\r\n",
        "            outputs = model(features)\r\n",
        "            \r\n",
        "            #outputs = outputs.detach().numpy().argmax(axis=1)\r\n",
        "            outputs = outputs.detach().cpu().numpy().argmax(axis=1)\r\n",
        "            forecast.append(outputs)\r\n",
        "    forecast = [x for sublist in forecast for x in sublist]\r\n",
        "    true_labels = [x for sublist in true_labels for x in sublist]\r\n",
        "    return f1_score(forecast, true_labels, average='macro') # weighted micro"
      ],
      "execution_count": null,
      "outputs": []
    },
    {
      "cell_type": "code",
      "metadata": {
        "id": "YEl3dcGUM51U"
      },
      "source": [
        "#criterion = nn.CrossEntropyLoss()\r\n",
        "#model = Model_5()\r\n",
        "#model = model.cuda()\r\n",
        "lr = 1e-3\r\n",
        "\r\n",
        "#optimizer = torch.optim.Adam(model.parameters(), lr=lr)\r\n",
        "\r\n",
        "EMBEDDING_DIM = 20\r\n",
        "HIDDEN_DIM = 20\r\n",
        "\r\n",
        "model = LSTMModel(EMBEDDING_DIM, HIDDEN_DIM, len(phonemes_dict))\r\n",
        "model = model.cuda()\r\n",
        "criterion = nn.NLLLoss()\r\n",
        "optimizer = optim.SGD(model.parameters(), lr=lr)\r\n",
        "\r\n",
        "with torch.no_grad():\r\n",
        "    inputs = torch.tensor(X_train_ph[0]).cuda()\r\n",
        "    tag_scores = model(inputs)\r\n",
        "    print(tag_scores)"
      ],
      "execution_count": null,
      "outputs": []
    },
    {
      "cell_type": "code",
      "metadata": {
        "id": "KyywxmXhs1fT"
      },
      "source": [
        ""
      ],
      "execution_count": null,
      "outputs": []
    },
    {
      "cell_type": "code",
      "metadata": {
        "id": "dsGm00nu4P5M"
      },
      "source": [
        "lr = 1e-3\r\n",
        "\r\n",
        "EMBEDDING_DIM = 20\r\n",
        "HIDDEN_DIM = 200\r\n",
        "\r\n",
        "model = LSTMModel(EMBEDDING_DIM, HIDDEN_DIM, len(phonemes_dict))\r\n",
        "model = model.cuda()\r\n",
        "criterion = nn.NLLLoss()\r\n",
        "optimizer = optim.SGD(model.parameters(), lr=lr)\r\n",
        "\r\n",
        "n_epoch = 10\r\n",
        "#best_f1 = 0\r\n",
        "for epoch in range(n_epoch):\r\n",
        "    model.train()\r\n",
        "    for features, labels in tqdm(zip(X_train_ph, y_train_ph)):\r\n",
        "        #print(labels)\r\n",
        "        optimizer.zero_grad()\r\n",
        "        features, labels = torch.tensor(features).cuda(), torch.tensor(labels).cuda()\r\n",
        "        outputs = model(features)\r\n",
        "        loss = criterion(outputs, torch.tensor(labels))\r\n",
        "        loss.backward()\r\n",
        "        optimizer.step()\r\n",
        "    f1 = eval_model(model, zip(X_test_ph, y_test_ph))\r\n",
        "    f1_train = eval_model(model, zip(X_train_ph, y_train_ph))\r\n",
        "    #print(f'epoch: {epoch}, f1_test: {f1}')\r\n",
        "    print(f'\\nepoch: {epoch}, f1_test: {f1}, f1_train: {f1_train}')\r\n",
        "    #if f1 > best_f1:\r\n",
        "    #    best_f1 = f1\r\n",
        "    #    torch.save(model.state_dict(), '../baseline_v5.pt')\r\n",
        "        \r\n",
        "    lr = lr * 0.95\r\n",
        "    for param_group in optimizer.param_groups:\r\n",
        "        param_group['lr'] = lr"
      ],
      "execution_count": null,
      "outputs": []
    },
    {
      "cell_type": "code",
      "metadata": {
        "id": "w6lFSiW7tJQr"
      },
      "source": [
        "eval_model(model, zip(X_test_ph, y_test_ph))"
      ],
      "execution_count": null,
      "outputs": []
    },
    {
      "cell_type": "code",
      "metadata": {
        "id": "OJBP9ZwenO7D"
      },
      "source": [
        ""
      ],
      "execution_count": null,
      "outputs": []
    },
    {
      "cell_type": "code",
      "metadata": {
        "id": "KC5j1BYqnO13"
      },
      "source": [
        ""
      ],
      "execution_count": null,
      "outputs": []
    },
    {
      "cell_type": "code",
      "metadata": {
        "id": "WrURhxdhnOw0"
      },
      "source": [
        ""
      ],
      "execution_count": null,
      "outputs": []
    },
    {
      "cell_type": "code",
      "metadata": {
        "id": "CNDcclV0nOhh"
      },
      "source": [
        ""
      ],
      "execution_count": null,
      "outputs": []
    },
    {
      "cell_type": "code",
      "metadata": {
        "id": "ikkDUmJenOSi"
      },
      "source": [
        ""
      ],
      "execution_count": null,
      "outputs": []
    },
    {
      "cell_type": "code",
      "metadata": {
        "colab": {
          "base_uri": "https://localhost:8080/"
        },
        "id": "Sm6zctJGtdWX",
        "outputId": "1077238b-0519-4f2e-ce05-20f5cb921460"
      },
      "source": [
        "i = 3\r\n",
        "with torch.no_grad():    \r\n",
        "    outputs = model(torch.tensor(X_test_ph[i]).cuda())            \r\n",
        "    outputs = outputs.detach().cpu().numpy().argmax(axis=1)\r\n",
        "    print(outputs)\r\n",
        "    \r\n",
        "    out = [num_to_phonemes.get(s) for s in outputs]\r\n",
        "    print(out)\r\n",
        "    print([num_to_phonemes.get(s) for s in y_test_ph[i]])"
      ],
      "execution_count": null,
      "outputs": [
        {
          "output_type": "stream",
          "text": [
            "[30 29 20 10  0 12 39 42]\n",
            "['к', \"р'\", 'е', 'с', '', 'н', 'ы', 'й']\n",
            "['к', \"р'\", 'е', 'с', '', 'н', 'ы', 'й']\n"
          ],
          "name": "stdout"
        },
        {
          "output_type": "stream",
          "text": [
            "/usr/local/lib/python3.6/dist-packages/ipykernel_launcher.py:13: UserWarning: To copy construct from a tensor, it is recommended to use sourceTensor.clone().detach() or sourceTensor.clone().detach().requires_grad_(True), rather than torch.tensor(sourceTensor).\n",
            "  del sys.path[0]\n"
          ],
          "name": "stderr"
        }
      ]
    },
    {
      "cell_type": "code",
      "metadata": {
        "id": "NWUPWIfOGGbO"
      },
      "source": [
        "torch.save(model.state_dict(), path + 'model_test.pt')"
      ],
      "execution_count": null,
      "outputs": []
    },
    {
      "cell_type": "code",
      "metadata": {
        "id": "wpME7XugM8xj",
        "colab": {
          "base_uri": "https://localhost:8080/"
        },
        "outputId": "0ae7b1b0-bb57-457a-a624-c2d0c5b94b99"
      },
      "source": [
        "# Загрузить модель\r\n",
        "model_name = 'model_test.pt'\r\n",
        "\r\n",
        "EMBEDDING_DIM = 20\r\n",
        "HIDDEN_DIM = 200\r\n",
        "model = LSTMModel(EMBEDDING_DIM, HIDDEN_DIM, len(phonemes_dict)).cuda()\r\n",
        "#model = LSTMModel(EMBEDDING_DIM, HIDDEN_DIM, 43).cuda()\r\n",
        "model.load_state_dict(torch.load(path + 'model_test.pt'))\r\n",
        "model.eval()"
      ],
      "execution_count": null,
      "outputs": [
        {
          "output_type": "execute_result",
          "data": {
            "text/plain": [
              "LSTMModel(\n",
              "  (lstm): LSTM(20, 200)\n",
              "  (hidden2tag): Linear(in_features=200, out_features=43, bias=True)\n",
              ")"
            ]
          },
          "metadata": {
            "tags": []
          },
          "execution_count": 151
        }
      ]
    },
    {
      "cell_type": "code",
      "metadata": {
        "colab": {
          "base_uri": "https://localhost:8080/"
        },
        "id": "CVVfbUg5pxsi",
        "outputId": "1b5be15f-b96c-43ee-fe1d-ac7a2552bb0c"
      },
      "source": [
        "y_pred = []\r\n",
        "y_true = []\r\n",
        "\r\n",
        "lev_score=[]\r\n",
        "with torch.no_grad():\r\n",
        "    for features, labels in tqdm(zip(X_test_ph, y_test_ph)):\r\n",
        "        outputs = model(torch.tensor(features).cuda())            \r\n",
        "        outputs = outputs.detach().cpu().numpy().argmax(axis=1)\r\n",
        "\r\n",
        "        y_pred.extend(outputs)\r\n",
        "        y_true.extend(labels)\r\n",
        "\r\n",
        "        out = \"\".join([num_to_phonemes.get(s) for s in outputs])\r\n",
        "        true = \"\".join([num_to_phonemes.get(s) for s in labels])\r\n",
        "\r\n",
        "        lev_score.append(Levenshtein.distance(out, true))\r\n",
        "\r\n",
        "show_metric_ph(y_pred, y_true)\r\n",
        "#print(np.mean(lev_score))\r\n",
        "print(np.mean(lev_score))"
      ],
      "execution_count": null,
      "outputs": [
        {
          "output_type": "stream",
          "text": [
            "0it [00:00, ?it/s]/usr/local/lib/python3.6/dist-packages/ipykernel_launcher.py:13: UserWarning: To copy construct from a tensor, it is recommended to use sourceTensor.clone().detach() or sourceTensor.clone().detach().requires_grad_(True), rather than torch.tensor(sourceTensor).\n",
            "  del sys.path[0]\n",
            "1268it [00:00, 1636.45it/s]\n"
          ],
          "name": "stderr"
        },
        {
          "output_type": "stream",
          "text": [
            "F1-score (micro):\t0.076\n",
            "Recall (micro): \t0.076\n",
            "Precision (micro):\t0.076\n",
            "Accuracy:\t\t0.076\n",
            "\n",
            "Levenshtein distance:\t1.436\n",
            "6.419558359621451\n"
          ],
          "name": "stdout"
        }
      ]
    },
    {
      "cell_type": "code",
      "metadata": {
        "id": "O6O8mCKcjPAW"
      },
      "source": [
        "def show_metric_ph(y_pred, y_true, metric='micro'):\r\n",
        "\r\n",
        "    lev_score = []\r\n",
        "\r\n",
        "    for i in range(len(len_word) - 1):\r\n",
        "        pred = \"\".join([num_to_phonemes.get(s) for s in y_pred[i:i+1]])\r\n",
        "        true = \"\".join([num_to_phonemes.get(s) for s in y_true[i:i+1]])\r\n",
        "\r\n",
        "        lev_score.append(Levenshtein.distance(pred, true))    \r\n",
        "\r\n",
        "    print('F1-score (%s):\\t%0.3f' % (metric, metrics.f1_score(y_true, y_pred, average=metric)))\r\n",
        "    print('Recall (%s): \\t%0.3f' % (metric, metrics.recall_score(y_true, y_pred, average=metric)))\r\n",
        "    print('Precision (%s):\\t%0.3f' % (metric,metrics.precision_score(y_true, y_pred, average=metric)))\r\n",
        "    print('Accuracy:\\t\\t%0.3f' % metrics.accuracy_score(y_true, y_pred))\r\n",
        "    print('\\nLevenshtein distance:\\t%0.3f' % np.mean(lev_score))"
      ],
      "execution_count": null,
      "outputs": []
    },
    {
      "cell_type": "code",
      "metadata": {
        "id": "ibFgCkvjunWG"
      },
      "source": [
        ""
      ],
      "execution_count": null,
      "outputs": []
    },
    {
      "cell_type": "code",
      "metadata": {
        "id": "zOn9dNXuunTy"
      },
      "source": [
        "import torch\r\n",
        "from torch import nn\r\n",
        "import torch.optim as optim\r\n",
        "\r\n",
        "from torch.utils.data import Dataset\r\n",
        "from torch.utils.data import DataLoader"
      ],
      "execution_count": 16,
      "outputs": []
    },
    {
      "cell_type": "code",
      "metadata": {
        "id": "873kCb5lhd0p"
      },
      "source": [
        "class Generator(nn.Module):\r\n",
        "    def __init__(self, latent_dim, layers, output_activation=None):\r\n",
        "        super(Generator, self).__init__()\r\n",
        "        self.latent_dim = latent_dim\r\n",
        "        self.output_activation = output_activation\r\n",
        "        self._init_layers(layers)\r\n",
        "\r\n",
        "    def _init_layers(self, layers):\r\n",
        "        self.module_list = nn.ModuleList()\r\n",
        "        last_layer = self.latent_dim\r\n",
        "        for index, width in enumerate(layers):\r\n",
        "            self.module_list.append(nn.Linear(last_layer, width))\r\n",
        "            last_layer = width\r\n",
        "            if index + 1 != len(layers):\r\n",
        "                self.module_list.append(nn.LeakyReLU())\r\n",
        "\r\n",
        "    def forward(self, input_tensor):\r\n",
        "        intermediate = input_tensor\r\n",
        "        for layer in self.module_list:\r\n",
        "            intermediate = layer(intermediate)\r\n",
        "        return intermediate"
      ],
      "execution_count": 17,
      "outputs": []
    },
    {
      "cell_type": "code",
      "metadata": {
        "id": "jxDb0g1ZhsnT"
      },
      "source": [
        "class Discriminator(nn.Module):\r\n",
        "    def __init__(self, input_dim, layers):\r\n",
        "        super(Discriminator, self).__init__()\r\n",
        "        self.input_dim = input_dim\r\n",
        "        self._init_layers(layers)\r\n",
        "\r\n",
        "    def _init_layers(self, layers):\r\n",
        "        self.module_list = nn.ModuleList()\r\n",
        "        last_layer = self.input_dim\r\n",
        "        for index, width in enumerate(layers):\r\n",
        "            self.module_list.append(nn.Linear(last_layer, width))\r\n",
        "            last_layer = width\r\n",
        "            if index + 1 != len(layers):\r\n",
        "                self.module_list.append(nn.LeakyReLU())\r\n",
        "        else:\r\n",
        "            self.module_list.append(nn.Sigmoid())\r\n",
        "\r\n",
        "    def forward(self, input_tensor):\r\n",
        "        intermediate = input_tensor\r\n",
        "        for layer in self.module_list:\r\n",
        "            intermediate = layer(intermediate)\r\n",
        "        return intermediate        "
      ],
      "execution_count": 18,
      "outputs": []
    },
    {
      "cell_type": "code",
      "metadata": {
        "id": "MuisXPZJhdxl"
      },
      "source": [
        "class VanillaGAN():\r\n",
        "    def __init__(self, generator, discriminator, batch_size=32, device='cpu', lr_d=1e-3, lr_g=2e-4):\r\n",
        "\r\n",
        "        self.generator = generator\r\n",
        "        self.generator = self.generator.to(device)\r\n",
        "        self.discriminator = discriminator\r\n",
        "        self.discriminator = self.discriminator.to(device)\r\n",
        "        self.batch_size = batch_size\r\n",
        "        self.device = device\r\n",
        "        self.criterion = nn.BCELoss()\r\n",
        "        self.optim_d = optim.Adam(discriminator.parameters(), lr=lr_d, betas=(0.5, 0.999))\r\n",
        "        self.optim_g = optim.Adam(generator.parameters(), lr=lr_g, betas=(0.5, 0.999))\r\n",
        "        self.target_ones = torch.ones((batch_size, 1)).to(device)\r\n",
        "        self.target_zeros = torch.zeros((batch_size, 1)).to(device)\r\n",
        "\r\n",
        "    def generate_samples(self, latent_vec=None, num=None):\r\n",
        "        with torch.no_grad():\r\n",
        "            samples = self.generator(latent_vec)\r\n",
        "        return samples\r\n",
        "\r\n",
        "    def train_step_generator(self, latent_vec):\r\n",
        "        self.generator.zero_grad()\r\n",
        "\r\n",
        "        generated = self.generator(latent_vec)\r\n",
        "        classifications = self.discriminator(generated)\r\n",
        "        loss = self.criterion(classifications, self.target_ones)\r\n",
        "        loss.backward()\r\n",
        "        self.optim_g.step()\r\n",
        "        return loss.item()\r\n",
        "\r\n",
        "    def train_step_discriminator(self, latent_vec, real_samples):\r\n",
        "        self.discriminator.zero_grad()\r\n",
        "\r\n",
        "        # real samples\r\n",
        "        pred_real = self.discriminator(real_samples)\r\n",
        "        loss_real = self.criterion(pred_real, self.target_ones)\r\n",
        "\r\n",
        "        # generated samples\r\n",
        "        with torch.no_grad():\r\n",
        "            fake_samples = self.generator(latent_vec)\r\n",
        "        pred_fake = self.discriminator(fake_samples)\r\n",
        "        loss_fake = self.criterion(pred_fake, self.target_zeros)\r\n",
        "\r\n",
        "        # combine\r\n",
        "        loss = (loss_real + loss_fake) / 2\r\n",
        "        loss.backward()\r\n",
        "        self.optim_d.step()\r\n",
        "        return loss_real.item(), loss_fake.item()\r\n",
        "\r\n",
        "    def train_step(self, latent_vec, real_samples):\r\n",
        "        loss_d = self.train_step_discriminator(latent_vec, real_samples)\r\n",
        "        loss_g = self.train_step_generator(latent_vec)\r\n",
        "        return loss_g, loss_d"
      ],
      "execution_count": 19,
      "outputs": []
    },
    {
      "cell_type": "code",
      "metadata": {
        "id": "VYf1AaE92GpN"
      },
      "source": [
        "class PhonemeDataset(Dataset):\r\n",
        "    def __init__(self, x, y=None):\r\n",
        "        self.x = x\r\n",
        "        self.y = y\r\n",
        "    \r\n",
        "    def __len__(self):\r\n",
        "        return len(self.x)\r\n",
        "\r\n",
        "    def __getitem__(self, idx):\r\n",
        "        features = self.x[idx]\r\n",
        "        if self.y is not None:\r\n",
        "            return features, self.y[idx]\r\n",
        "        return features"
      ],
      "execution_count": 20,
      "outputs": []
    },
    {
      "cell_type": "code",
      "metadata": {
        "id": "M05-bRfOLxZ_"
      },
      "source": [
        "batch_size = 32"
      ],
      "execution_count": 21,
      "outputs": []
    },
    {
      "cell_type": "code",
      "metadata": {
        "id": "erXW-_Zt2KH4"
      },
      "source": [
        "train_loader = DataLoader(PhonemeDataset(X_train[:(-1)*(len(y_train) % batch_size)], y_train[:(-1)*(len(y_train) % batch_size)]), batch_size=batch_size)\r\n",
        "#test_loader = DataLoader(PhonemeDataset(X_test[:(-1)*(len(y_test) % 32)], y_test[:(-1)*(len(y_test) % 32)]), batch_size=batch_size)"
      ],
      "execution_count": 22,
      "outputs": []
    },
    {
      "cell_type": "code",
      "metadata": {
        "id": "d1ExLGfcEknY"
      },
      "source": [
        "test_loader = DataLoader(PhonemeDataset(X_test, y_test), batch_size=1)"
      ],
      "execution_count": 23,
      "outputs": []
    },
    {
      "cell_type": "code",
      "metadata": {
        "colab": {
          "base_uri": "https://localhost:8080/"
        },
        "id": "_dPshcoPBrLK",
        "outputId": "d465570f-e3c3-4e1c-bcf0-bb35e4915576"
      },
      "source": [
        "len(y_test[:(-1)*(len(y_test) % 32)])"
      ],
      "execution_count": 110,
      "outputs": [
        {
          "output_type": "execute_result",
          "data": {
            "text/plain": [
              "6560"
            ]
          },
          "metadata": {
            "tags": []
          },
          "execution_count": 110
        }
      ]
    },
    {
      "cell_type": "code",
      "metadata": {
        "id": "KeTctByA378k"
      },
      "source": [
        "for wavs, labs in train_loader:\r\n",
        "    print(wavs)\r\n",
        "    #wavs, labs = wavs.cuda(), labs.detach().numpy()\r\n",
        " \r\n",
        "    #outputs = outputs.detach().cpu().numpy().argmax(axis=1)\r\n",
        "    #forecast.append(outputs)\r\n"
      ],
      "execution_count": null,
      "outputs": []
    },
    {
      "cell_type": "code",
      "metadata": {
        "colab": {
          "base_uri": "https://localhost:8080/"
        },
        "id": "abiZDQxlhduk",
        "outputId": "f050777e-6255-4af0-9c47-c2bba4499cba"
      },
      "source": [
        "from time import time\r\n",
        "\r\n",
        "epochs = 20\r\n",
        "##batches = 100\r\n",
        "generator = Generator(19, [64, 32, 12]) # X_train.shape[1] , y_train.shape[1]\r\n",
        "discriminator = Discriminator(12, [64, 32, 1])\r\n",
        "##noise_fn = lambda x: torch.rand((x, 19), device='cuda') ######## < --------------\r\n",
        "##data_fn = lambda x: torch.randn((x, 12), device='cuda') ######## < --------------\r\n",
        "##gan = VanillaGAN(generator, discriminator, noise_fn, data_fn, device='cuda')\r\n",
        "gan = VanillaGAN(generator, discriminator, batch_size, device='cuda')\r\n",
        "loss_g, loss_d_real, loss_d_fake = [], [], []\r\n",
        "start = time()\r\n",
        "for epoch in range(epochs):\r\n",
        "    count_batches = 0\r\n",
        "    loss_g_running, loss_d_real_running, loss_d_fake_running = 0, 0, 0\r\n",
        "    #for batch in range(batches):\r\n",
        "    for features, labels in train_loader:\r\n",
        "        features, labels = features.cuda(), labels.cuda()\r\n",
        "        lg_, (ldr_, ldf_) = gan.train_step(features.float(), labels.float())\r\n",
        "        loss_g_running += lg_\r\n",
        "        loss_d_real_running += ldr_\r\n",
        "        loss_d_fake_running += ldf_\r\n",
        "        count_batches += 1\r\n",
        "    loss_g.append(loss_g_running / count_batches)\r\n",
        "    loss_d_real.append(loss_d_real_running / count_batches)\r\n",
        "    loss_d_fake.append(loss_d_fake_running / count_batches)\r\n",
        "    print(f\"Epoch {epoch+1}/{epochs} ({int(time() - start)}s):\"\r\n",
        "          f\" G={loss_g[-1]:.3f},\"\r\n",
        "          f\" Dr={loss_d_real[-1]:.3f},\"\r\n",
        "          f\" Df={loss_d_fake[-1]:.3f}\")"
      ],
      "execution_count": 28,
      "outputs": [
        {
          "output_type": "stream",
          "text": [
            "Epoch 1/20 (171s): G=4.506, Dr=0.368, Df=0.352\n",
            "Epoch 2/20 (343s): G=0.962, Dr=0.627, Df=0.583\n",
            "Epoch 3/20 (514s): G=0.983, Dr=0.618, Df=0.563\n",
            "Epoch 4/20 (685s): G=0.949, Dr=0.624, Df=0.571\n",
            "Epoch 5/20 (855s): G=0.988, Dr=0.613, Df=0.552\n",
            "Epoch 6/20 (1025s): G=0.971, Dr=0.618, Df=0.563\n",
            "Epoch 7/20 (1195s): G=0.960, Dr=0.622, Df=0.571\n",
            "Epoch 8/20 (1367s): G=0.971, Dr=0.618, Df=0.560\n",
            "Epoch 9/20 (1536s): G=0.960, Dr=0.621, Df=0.567\n",
            "Epoch 10/20 (1706s): G=0.908, Dr=0.636, Df=0.590\n",
            "Epoch 11/20 (1874s): G=0.931, Dr=0.629, Df=0.577\n",
            "Epoch 12/20 (2044s): G=0.919, Dr=0.632, Df=0.582\n",
            "Epoch 13/20 (2213s): G=0.933, Dr=0.629, Df=0.578\n",
            "Epoch 14/20 (2383s): G=0.932, Dr=0.630, Df=0.582\n",
            "Epoch 15/20 (2554s): G=0.940, Dr=0.625, Df=0.573\n",
            "Epoch 16/20 (2724s): G=0.919, Dr=0.632, Df=0.581\n",
            "Epoch 17/20 (2895s): G=0.902, Dr=0.636, Df=0.588\n",
            "Epoch 18/20 (3064s): G=0.895, Dr=0.638, Df=0.593\n",
            "Epoch 19/20 (3234s): G=0.899, Dr=0.637, Df=0.595\n",
            "Epoch 20/20 (3403s): G=0.910, Dr=0.635, Df=0.587\n"
          ],
          "name": "stdout"
        }
      ]
    },
    {
      "cell_type": "code",
      "metadata": {
        "colab": {
          "base_uri": "https://localhost:8080/"
        },
        "id": "uVKcvG29hn9m",
        "outputId": "bb416511-b4d0-439b-e400-61217b81d9f4"
      },
      "source": [
        "from time import time\r\n",
        "\r\n",
        "epochs = 20\r\n",
        "##batches = 100\r\n",
        "generator = Generator(19, [64, 32, 12]) # X_train.shape[1] , y_train.shape[1]\r\n",
        "discriminator = Discriminator(12, [64, 32, 1])\r\n",
        "##noise_fn = lambda x: torch.rand((x, 19), device='cuda') ######## < --------------\r\n",
        "##data_fn = lambda x: torch.randn((x, 12), device='cuda') ######## < --------------\r\n",
        "##gan = VanillaGAN(generator, discriminator, noise_fn, data_fn, device='cuda')\r\n",
        "gan = VanillaGAN(generator, discriminator, batch_size, device='cuda')\r\n",
        "loss_g, loss_d_real, loss_d_fake = [], [], []\r\n",
        "start = time()\r\n",
        "for epoch in range(epochs):\r\n",
        "    count_batches = 0\r\n",
        "    loss_g_running, loss_d_real_running, loss_d_fake_running = 0, 0, 0\r\n",
        "    #for batch in range(batches):\r\n",
        "    for features, labels in train_loader:\r\n",
        "        features, labels = features.cuda(), labels.cuda()\r\n",
        "        lg_, (ldr_, ldf_) = gan.train_step(features.float(), labels.float())\r\n",
        "        loss_g_running += lg_\r\n",
        "        loss_d_real_running += ldr_\r\n",
        "        loss_d_fake_running += ldf_\r\n",
        "        count_batches += 1\r\n",
        "    loss_g.append(loss_g_running / count_batches)\r\n",
        "    loss_d_real.append(loss_d_real_running / count_batches)\r\n",
        "    loss_d_fake.append(loss_d_fake_running / count_batches)\r\n",
        "    print(f\"Epoch {epoch+1}/{epochs} ({int(time() - start)}s):\"\r\n",
        "          f\" G={loss_g[-1]:.3f},\"\r\n",
        "          f\" Dr={loss_d_real[-1]:.3f},\"\r\n",
        "          f\" Df={loss_d_fake[-1]:.3f}\")"
      ],
      "execution_count": 24,
      "outputs": [
        {
          "output_type": "stream",
          "text": [
            "Epoch 1/20 (178s): G=6.198, Dr=0.339, Df=0.331\n",
            "Epoch 2/20 (354s): G=1.107, Dr=0.601, Df=0.536\n",
            "Epoch 3/20 (530s): G=1.025, Dr=0.614, Df=0.558\n",
            "Epoch 4/20 (706s): G=1.030, Dr=0.613, Df=0.553\n",
            "Epoch 5/20 (884s): G=1.036, Dr=0.611, Df=0.551\n",
            "Epoch 6/20 (1059s): G=1.010, Dr=0.614, Df=0.557\n",
            "Epoch 7/20 (1236s): G=1.022, Dr=0.609, Df=0.549\n",
            "Epoch 8/20 (1414s): G=0.986, Dr=0.620, Df=0.566\n",
            "Epoch 9/20 (1595s): G=0.963, Dr=0.624, Df=0.576\n",
            "Epoch 10/20 (1773s): G=0.984, Dr=0.619, Df=0.565\n",
            "Epoch 11/20 (1952s): G=0.962, Dr=0.624, Df=0.572\n",
            "Epoch 12/20 (2131s): G=0.943, Dr=0.627, Df=0.579\n",
            "Epoch 13/20 (2309s): G=0.933, Dr=0.631, Df=0.584\n",
            "Epoch 14/20 (2488s): G=0.899, Dr=0.642, Df=0.609\n",
            "Epoch 15/20 (2667s): G=0.905, Dr=0.640, Df=0.600\n",
            "Epoch 16/20 (2847s): G=0.898, Dr=0.642, Df=0.602\n",
            "Epoch 17/20 (3027s): G=0.895, Dr=0.643, Df=0.605\n",
            "Epoch 18/20 (3204s): G=0.890, Dr=0.645, Df=0.606\n",
            "Epoch 19/20 (3384s): G=0.896, Dr=0.640, Df=0.598\n",
            "Epoch 20/20 (3564s): G=0.952, Dr=0.629, Df=0.578\n"
          ],
          "name": "stdout"
        }
      ]
    },
    {
      "cell_type": "code",
      "metadata": {
        "colab": {
          "base_uri": "https://localhost:8080/"
        },
        "id": "n42ryq16zcxR",
        "outputId": "ff95b773-2116-45b5-8bfb-56eb85502357"
      },
      "source": [
        "gan.generate_samples(torch.tensor((0, 1, 2, 3, 4, 5, 6, 7, 8, 9, 10, 11, 12, 13, 14, 15, 16, 17, 18), dtype=torch.float, device='cuda'), 1)"
      ],
      "execution_count": 88,
      "outputs": [
        {
          "output_type": "execute_result",
          "data": {
            "text/plain": [
              "tensor([-15.2117,  34.0781,   7.5779,  -5.0084, -29.8542,   3.8091,  -1.9497,\n",
              "        -13.0288, -14.4846,  25.4570, -18.9715,  15.6978], device='cuda:0')"
            ]
          },
          "metadata": {
            "tags": []
          },
          "execution_count": 88
        }
      ]
    },
    {
      "cell_type": "code",
      "metadata": {
        "colab": {
          "base_uri": "https://localhost:8080/"
        },
        "id": "Wu6hIgrkhdru",
        "outputId": "3767fd5c-9b1b-4b59-a4b7-971c469b8867"
      },
      "source": [
        "y_true = []\r\n",
        "y_pred = []\r\n",
        "\r\n",
        "for features, labels in test_loader:\r\n",
        "    features, labels = features.cuda(), labels.detach().numpy()\r\n",
        "    outputs = gan.generate_samples(features.float())    \r\n",
        "    outputs = outputs.detach().cpu().numpy()\r\n",
        "\r\n",
        "    y_pred.append(outputs)\r\n",
        "    y_true.append(labels)\r\n",
        "\r\n",
        "show_metric(y_pred, y_true)"
      ],
      "execution_count": 25,
      "outputs": [
        {
          "output_type": "stream",
          "text": [
            "\n",
            "Euclidean distance:\t1.906\n"
          ],
          "name": "stdout"
        }
      ]
    },
    {
      "cell_type": "code",
      "metadata": {
        "colab": {
          "base_uri": "https://localhost:8080/"
        },
        "id": "KFaMNB2bhdpI",
        "outputId": "bc6b2931-5fb2-44c0-c67d-0273edec081e"
      },
      "source": [
        "print(y_true[0])\r\n",
        "print(y_pred[0])"
      ],
      "execution_count": 26,
      "outputs": [
        {
          "output_type": "stream",
          "text": [
            "[[-0.67395527  1.03842558 -0.46609802 -0.26750833 -0.08744055 -0.55251648\n",
            "   0.06810237  0.31983177 -0.2124693   0.25121132  0.09961122  0.02914081]]\n",
            "[[-2.8735523   2.3975954   0.22248186  0.6811306  -0.6667562  -0.13630494\n",
            "  -0.38938317  0.5198267  -0.50991833  0.11009459 -0.21513316 -1.0195515 ]]\n"
          ],
          "name": "stdout"
        }
      ]
    },
    {
      "cell_type": "code",
      "metadata": {
        "id": "ZTA2N0CUhdmi"
      },
      "source": [
        ""
      ],
      "execution_count": null,
      "outputs": []
    },
    {
      "cell_type": "code",
      "metadata": {
        "id": "yLpw8H8zhdjc"
      },
      "source": [
        ""
      ],
      "execution_count": null,
      "outputs": []
    },
    {
      "cell_type": "code",
      "metadata": {
        "id": "FnRyIfGEunRi"
      },
      "source": [
        ""
      ],
      "execution_count": null,
      "outputs": []
    },
    {
      "cell_type": "markdown",
      "metadata": {
        "id": "yDR5KYsIZqBm"
      },
      "source": [
        "## Классификаторы"
      ]
    },
    {
      "cell_type": "code",
      "metadata": {
        "id": "-gjp3j_fBqqF"
      },
      "source": [
        "import warnings\n",
        "warnings.filterwarnings('ignore')"
      ],
      "execution_count": null,
      "outputs": []
    },
    {
      "cell_type": "code",
      "metadata": {
        "id": "BANG5glggz5w"
      },
      "source": [
        "from sklearn.tree import DecisionTreeClassifier\n",
        "from sklearn.ensemble import RandomForestClassifier\n",
        "from sklearn.naive_bayes import GaussianNB\n",
        "from sklearn.linear_model import LogisticRegression\n",
        "from sklearn.linear_model import LinearRegression\n",
        "\n",
        "from sklearn.model_selection import cross_val_score\n",
        "from sklearn import metrics\n",
        "import matplotlib.pyplot as plt\n",
        "import pandas as pd\n",
        "\n",
        "from numpy import linalg"
      ],
      "execution_count": 13,
      "outputs": []
    },
    {
      "cell_type": "code",
      "metadata": {
        "id": "ypKbZzg5f0fu"
      },
      "source": [
        "import numpy as np\r\n",
        "from sklearn import linear_model\r\n",
        "from sklearn import svm\r\n",
        "\r\n",
        "classifiers = [\r\n",
        "    svm.SVR(),\r\n",
        "    linear_model.SGDRegressor(),\r\n",
        "    linear_model.BayesianRidge(),\r\n",
        "    linear_model.LassoLars(),\r\n",
        "    linear_model.ARDRegression(),\r\n",
        "    linear_model.PassiveAggressiveRegressor(),\r\n",
        "    linear_model.TheilSenRegressor(),\r\n",
        "    linear_model.LinearRegression()]"
      ],
      "execution_count": 14,
      "outputs": []
    },
    {
      "cell_type": "code",
      "metadata": {
        "colab": {
          "base_uri": "https://localhost:8080/"
        },
        "id": "Z4yeqyJ2dn5b",
        "outputId": "5f157e30-8001-4ec4-993c-64eae7deaf04"
      },
      "source": [
        "a = np.array([[1, 1, 1], [2, 2, 2]])\r\n",
        "print(a)\r\n",
        "print(a.T)"
      ],
      "execution_count": 54,
      "outputs": [
        {
          "output_type": "stream",
          "text": [
            "[[1 1 1]\n",
            " [2 2 2]]\n",
            "[[1 2]\n",
            " [1 2]\n",
            " [1 2]]\n"
          ],
          "name": "stdout"
        }
      ]
    },
    {
      "cell_type": "code",
      "metadata": {
        "id": "KLqcXG-7njFq"
      },
      "source": [
        "#def fit_clf(clf, X_train, y_train):\n",
        "def fit_clf(X_train, y_train):\n",
        "    \n",
        "    n_clf = y_train.shape[1]\n",
        "    clfs = []\n",
        "    for i in range(n_clf):\n",
        "        clfs.append(LinearRegression())\n",
        "    \n",
        "    for i in range(n_clf):\n",
        "        clfs[i].fit(X_train, y_train[:, i])\n",
        "    \n",
        "    return clfs\n",
        "\n",
        "def predict_clf(clfs, X_test, y_test, metric='micro'):\n",
        "    \n",
        "    y_pred = []\n",
        "\n",
        "    for i in range(len(clfs)):\n",
        "        y_pred.append(clfs[i].predict(X_test))\n",
        "\n",
        "    #print(len(y_pred), len(y_pred[0]))\n",
        "    y_pred = np.asarray(y_pred).T\n",
        "    #print(y_pred[0])\n",
        "\n",
        "    show_metric(y_pred, y_test)\n",
        "\n",
        "    #print('\\nConfusion matrix:\\n', pd.DataFrame(metrics.confusion_matrix(y_test, y_pred)))\n",
        "\n",
        "    #metrics.plot_confusion_matrix(clf, X_test, y_test, values_format='d')\n",
        "    #plt.show()\n",
        "\n",
        "    return y_pred\n",
        "\n",
        "\n",
        "def show_metric(y_pred, y_true):\n",
        "\n",
        "\n",
        "\n",
        "    L2_score = []\n",
        "\n",
        "    for i in range(len(y_pred)):\n",
        "        L2_score.append(np.linalg.norm(y_pred[i] - y_true[i]))\n",
        "\n",
        "    #print(pred, true)\n",
        "\n",
        "    #print(metrics.classification_report(true, pred))\n",
        "\n",
        "    #lev_score.append(Levenshtein.distance(out, true))\n",
        "    \n",
        "\n",
        "    #print('F1-score (%s):\\t%0.3f' % (metric, metrics.f1_score(y_true, y_pred, average=metric)))\n",
        "    #print('F1-score (%s):\\t%0.3f' % (metric, metrics.f1_score(y_true, y_pred, average=metric)))\n",
        "    #print('Recall (%s): \\t%0.3f' % (metric, metrics.recall_score(y_true, y_pred, average=metric)))\n",
        "    #print('Precision (%s):\\t%0.3f' % (metric,metrics.precision_score(y_true, y_pred, average=metric)))\n",
        "    #print('Accuracy:\\t\\t%0.3f' % metrics.accuracy_score(y_true, y_pred))\n",
        "    print('\\nEuclidean distance:\\t%0.3f' % np.mean(L2_score))\n",
        "\n",
        "    # np.linalg.norm(x-y)\n"
      ],
      "execution_count": 41,
      "outputs": []
    },
    {
      "cell_type": "code",
      "metadata": {
        "id": "yi4FkBKmunMh",
        "colab": {
          "base_uri": "https://localhost:8080/"
        },
        "outputId": "07739708-795e-4454-8ec2-9a22e08612d3"
      },
      "source": [
        "#lr = LinearRegression()\r\n",
        "\r\n",
        "lrs = fit_clf(X_train, y_train)\r\n",
        "y_pred = predict_clf(lrs, X_test, y_test) #'weighted'"
      ],
      "execution_count": 43,
      "outputs": [
        {
          "output_type": "stream",
          "text": [
            "\n",
            "Euclidean distance:\t1.144\n"
          ],
          "name": "stdout"
        }
      ]
    },
    {
      "cell_type": "code",
      "metadata": {
        "id": "ZKPAPVMn0OVN"
      },
      "source": [
        ""
      ],
      "execution_count": null,
      "outputs": []
    },
    {
      "cell_type": "code",
      "metadata": {
        "colab": {
          "base_uri": "https://localhost:8080/"
        },
        "id": "BL48u20axjas",
        "outputId": "4fd1e83d-2ee0-4fdc-c6a8-a7b3584de2e7"
      },
      "source": [
        "print(y_test[0])\r\n",
        "print(y_pred[0])"
      ],
      "execution_count": 47,
      "outputs": [
        {
          "output_type": "stream",
          "text": [
            "[-0.67395527  1.03842558 -0.46609802 -0.26750833 -0.08744055 -0.55251648\n",
            "  0.06810237  0.31983177 -0.2124693   0.25121132  0.09961122  0.02914081]\n",
            "[-1.52776019 -0.41384362 -0.43839239  0.56508074 -0.23214492 -0.48060697\n",
            " -0.27259143  0.04865441 -0.20263612  0.11753622 -0.29548488 -0.14340339]\n"
          ],
          "name": "stdout"
        }
      ]
    },
    {
      "cell_type": "code",
      "metadata": {
        "id": "NcIdmfe7g4D_"
      },
      "source": [
        "from sklearn import linear_model\r\n",
        "from sklearn import svm"
      ],
      "execution_count": 65,
      "outputs": []
    },
    {
      "cell_type": "code",
      "metadata": {
        "id": "_j8c3Jf4unJ9",
        "colab": {
          "base_uri": "https://localhost:8080/"
        },
        "outputId": "241cb99a-e865-430f-f06e-fb1ea79e1b68"
      },
      "source": [
        "svc = linear_model.SGDRegressor()\r\n",
        "\r\n",
        "svcs = fit_clf(svc, X_train, y_train)\r\n",
        "y_pred = predict_clf(svcs, X_test, y_test) #'weighted'"
      ],
      "execution_count": 67,
      "outputs": [
        {
          "output_type": "stream",
          "text": [
            "\n",
            "Euclidean distance:\t557722936138315.750\n"
          ],
          "name": "stdout"
        }
      ]
    },
    {
      "cell_type": "code",
      "metadata": {
        "id": "t5ibjcPiunHK"
      },
      "source": [
        ""
      ],
      "execution_count": null,
      "outputs": []
    },
    {
      "cell_type": "code",
      "metadata": {
        "id": "tOJMrgtwzNa3"
      },
      "source": [
        ""
      ],
      "execution_count": null,
      "outputs": []
    }
  ]
}