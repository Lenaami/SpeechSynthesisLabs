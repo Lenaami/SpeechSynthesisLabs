{
  "nbformat": 4,
  "nbformat_minor": 0,
  "metadata": {
    "colab": {
      "name": "SS_lab2",
      "provenance": [],
      "collapsed_sections": [],
      "toc_visible": true,
      "authorship_tag": "ABX9TyNJL0fXM45n+J2gh6vrQ8aQ",
      "include_colab_link": true
    },
    "kernelspec": {
      "name": "python3",
      "display_name": "Python 3"
    }
  },
  "cells": [
    {
      "cell_type": "markdown",
      "metadata": {
        "id": "view-in-github",
        "colab_type": "text"
      },
      "source": [
        "<a href=\"https://colab.research.google.com/github/Lenaami/SpeechSynthesisLabs/blob/main/SS_lab2.ipynb\" target=\"_parent\"><img src=\"https://colab.research.google.com/assets/colab-badge.svg\" alt=\"Open In Colab\"/></a>"
      ]
    },
    {
      "cell_type": "code",
      "metadata": {
        "colab": {
          "base_uri": "https://localhost:8080/"
        },
        "id": "nE_O2ye2NxIG",
        "outputId": "1bdb81bd-62c8-4b81-8e59-9d2aa1ff411f"
      },
      "source": [
        "from google.colab import drive\n",
        "drive.mount('/content/gdrive')"
      ],
      "execution_count": null,
      "outputs": [
        {
          "output_type": "stream",
          "text": [
            "Drive already mounted at /content/gdrive; to attempt to forcibly remount, call drive.mount(\"/content/gdrive\", force_remount=True).\n"
          ],
          "name": "stdout"
        }
      ]
    },
    {
      "cell_type": "code",
      "metadata": {
        "id": "LjbICZ1UNxFf"
      },
      "source": [
        "path = '/content/gdrive/My Drive/Colab Notebooks/Синтез речи/'"
      ],
      "execution_count": null,
      "outputs": []
    },
    {
      "cell_type": "code",
      "metadata": {
        "id": "Z3t3WxJKWWoF"
      },
      "source": [
        "book1 = 'r_hod.Result.xml'\n",
        "book2 = 'tropa.Result.xml' #самый большой\n",
        "book3 = 'whtguard.Result.xml'"
      ],
      "execution_count": null,
      "outputs": []
    },
    {
      "cell_type": "markdown",
      "metadata": {
        "id": "lKVWcZSzjQr1"
      },
      "source": [
        "# Парсинг xml"
      ]
    },
    {
      "cell_type": "code",
      "metadata": {
        "id": "CoBO8OkFNxDE"
      },
      "source": [
        "import xml.etree.ElementTree as ET \n",
        "import numpy as np\n",
        "import re"
      ],
      "execution_count": null,
      "outputs": []
    },
    {
      "cell_type": "code",
      "metadata": {
        "id": "GDZaYA1z6ws_"
      },
      "source": [
        "def isNone(a):\n",
        "    return int(a) if a is not None else -1\n",
        "\n",
        "def isNoneWord(a):\n",
        "    return a if a is not None else ''"
      ],
      "execution_count": null,
      "outputs": []
    },
    {
      "cell_type": "code",
      "metadata": {
        "id": "wQ04tRJYVE_M"
      },
      "source": [
        "# n-граммы\n",
        "def add_n_gramm(n_gramm, X):\n",
        "    zero_word = np.zeros(X.shape[1], dtype = int)\n",
        "\n",
        "    X_gram = X.copy()\n",
        "\n",
        "    for i in range(n_gramm):\n",
        "        X_gram = np.vstack((zero_word, X_gram, zero_word))\n",
        "\n",
        "    for i in range(1, n_gramm + 1):\n",
        "        X = np.hstack((X_gram[(n_gramm - i):-(n_gramm + i), :], X, X_gram[(i + n_gramm):(X_gram.shape[0] - n_gramm + i), :]))\n",
        "    \n",
        "    return X"
      ],
      "execution_count": null,
      "outputs": []
    },
    {
      "cell_type": "code",
      "metadata": {
        "id": "wgB56mEgf1Hw"
      },
      "source": [
        "def get_data(file, n_gramm = 0, bySentence = False):\n",
        "    X = []\n",
        "    y_intonation = []\n",
        "    y_pause = []\n",
        "    y = []\n",
        "    words = []    \n",
        "\n",
        "    tree = ET.parse(file)\n",
        "    root = tree.getroot()\n",
        "\n",
        "    tags = ['content', 'word', 'intonation', 'pause']\n",
        "    letters = ['8', '9', '10', '16', '24', '25', '26']\n",
        "\n",
        "    for snt in root.findall('sentence'):\n",
        "        features = []\n",
        "        feat_wrd = []\n",
        "\n",
        "        ys_intonation = []\n",
        "        ys_pause = []\n",
        "        ys = []\n",
        "\n",
        "        words_snt = []\n",
        "\n",
        "        phonetic_wrd = []\n",
        "\n",
        "        count = 0\n",
        "        for feat in snt:\n",
        "\n",
        "            if feat.tag not in tags:\n",
        "                continue\n",
        "            \n",
        "            if count != tags.index(feat.tag):\n",
        "                count = 0\n",
        "                ys_intonation.append(0)\n",
        "                ys_pause.append(0)\n",
        "                ys.append(0)\n",
        "\n",
        "            if feat.tag == 'content':  # пунктуация и эмфазы\n",
        "                feat_wrd.append(isNone(feat.get('PunktBeg')))\n",
        "                feat_wrd.append(isNone(feat.get('PunktEnd')))\n",
        "                feat_wrd.append(isNone(feat.get('EmphBeg')))\n",
        "                feat_wrd.append(isNone(feat.get('EmphEnd')))\n",
        "\n",
        "            if feat.tag == 'word':\n",
        "                words_snt.append(isNoneWord(feat.get('original')))\n",
        "                dct = feat.find('dictitem')\n",
        "                if dct.get('stress_dict') is not None:\n",
        "                    phonetic_wrd.append(len(words_snt) - 1) # позиция фонетического слова\n",
        "                feat_wrd.append(isNone(dct.get('stress_dict'))) # ударение (номер гласной)\n",
        "                feat_wrd.append(isNone(dct.get('genesys'))) # одушевленность\n",
        "                feat_wrd.append(isNone(dct.get('form'))) # форма\n",
        "                feat_wrd.append(isNone(dct.get('subpart_of_speech'))) # часть речи        \n",
        "                feat_wrd.append(isNone(dct.get('semantics1')))\n",
        "                feat_wrd.append(isNone(dct.get('semantics2')))\n",
        "                lt_flags = (-1)*np.ones(len(letters), dtype=int)\n",
        "                for lt in feat.findall('letter'): # флаги букв\n",
        "                    if lt.get('flag') in letters:\n",
        "                        lt_flags[letters.index(lt.get('flag'))] = 1       \n",
        "                feat_wrd.extend(lt_flags)\n",
        "                feat_wrd.append(len(re.sub(r'[^\\w\\s]', '', isNoneWord(feat.get('original'))))) # длина слова без символов  ## len(feat.get('original')) с учетом символов\n",
        "\n",
        "            if feat.tag == 'intonation':\n",
        "                ys_intonation.append(feat.get('type'))\n",
        "\n",
        "            if feat.tag == 'pause':\n",
        "                ys_pause.append(feat.get('type'))\n",
        "                ys.append(1)\n",
        "\n",
        "            count += 1\n",
        "            \n",
        "            if count == 2:\n",
        "                features.append(feat_wrd)\n",
        "                feat_wrd = []\n",
        "\n",
        "            if count == 4:\n",
        "                count = 0\n",
        "\n",
        "        before = 0\n",
        "        after = len(phonetic_wrd)\n",
        "        for i, wrd in enumerate(words_snt):\n",
        "            if i in phonetic_wrd:  # учет только фонетических слов\n",
        "                before = phonetic_wrd.index(i)\n",
        "                after = len(phonetic_wrd) - 1 - phonetic_wrd.index(i)\n",
        "                features[i].append(before) # количество слов перед\n",
        "                features[i].append(after) # количество слов после\n",
        "                before += 1\n",
        "            else:\n",
        "                features[i].append(before)\n",
        "                features[i].append(after)\n",
        "\n",
        "        # объединение предложений в один массив\n",
        "        if bySentence:\n",
        "            X.append(features)\n",
        "            y_intonation.append(ys_intonation)\n",
        "            y_pause.append(ys_pause)\n",
        "            y.append(ys)\n",
        "            words.append(words_snt)\n",
        "        else:\n",
        "            X.extend(features)\n",
        "            y_intonation.extend(ys_intonation)\n",
        "            y_pause.extend(ys_pause)            \n",
        "            y.extend(ys)                       \n",
        "            words.extend(words_snt)\n",
        "\n",
        "    if bySentence == False:\n",
        "        X = np.asarray(X)\n",
        "        X = add_n_gramm(n_gramm, X)\n",
        "    \n",
        "    return X, y_intonation, y_pause, y, words"
      ],
      "execution_count": null,
      "outputs": []
    },
    {
      "cell_type": "code",
      "metadata": {
        "id": "PvRXn9cAmDPr"
      },
      "source": [
        "X_train_1, y_int_train_1, y_ps_train_1, y_train_1, words_1 = get_data(path + book2, n_gramm=2)"
      ],
      "execution_count": null,
      "outputs": []
    },
    {
      "cell_type": "code",
      "metadata": {
        "id": "NintYyjTvlI5"
      },
      "source": [
        "X_train_2, y_int_train_2, y_ps_train_2, y_train_2, words_2 = get_data(path + book3, n_gramm=2)"
      ],
      "execution_count": null,
      "outputs": []
    },
    {
      "cell_type": "code",
      "metadata": {
        "id": "jcJHqdL0vv_v"
      },
      "source": [
        "# Объединение корпусов (2 и 3)\n",
        "\n",
        "X_train = np.vstack((X_train_1, X_train_2))\n",
        "\n",
        "y_train = []\n",
        "y_train.extend(y_train_1)\n",
        "y_train.extend(y_train_2)\n",
        "\n",
        "y_ps_train = []\n",
        "y_ps_train.extend(y_ps_train_1)\n",
        "y_ps_train.extend(y_ps_train_2)\n",
        "\n",
        "y_int_train = []\n",
        "y_int_train.extend(y_int_train_1)\n",
        "y_int_train.extend(y_int_train_2)"
      ],
      "execution_count": null,
      "outputs": []
    },
    {
      "cell_type": "code",
      "metadata": {
        "id": "Vq_lFG8psmCP"
      },
      "source": [
        "# Тестовый корпус (1)\n",
        "\n",
        "X_test, y_int_test, y_ps_test, y_test, words_test = get_data(path + book1, n_gramm=2)"
      ],
      "execution_count": null,
      "outputs": []
    },
    {
      "cell_type": "markdown",
      "metadata": {
        "id": "UGcOvwg6isBe"
      },
      "source": [
        "#Классификация пауз"
      ]
    },
    {
      "cell_type": "code",
      "metadata": {
        "id": "BANG5glggz5w"
      },
      "source": [
        "from sklearn.tree import DecisionTreeClassifier\n",
        "from sklearn.ensemble import RandomForestClassifier\n",
        "from sklearn.naive_bayes import GaussianNB\n",
        "from sklearn.linear_model import LogisticRegression\n",
        "\n",
        "from sklearn.model_selection import cross_val_score\n",
        "from sklearn import metrics\n",
        "import matplotlib.pyplot as plt\n",
        "import pandas as pd"
      ],
      "execution_count": null,
      "outputs": []
    },
    {
      "cell_type": "code",
      "metadata": {
        "id": "KLqcXG-7njFq"
      },
      "source": [
        "def fit_clf(clf, X_train, y_train):\n",
        "    clf.fit(X_train, y_train)\n",
        "    return clf\n",
        "\n",
        "def predict_clf(clf, X_test, y_test, metric='binary'):\n",
        "    y_pred = clf.predict(X_test)\n",
        "\n",
        "    print(metrics.classification_report(y_test, y_pred))\n",
        "\n",
        "    print('F1-score (%s):\\t%0.3f' % (metric, metrics.f1_score(y_test, y_pred, average=metric)))\n",
        "    print('Recall (%s): \\t%0.3f' % (metric, metrics.recall_score(y_test, y_pred, average=metric)))\n",
        "    print('Precision (%s):\\t%0.3f' % (metric,metrics.precision_score(y_test, y_pred, average=metric)))\n",
        "    print('Accuracy:\\t\\t%0.3f' % metrics.accuracy_score(y_test, y_pred))\n",
        "\n",
        "    print('\\nConfusion matrix:\\n', pd.DataFrame(metrics.confusion_matrix(y_test, y_pred)))\n",
        "\n",
        "    return y_pred\n",
        "\n",
        "def cross_val_clf(clf, X, y, metric='f1'):\n",
        "    scores = cross_val_score(estimator=clf, X=X, y=y, cv=5, scoring=metric)\n",
        "    df_scores = pd.DataFrame({'Srocc Val Scores (F1)': scores})\n",
        "    print(df_scores)\n",
        "    print('Average:\\t%0.3f\\n' % np.mean(scores))"
      ],
      "execution_count": null,
      "outputs": []
    },
    {
      "cell_type": "code",
      "metadata": {
        "id": "-gjp3j_fBqqF"
      },
      "source": [
        "import warnings\n",
        "warnings.filterwarnings('ignore')"
      ],
      "execution_count": null,
      "outputs": []
    },
    {
      "cell_type": "markdown",
      "metadata": {
        "id": "LlHx1Vm1i6NL"
      },
      "source": [
        "## Decision Tree"
      ]
    },
    {
      "cell_type": "code",
      "metadata": {
        "colab": {
          "base_uri": "https://localhost:8080/"
        },
        "id": "j-zop2EGHPTP",
        "outputId": "fd6c8198-89af-468f-f283-94a4bca282cd"
      },
      "source": [
        "tree = DecisionTreeClassifier()\n",
        "    \n",
        "cross_val_clf(tree, X_train, y_train)\n",
        "\n",
        "tree = fit_clf(tree, X_train, y_train)\n",
        "y_pred = predict_clf(tree, X_test, y_test)"
      ],
      "execution_count": null,
      "outputs": [
        {
          "output_type": "stream",
          "text": [
            "   Srocc Val Scores (F1)\n",
            "0               0.952575\n",
            "1               0.955050\n",
            "2               0.959241\n",
            "3               0.938533\n",
            "4               0.946732\n",
            "Average:\t0.950\n",
            "\n",
            "              precision    recall  f1-score   support\n",
            "\n",
            "           0       0.99      0.98      0.98       970\n",
            "           1       0.94      0.95      0.95       298\n",
            "\n",
            "    accuracy                           0.97      1268\n",
            "   macro avg       0.96      0.97      0.97      1268\n",
            "weighted avg       0.97      0.97      0.97      1268\n",
            "\n",
            "F1-score (binary):\t0.947\n",
            "Recall (binary): \t0.953\n",
            "Precision (binary):\t0.940\n",
            "Accuracy:\t\t0.975\n",
            "\n",
            "Confusion matrix:\n",
            "      0    1\n",
            "0  952   18\n",
            "1   14  284\n"
          ],
          "name": "stdout"
        }
      ]
    },
    {
      "cell_type": "markdown",
      "metadata": {
        "id": "beaCtn5Wi8K-"
      },
      "source": [
        "## Random Forest"
      ]
    },
    {
      "cell_type": "code",
      "metadata": {
        "colab": {
          "base_uri": "https://localhost:8080/"
        },
        "id": "xisO3HDg5LPQ",
        "outputId": "38f8520a-8ca4-4cd5-a546-4c6043464457"
      },
      "source": [
        "rf = RandomForestClassifier(n_estimators=15)\n",
        "\n",
        "cross_val_clf(rf, X_train, y_train)\n",
        "\n",
        "rf = fit_clf(rf, X_train, y_train)\n",
        "y_pred = predict_clf(rf, X_test, y_test)"
      ],
      "execution_count": null,
      "outputs": [
        {
          "output_type": "stream",
          "text": [
            "   Srocc Val Scores (F1)\n",
            "0               0.963832\n",
            "1               0.965414\n",
            "2               0.971905\n",
            "3               0.950552\n",
            "4               0.962200\n",
            "Average:\t0.963\n",
            "\n",
            "              precision    recall  f1-score   support\n",
            "\n",
            "           0       0.98      1.00      0.99       970\n",
            "           1       0.99      0.94      0.97       298\n",
            "\n",
            "    accuracy                           0.98      1268\n",
            "   macro avg       0.99      0.97      0.98      1268\n",
            "weighted avg       0.98      0.98      0.98      1268\n",
            "\n",
            "F1-score (binary):\t0.966\n",
            "Recall (binary): \t0.943\n",
            "Precision (binary):\t0.989\n",
            "Accuracy:\t\t0.984\n",
            "\n",
            "Confusion matrix:\n",
            "      0    1\n",
            "0  967    3\n",
            "1   17  281\n"
          ],
          "name": "stdout"
        }
      ]
    },
    {
      "cell_type": "markdown",
      "metadata": {
        "id": "TaLLlmsei-it"
      },
      "source": [
        "## Naive Baies\n",
        "\n"
      ]
    },
    {
      "cell_type": "code",
      "metadata": {
        "colab": {
          "base_uri": "https://localhost:8080/"
        },
        "id": "wQFaZu8Bm8Oq",
        "outputId": "057d241b-a452-4f92-bcfc-b7d084335f0a"
      },
      "source": [
        "nb = GaussianNB(var_smoothing=1e-5) \n",
        "\n",
        "cross_val_clf(nb, X_train, y_train)\n",
        "\n",
        "nb = fit_clf(nb, X_train, y_train)\n",
        "y_pred = predict_clf(nb, X_test, y_test)"
      ],
      "execution_count": null,
      "outputs": [
        {
          "output_type": "stream",
          "text": [
            "   Srocc Val Scores (F1)\n",
            "0               0.727149\n",
            "1               0.724684\n",
            "2               0.734301\n",
            "3               0.708370\n",
            "4               0.733291\n",
            "Average:\t0.726\n",
            "\n",
            "              precision    recall  f1-score   support\n",
            "\n",
            "           0       0.88      0.96      0.92       970\n",
            "           1       0.81      0.59      0.68       298\n",
            "\n",
            "    accuracy                           0.87      1268\n",
            "   macro avg       0.85      0.77      0.80      1268\n",
            "weighted avg       0.87      0.87      0.86      1268\n",
            "\n",
            "F1-score (binary):\t0.682\n",
            "Recall (binary): \t0.591\n",
            "Precision (binary):\t0.807\n",
            "Accuracy:\t\t0.871\n",
            "\n",
            "Confusion matrix:\n",
            "      0    1\n",
            "0  928   42\n",
            "1  122  176\n"
          ],
          "name": "stdout"
        }
      ]
    },
    {
      "cell_type": "markdown",
      "metadata": {
        "id": "wwT6TDJ2jDbq"
      },
      "source": [
        "## Logisric Regression"
      ]
    },
    {
      "cell_type": "code",
      "metadata": {
        "colab": {
          "base_uri": "https://localhost:8080/"
        },
        "id": "KpPP6aqEPZSK",
        "outputId": "f327c880-0510-41c7-b060-6caede4d042e"
      },
      "source": [
        "lr = LogisticRegression()\n",
        "\n",
        "cross_val_clf(lr, X_train, y_train)\n",
        "\n",
        "lr = fit_clf(lr, X_train, y_train)\n",
        "y_pred = predict_clf(lr, X_test, y_test)"
      ],
      "execution_count": null,
      "outputs": [
        {
          "output_type": "stream",
          "text": [
            "   Srocc Val Scores (F1)\n",
            "0               0.936746\n",
            "1               0.934878\n",
            "2               0.946012\n",
            "3               0.913275\n",
            "4               0.925129\n",
            "Average:\t0.931\n",
            "\n",
            "              precision    recall  f1-score   support\n",
            "\n",
            "           0       0.97      0.99      0.98       970\n",
            "           1       0.97      0.89      0.93       298\n",
            "\n",
            "    accuracy                           0.97      1268\n",
            "   macro avg       0.97      0.94      0.95      1268\n",
            "weighted avg       0.97      0.97      0.97      1268\n",
            "\n",
            "F1-score (binary):\t0.928\n",
            "Recall (binary): \t0.886\n",
            "Precision (binary):\t0.974\n",
            "Accuracy:\t\t0.968\n",
            "\n",
            "Confusion matrix:\n",
            "      0    1\n",
            "0  963    7\n",
            "1   34  264\n"
          ],
          "name": "stdout"
        }
      ]
    },
    {
      "cell_type": "markdown",
      "metadata": {
        "id": "gPS5T1oqmBnN"
      },
      "source": [
        "# Классификация по типам пауз и интонационных контуров"
      ]
    },
    {
      "cell_type": "code",
      "metadata": {
        "colab": {
          "base_uri": "https://localhost:8080/"
        },
        "id": "8RNWXGeWlvXJ",
        "outputId": "9f82e473-31dc-45fa-bfc5-3ca0988706ac"
      },
      "source": [
        "# Типы пауз в используемых корпусах\n",
        "\n",
        "print(set(y_ps_train))\n",
        "print(set(y_ps_test))"
      ],
      "execution_count": null,
      "outputs": [
        {
          "output_type": "stream",
          "text": [
            "{0, 'long', 'x-long', 'spelling', 'weak'}\n",
            "{0, 'long', 'x-long', 'spelling', 'weak'}\n"
          ],
          "name": "stdout"
        }
      ]
    },
    {
      "cell_type": "code",
      "metadata": {
        "colab": {
          "base_uri": "https://localhost:8080/"
        },
        "id": "lv6gbd-Reygu",
        "outputId": "29ca37e5-1c07-4738-c681-c08822c14230"
      },
      "source": [
        "# Типы интонационных контуров в используемых корпусах\n",
        "\n",
        "print(set(y_int_train))\n",
        "print(set(y_int_test))"
      ],
      "execution_count": null,
      "outputs": [
        {
          "output_type": "stream",
          "text": [
            "{0, '40', '50', '30', '70', '110', '11'}\n",
            "{0, '40', '50', '30', '70', '110', '11'}\n"
          ],
          "name": "stdout"
        }
      ]
    },
    {
      "cell_type": "markdown",
      "metadata": {
        "id": "72hqNUnYmcsr"
      },
      "source": [
        "## Учитывая нулевой класс\r\n",
        "\r\n",
        "Для каждого классификатора:\r\n",
        "1. Классификация по типу паузы\r\n",
        "2. Классификация по типу интонационного контура"
      ]
    },
    {
      "cell_type": "markdown",
      "metadata": {
        "id": "IprlDmtys2vV"
      },
      "source": [
        "### Decision Tree"
      ]
    },
    {
      "cell_type": "code",
      "metadata": {
        "colab": {
          "base_uri": "https://localhost:8080/"
        },
        "id": "k_WYArogqhzz",
        "outputId": "0f29c030-0644-4b5d-cfb6-d642978d0c4b"
      },
      "source": [
        "tree_2 = DecisionTreeClassifier()\n",
        "    \n",
        "cross_val_clf(tree_2, X_train, y_ps_train, metric='f1_macro')\n",
        "\n",
        "tree_2 = fit_clf(tree_2, X_train, y_ps_train)\n",
        "y_pred = predict_clf(tree_2, X_test, y_ps_test, metric='macro')"
      ],
      "execution_count": null,
      "outputs": [
        {
          "output_type": "stream",
          "text": [
            "   Srocc Val Scores (F1)\n",
            "0               0.867442\n",
            "1               0.771254\n",
            "2               0.759452\n",
            "3               0.750449\n",
            "4               0.701569\n",
            "Average:\t0.770\n",
            "\n",
            "              precision    recall  f1-score   support\n",
            "\n",
            "           0       0.98      0.98      0.98       970\n",
            "        long       0.98      1.00      0.99        91\n",
            "    spelling       1.00      1.00      1.00         1\n",
            "        weak       0.91      0.93      0.92       204\n",
            "      x-long       0.00      0.00      0.00         2\n",
            "\n",
            "    accuracy                           0.97      1268\n",
            "   macro avg       0.78      0.78      0.78      1268\n",
            "weighted avg       0.97      0.97      0.97      1268\n",
            "\n",
            "F1-score (macro):\t0.778\n",
            "Recall (macro): \t0.782\n",
            "Precision (macro):\t0.775\n",
            "Accuracy:\t\t0.972\n",
            "\n",
            "Confusion matrix:\n",
            "      0   1  2    3  4\n",
            "0  952   0  0   18  0\n",
            "1    0  91  0    0  0\n",
            "2    0   0  1    0  0\n",
            "3   15   0  0  189  0\n",
            "4    0   2  0    0  0\n"
          ],
          "name": "stdout"
        }
      ]
    },
    {
      "cell_type": "code",
      "metadata": {
        "colab": {
          "base_uri": "https://localhost:8080/"
        },
        "id": "8J1lrenFq-DN",
        "outputId": "f2732622-2f22-4fd5-95ed-584f3287055e"
      },
      "source": [
        "tree_3 = DecisionTreeClassifier()\n",
        "    \n",
        "cross_val_clf(tree_3, X_train, y_int_train, metric='f1_macro')\n",
        "\n",
        "tree_3 = fit_clf(tree_3, X_train, y_int_train)\n",
        "y_pred = predict_clf(tree_3, X_test, y_int_test, metric='macro')"
      ],
      "execution_count": null,
      "outputs": [
        {
          "output_type": "stream",
          "text": [
            "   Srocc Val Scores (F1)\n",
            "0               0.717130\n",
            "1               0.685636\n",
            "2               0.718948\n",
            "3               0.698500\n",
            "4               0.701718\n",
            "Average:\t0.704\n",
            "\n",
            "              precision    recall  f1-score   support\n",
            "\n",
            "           0       0.98      0.98      0.98       970\n",
            "          11       0.93      0.97      0.95        87\n",
            "         110       0.89      0.90      0.89       183\n",
            "          30       0.67      0.50      0.57        12\n",
            "          40       0.83      1.00      0.91        10\n",
            "          50       1.00      0.67      0.80         3\n",
            "          70       0.33      0.33      0.33         3\n",
            "\n",
            "    accuracy                           0.96      1268\n",
            "   macro avg       0.81      0.76      0.78      1268\n",
            "weighted avg       0.96      0.96      0.96      1268\n",
            "\n",
            "F1-score (macro):\t0.777\n",
            "Recall (macro): \t0.764\n",
            "Precision (macro):\t0.805\n",
            "Accuracy:\t\t0.961\n",
            "\n",
            "Confusion matrix:\n",
            "      0   1    2  3   4  5  6\n",
            "0  951   0   18  0   0  0  1\n",
            "1    1  84    0  1   1  0  0\n",
            "2   13   3  165  1   0  0  1\n",
            "3    1   3    2  6   0  0  0\n",
            "4    0   0    0  0  10  0  0\n",
            "5    0   0    0  0   1  2  0\n",
            "6    0   0    1  1   0  0  1\n"
          ],
          "name": "stdout"
        }
      ]
    },
    {
      "cell_type": "markdown",
      "metadata": {
        "id": "txdVhIT-s5wA"
      },
      "source": [
        "### Random Forest"
      ]
    },
    {
      "cell_type": "code",
      "metadata": {
        "colab": {
          "base_uri": "https://localhost:8080/"
        },
        "id": "qlA54YeHHhXe",
        "outputId": "bd236751-caef-430a-813f-0f36964090d1"
      },
      "source": [
        "rf_2 = RandomForestClassifier(n_estimators=15) \n",
        "\n",
        "cross_val_clf(rf_2, X_train, y_ps_train, metric='f1_macro')\n",
        "\n",
        "rf_2 = fit_clf(rf_2, X_train, y_ps_train)\n",
        "y_pred = predict_clf(rf_2, X_test, y_ps_test, metric='macro')"
      ],
      "execution_count": null,
      "outputs": [
        {
          "output_type": "stream",
          "text": [
            "   Srocc Val Scores (F1)\n",
            "0               0.680351\n",
            "1               0.747765\n",
            "2               0.759069\n",
            "3               0.779176\n",
            "4               0.617269\n",
            "Average:\t0.717\n",
            "\n",
            "              precision    recall  f1-score   support\n",
            "\n",
            "           0       0.98      0.99      0.99       970\n",
            "        long       0.98      1.00      0.99        91\n",
            "    spelling       1.00      1.00      1.00         1\n",
            "        weak       0.97      0.92      0.94       204\n",
            "      x-long       0.00      0.00      0.00         2\n",
            "\n",
            "    accuracy                           0.98      1268\n",
            "   macro avg       0.79      0.78      0.78      1268\n",
            "weighted avg       0.98      0.98      0.98      1268\n",
            "\n",
            "F1-score (macro):\t0.784\n",
            "Recall (macro): \t0.782\n",
            "Precision (macro):\t0.787\n",
            "Accuracy:\t\t0.981\n",
            "\n",
            "Confusion matrix:\n",
            "      0   1  2    3  4\n",
            "0  965   0  0    5  0\n",
            "1    0  91  0    0  0\n",
            "2    0   0  1    0  0\n",
            "3   17   0  0  187  0\n",
            "4    0   2  0    0  0\n"
          ],
          "name": "stdout"
        }
      ]
    },
    {
      "cell_type": "code",
      "metadata": {
        "colab": {
          "base_uri": "https://localhost:8080/"
        },
        "id": "ftdSgyHLdFGA",
        "outputId": "23a7e9a0-bf24-44e7-a618-5b05b00c9b7d"
      },
      "source": [
        "rf_3 = RandomForestClassifier(n_estimators=15)\n",
        "\n",
        "cross_val_clf(rf_3, X_train, y_int_train, metric='f1_macro')\n",
        "\n",
        "rf_3 = fit_clf(rf_3, X_train, y_int_train)\n",
        "y_pred = predict_clf(rf_3, X_test, y_int_test, metric='macro')"
      ],
      "execution_count": null,
      "outputs": [
        {
          "output_type": "stream",
          "text": [
            "   Srocc Val Scores (F1)\n",
            "0               0.570505\n",
            "1               0.543288\n",
            "2               0.524875\n",
            "3               0.539155\n",
            "4               0.559745\n",
            "Average:\t0.548\n",
            "\n",
            "              precision    recall  f1-score   support\n",
            "\n",
            "           0       0.98      1.00      0.99       970\n",
            "          11       0.78      0.84      0.81        87\n",
            "         110       0.90      0.89      0.89       183\n",
            "          30       0.33      0.08      0.13        12\n",
            "          40       0.00      0.00      0.00        10\n",
            "          50       0.00      0.00      0.00         3\n",
            "          70       0.00      0.00      0.00         3\n",
            "\n",
            "    accuracy                           0.95      1268\n",
            "   macro avg       0.43      0.40      0.40      1268\n",
            "weighted avg       0.93      0.95      0.94      1268\n",
            "\n",
            "F1-score (macro):\t0.403\n",
            "Recall (macro): \t0.401\n",
            "Precision (macro):\t0.427\n",
            "Accuracy:\t\t0.948\n",
            "\n",
            "Confusion matrix:\n",
            "      0   1    2  3  4  5  6\n",
            "0  966   0    4  0  0  0  0\n",
            "1    4  73   10  0  0  0  0\n",
            "2   18   2  162  1  0  0  0\n",
            "3    0   8    3  1  0  0  0\n",
            "4    1   7    0  1  0  1  0\n",
            "5    0   3    0  0  0  0  0\n",
            "6    0   1    1  0  1  0  0\n"
          ],
          "name": "stdout"
        }
      ]
    },
    {
      "cell_type": "markdown",
      "metadata": {
        "id": "GTcptZTKtCmx"
      },
      "source": [
        "### Naive Baies"
      ]
    },
    {
      "cell_type": "code",
      "metadata": {
        "colab": {
          "base_uri": "https://localhost:8080/"
        },
        "id": "GooiZGmeFPAG",
        "outputId": "b8b7e0f7-7467-4b4f-b7b6-51c75806fd19"
      },
      "source": [
        "nb_2 = GaussianNB(var_smoothing=1e-5)\n",
        "\n",
        "cross_val_clf(nb_2, X_train, y_ps_train, metric='f1_macro')\n",
        "\n",
        "nb_2 = fit_clf(nb_2, X_train, y_ps_train)\n",
        "y_pred = predict_clf(nb_2, X_test, y_ps_test, metric='macro')"
      ],
      "execution_count": null,
      "outputs": [
        {
          "output_type": "stream",
          "text": [
            "   Srocc Val Scores (F1)\n",
            "0               0.551282\n",
            "1               0.689748\n",
            "2               0.685619\n",
            "3               0.614275\n",
            "4               0.495626\n",
            "Average:\t0.607\n",
            "\n",
            "              precision    recall  f1-score   support\n",
            "\n",
            "           0       0.95      0.89      0.92       970\n",
            "        long       0.99      0.87      0.92        91\n",
            "    spelling       1.00      1.00      1.00         1\n",
            "        weak       0.59      0.76      0.67       204\n",
            "      x-long       0.07      0.50      0.12         2\n",
            "\n",
            "    accuracy                           0.87      1268\n",
            "   macro avg       0.72      0.80      0.73      1268\n",
            "weighted avg       0.89      0.87      0.87      1268\n",
            "\n",
            "F1-score (macro):\t0.726\n",
            "Recall (macro): \t0.803\n",
            "Precision (macro):\t0.719\n",
            "Accuracy:\t\t0.865\n",
            "\n",
            "Confusion matrix:\n",
            "      0   1  2    3   4\n",
            "0  861   0  0  107   2\n",
            "1    2  79  0    0  10\n",
            "2    0   0  1    0   0\n",
            "3   48   0  0  155   1\n",
            "4    0   1  0    0   1\n"
          ],
          "name": "stdout"
        }
      ]
    },
    {
      "cell_type": "code",
      "metadata": {
        "colab": {
          "base_uri": "https://localhost:8080/"
        },
        "id": "pab26thwdpba",
        "outputId": "457f1e87-ce50-45ba-ee14-33576b6e00c1"
      },
      "source": [
        "nb_3 = GaussianNB(var_smoothing=1e-5)\n",
        "\n",
        "cross_val_clf(nb_3, X_train, y_int_train, metric='f1_macro')\n",
        "\n",
        "nb_3 = fit_clf(nb_3, X_train, y_int_train)\n",
        "y_pred = predict_clf(nb_3, X_test, y_int_test, metric='macro')"
      ],
      "execution_count": null,
      "outputs": [
        {
          "output_type": "stream",
          "text": [
            "   Srocc Val Scores (F1)\n",
            "0               0.446821\n",
            "1               0.444499\n",
            "2               0.467644\n",
            "3               0.445916\n",
            "4               0.435079\n",
            "Average:\t0.448\n",
            "\n",
            "              precision    recall  f1-score   support\n",
            "\n",
            "           0       0.96      0.75      0.85       970\n",
            "          11       0.75      0.75      0.75        87\n",
            "         110       0.40      0.85      0.54       183\n",
            "          30       0.14      0.17      0.15        12\n",
            "          40       0.00      0.00      0.00        10\n",
            "          50       0.00      0.00      0.00         3\n",
            "          70       0.00      0.00      0.00         3\n",
            "\n",
            "    accuracy                           0.75      1268\n",
            "   macro avg       0.32      0.36      0.33      1268\n",
            "weighted avg       0.85      0.75      0.78      1268\n",
            "\n",
            "F1-score (macro):\t0.327\n",
            "Recall (macro): \t0.359\n",
            "Precision (macro):\t0.322\n",
            "Accuracy:\t\t0.752\n",
            "\n",
            "Confusion matrix:\n",
            "      0   1    2  3  4  5  6\n",
            "0  732   8  219  5  0  0  6\n",
            "1    7  65    9  2  0  1  3\n",
            "2   19   5  155  1  0  0  3\n",
            "3    1   5    3  2  0  1  0\n",
            "4    0   2    0  3  0  5  0\n",
            "5    0   1    0  1  1  0  0\n",
            "6    0   1    1  0  0  1  0\n"
          ],
          "name": "stdout"
        }
      ]
    },
    {
      "cell_type": "markdown",
      "metadata": {
        "id": "UooM6gSvtMsu"
      },
      "source": [
        "### Logistic Regression"
      ]
    },
    {
      "cell_type": "code",
      "metadata": {
        "colab": {
          "base_uri": "https://localhost:8080/"
        },
        "id": "LVOk50hVTA54",
        "outputId": "f58b7185-682c-4fb0-c68f-5f1309dce777"
      },
      "source": [
        "lr_2 = LogisticRegression() \n",
        "\n",
        "cross_val_clf(lr_2, X_train, y_ps_train, metric='f1_macro')\n",
        "\n",
        "lr_2 = fit_clf(lr_2, X_train, y_ps_train)\n",
        "y_pred = predict_clf(lr_2, X_test, y_ps_test, metric='macro')"
      ],
      "execution_count": null,
      "outputs": [
        {
          "output_type": "stream",
          "text": [
            "   Srocc Val Scores (F1)\n",
            "0               0.568748\n",
            "1               0.712253\n",
            "2               0.716886\n",
            "3               0.696573\n",
            "4               0.558448\n",
            "Average:\t0.651\n",
            "\n",
            "              precision    recall  f1-score   support\n",
            "\n",
            "           0       0.96      0.99      0.98       970\n",
            "        long       0.97      0.98      0.97        91\n",
            "    spelling       0.00      0.00      0.00         1\n",
            "        weak       0.96      0.82      0.89       204\n",
            "      x-long       0.00      0.00      0.00         2\n",
            "\n",
            "    accuracy                           0.96      1268\n",
            "   macro avg       0.58      0.56      0.57      1268\n",
            "weighted avg       0.96      0.96      0.96      1268\n",
            "\n",
            "F1-score (macro):\t0.567\n",
            "Recall (macro): \t0.559\n",
            "Precision (macro):\t0.578\n",
            "Accuracy:\t\t0.962\n",
            "\n",
            "Confusion matrix:\n",
            "      0   1  2    3  4\n",
            "0  963   0  0    7  0\n",
            "1    0  89  0    0  2\n",
            "2    0   1  0    0  0\n",
            "3   36   0  0  168  0\n",
            "4    0   2  0    0  0\n"
          ],
          "name": "stdout"
        }
      ]
    },
    {
      "cell_type": "code",
      "metadata": {
        "colab": {
          "base_uri": "https://localhost:8080/"
        },
        "id": "TPR-JOzgdyhx",
        "outputId": "6867cad7-f767-453c-e502-875dbb7c7564"
      },
      "source": [
        "lr_3 = LogisticRegression() \n",
        "\n",
        "cross_val_clf(lr_3, X_train, y_int_train, metric='f1_macro')\n",
        "\n",
        "lr_3 = fit_clf(lr_3, X_train, y_int_train)\n",
        "y_pred = predict_clf(lr_3, X_test, y_int_test, metric='macro')"
      ],
      "execution_count": null,
      "outputs": [
        {
          "output_type": "stream",
          "text": [
            "   Srocc Val Scores (F1)\n",
            "0               0.382431\n",
            "1               0.378983\n",
            "2               0.391218\n",
            "3               0.385577\n",
            "4               0.383793\n",
            "Average:\t0.384\n",
            "\n",
            "              precision    recall  f1-score   support\n",
            "\n",
            "           0       0.96      0.99      0.98       970\n",
            "          11       0.72      0.78      0.75        87\n",
            "         110       0.86      0.79      0.82       183\n",
            "          30       0.00      0.00      0.00        12\n",
            "          40       0.00      0.00      0.00        10\n",
            "          50       0.00      0.00      0.00         3\n",
            "          70       0.00      0.00      0.00         3\n",
            "\n",
            "    accuracy                           0.93      1268\n",
            "   macro avg       0.36      0.37      0.36      1268\n",
            "weighted avg       0.91      0.93      0.92      1268\n",
            "\n",
            "F1-score (macro):\t0.364\n",
            "Recall (macro): \t0.366\n",
            "Precision (macro):\t0.363\n",
            "Accuracy:\t\t0.927\n",
            "\n",
            "Confusion matrix:\n",
            "      0   1    2  3  4  5  6\n",
            "0  963   0    7  0  0  0  0\n",
            "1    5  68   12  1  1  0  0\n",
            "2   34   4  144  1  0  0  0\n",
            "3    0   8    4  0  0  0  0\n",
            "4    0   9    0  1  0  0  0\n",
            "5    0   3    0  0  0  0  0\n",
            "6    0   2    1  0  0  0  0\n"
          ],
          "name": "stdout"
        }
      ]
    },
    {
      "cell_type": "markdown",
      "metadata": {
        "id": "1elUu2_xn1b0"
      },
      "source": [
        "## Учитывая только ненулевые классы"
      ]
    },
    {
      "cell_type": "code",
      "metadata": {
        "id": "5U2oef7WVxMR"
      },
      "source": [
        "def get_data_klass(X, y, y_ps, y_int):\n",
        "    new_X = []\n",
        "    new_y_ps = []\n",
        "    new_y_int = []\n",
        "    for i in range(len(y)):\n",
        "        if y[i] == 1:\n",
        "            new_X.append(X[i])\n",
        "            new_y_ps.append(y_ps[i])\n",
        "            new_y_int.append(y_int[i])            \n",
        "    \n",
        "    new_X = np.asarray(new_X)\n",
        "    return new_X, new_y_ps, new_y_int"
      ],
      "execution_count": null,
      "outputs": []
    },
    {
      "cell_type": "code",
      "metadata": {
        "id": "PfKJZXneVxPG"
      },
      "source": [
        "X_train_klass, y_ps_train_klass, y_int_train_klass = get_data_klass(X_train, y_train, y_ps_train, y_int_train)"
      ],
      "execution_count": null,
      "outputs": []
    },
    {
      "cell_type": "code",
      "metadata": {
        "id": "-1qn0iVXez-L"
      },
      "source": [
        "X_test_klass, y_ps_test_klass, y_int_test_klass = get_data_klass(X_test, y_test,y_ps_test, y_int_test)"
      ],
      "execution_count": null,
      "outputs": []
    },
    {
      "cell_type": "markdown",
      "metadata": {
        "id": "Ipq2SuDdt98J"
      },
      "source": [
        "### Decision Tree"
      ]
    },
    {
      "cell_type": "code",
      "metadata": {
        "colab": {
          "base_uri": "https://localhost:8080/"
        },
        "id": "bLXFhCy5uBlR",
        "outputId": "e3da9d11-8185-48b5-f785-773784c8a726"
      },
      "source": [
        "tree_4 = DecisionTreeClassifier() \n",
        "\n",
        "cross_val_clf(tree_4, X_train_klass, y_ps_train_klass, metric='f1_macro')\n",
        "\n",
        "tree_4 = fit_clf(tree_4, X_train_klass, y_ps_train_klass)\n",
        "y_pred = predict_clf(tree_4, X_test_klass, y_ps_test_klass, metric='macro')"
      ],
      "execution_count": null,
      "outputs": [
        {
          "output_type": "stream",
          "text": [
            "   Srocc Val Scores (F1)\n",
            "0               0.791165\n",
            "1               0.698472\n",
            "2               0.526820\n",
            "3               0.783776\n",
            "4               0.695893\n",
            "Average:\t0.699\n",
            "\n",
            "              precision    recall  f1-score   support\n",
            "\n",
            "        long       0.98      1.00      0.99        91\n",
            "    spelling       1.00      1.00      1.00         1\n",
            "        weak       1.00      1.00      1.00       204\n",
            "      x-long       0.00      0.00      0.00         2\n",
            "\n",
            "    accuracy                           0.99       298\n",
            "   macro avg       0.74      0.75      0.75       298\n",
            "weighted avg       0.99      0.99      0.99       298\n",
            "\n",
            "F1-score (macro):\t0.747\n",
            "Recall (macro): \t0.750\n",
            "Precision (macro):\t0.745\n",
            "Accuracy:\t\t0.993\n",
            "\n",
            "Confusion matrix:\n",
            "     0  1    2  3\n",
            "0  91  0    0  0\n",
            "1   0  1    0  0\n",
            "2   0  0  204  0\n",
            "3   2  0    0  0\n"
          ],
          "name": "stdout"
        }
      ]
    },
    {
      "cell_type": "code",
      "metadata": {
        "colab": {
          "base_uri": "https://localhost:8080/"
        },
        "id": "mjwBVTw-uByW",
        "outputId": "b0ab0f68-5c76-4e41-8714-a8ede814ba5f"
      },
      "source": [
        "tree_5 = DecisionTreeClassifier() \n",
        "\n",
        "cross_val_clf(tree_5, X_train_klass, y_int_train_klass, metric='f1_macro')\n",
        "\n",
        "tree_5 = fit_clf(tree_5, X_train_klass, y_int_train_klass)\n",
        "y_pred = predict_clf(tree_5, X_test_klass, y_int_test_klass, metric='macro')"
      ],
      "execution_count": null,
      "outputs": [
        {
          "output_type": "stream",
          "text": [
            "   Srocc Val Scores (F1)\n",
            "0               0.692425\n",
            "1               0.650763\n",
            "2               0.696817\n",
            "3               0.679019\n",
            "4               0.669869\n",
            "Average:\t0.678\n",
            "\n",
            "              precision    recall  f1-score   support\n",
            "\n",
            "          11       0.97      0.95      0.96        87\n",
            "         110       0.97      0.98      0.98       183\n",
            "          30       0.64      0.58      0.61        12\n",
            "          40       0.83      1.00      0.91        10\n",
            "          50       1.00      0.67      0.80         3\n",
            "          70       0.33      0.33      0.33         3\n",
            "\n",
            "    accuracy                           0.95       298\n",
            "   macro avg       0.79      0.75      0.76       298\n",
            "weighted avg       0.95      0.95      0.95       298\n",
            "\n",
            "F1-score (macro):\t0.764\n",
            "Recall (macro): \t0.753\n",
            "Precision (macro):\t0.790\n",
            "Accuracy:\t\t0.946\n",
            "\n",
            "Confusion matrix:\n",
            "     0    1  2   3  4  5\n",
            "0  83    1  2   1  0  0\n",
            "1   1  179  1   0  0  2\n",
            "2   2    3  7   0  0  0\n",
            "3   0    0  0  10  0  0\n",
            "4   0    0  0   1  2  0\n",
            "5   0    1  1   0  0  1\n"
          ],
          "name": "stdout"
        }
      ]
    },
    {
      "cell_type": "markdown",
      "metadata": {
        "id": "Ye-WOyjMtebR"
      },
      "source": [
        "### Random Forest"
      ]
    },
    {
      "cell_type": "code",
      "metadata": {
        "colab": {
          "base_uri": "https://localhost:8080/"
        },
        "id": "wRz3VLd4eyYN",
        "outputId": "049854ca-c5e4-49fa-c998-ae23233a080c"
      },
      "source": [
        "rf_4 = RandomForestClassifier(n_estimators=15) \n",
        "\n",
        "cross_val_clf(rf_4, X_train_klass, y_ps_train_klass, metric='f1_macro')\n",
        "\n",
        "rf_4 = fit_clf(rf_4, X_train_klass, y_ps_train_klass)\n",
        "y_pred = predict_clf(rf_4, X_test_klass, y_ps_test_klass, metric='macro')"
      ],
      "execution_count": null,
      "outputs": [
        {
          "output_type": "stream",
          "text": [
            "   Srocc Val Scores (F1)\n",
            "0               0.861885\n",
            "1               0.698941\n",
            "2               0.524659\n",
            "3               0.540726\n",
            "4               0.687454\n",
            "Average:\t0.663\n",
            "\n",
            "              precision    recall  f1-score   support\n",
            "\n",
            "        long       0.98      1.00      0.99        91\n",
            "    spelling       1.00      1.00      1.00         1\n",
            "        weak       1.00      1.00      1.00       204\n",
            "      x-long       0.00      0.00      0.00         2\n",
            "\n",
            "    accuracy                           0.99       298\n",
            "   macro avg       0.74      0.75      0.75       298\n",
            "weighted avg       0.99      0.99      0.99       298\n",
            "\n",
            "F1-score (macro):\t0.747\n",
            "Recall (macro): \t0.750\n",
            "Precision (macro):\t0.745\n",
            "Accuracy:\t\t0.993\n",
            "\n",
            "Confusion matrix:\n",
            "     0  1    2  3\n",
            "0  91  0    0  0\n",
            "1   0  1    0  0\n",
            "2   0  0  204  0\n",
            "3   2  0    0  0\n"
          ],
          "name": "stdout"
        }
      ]
    },
    {
      "cell_type": "code",
      "metadata": {
        "colab": {
          "base_uri": "https://localhost:8080/"
        },
        "id": "geRH-zgFVlPi",
        "outputId": "68330392-4bf6-4784-9608-e2d892e6eb83"
      },
      "source": [
        "rf_5 = RandomForestClassifier(n_estimators=15)\n",
        "\n",
        "cross_val_clf(rf_5, X_train_klass, y_int_train_klass, metric='f1_macro')\n",
        "\n",
        "rf_5 = fit_clf(rf_5, X_train_klass, y_int_train_klass)\n",
        "y_pred = predict_clf(rf_5, X_test_klass, y_int_test_klass, metric='macro')"
      ],
      "execution_count": null,
      "outputs": [
        {
          "output_type": "stream",
          "text": [
            "   Srocc Val Scores (F1)\n",
            "0               0.514429\n",
            "1               0.513018\n",
            "2               0.562370\n",
            "3               0.536692\n",
            "4               0.514112\n",
            "Average:\t0.528\n",
            "\n",
            "              precision    recall  f1-score   support\n",
            "\n",
            "          11       0.81      0.86      0.83        87\n",
            "         110       0.93      0.99      0.96       183\n",
            "          30       1.00      0.08      0.15        12\n",
            "          40       0.88      0.70      0.78        10\n",
            "          50       0.00      0.00      0.00         3\n",
            "          70       0.00      0.00      0.00         3\n",
            "\n",
            "    accuracy                           0.89       298\n",
            "   macro avg       0.60      0.44      0.45       298\n",
            "weighted avg       0.88      0.89      0.86       298\n",
            "\n",
            "F1-score (macro):\t0.454\n",
            "Recall (macro): \t0.439\n",
            "Precision (macro):\t0.602\n",
            "Accuracy:\t\t0.886\n",
            "\n",
            "Confusion matrix:\n",
            "     0    1  2  3  4  5\n",
            "0  75   10  0  1  1  0\n",
            "1   2  181  0  0  0  0\n",
            "2   8    3  1  0  0  0\n",
            "3   3    0  0  7  0  0\n",
            "4   3    0  0  0  0  0\n",
            "5   2    1  0  0  0  0\n"
          ],
          "name": "stdout"
        }
      ]
    },
    {
      "cell_type": "markdown",
      "metadata": {
        "id": "LO8CiE76ti_V"
      },
      "source": [
        "### Naive Baies"
      ]
    },
    {
      "cell_type": "code",
      "metadata": {
        "colab": {
          "base_uri": "https://localhost:8080/"
        },
        "id": "GA5SbALhqHk6",
        "outputId": "13aebcc3-db5e-4d6e-c15c-cc092820b02f"
      },
      "source": [
        "nb_4 = GaussianNB(var_smoothing=1e-5)\n",
        "\n",
        "cross_val_clf(nb_4, X_train_klass, y_ps_train_klass, metric='f1_macro')\n",
        "\n",
        "nb_4 = fit_clf(nb_4, X_train_klass, y_ps_train_klass)\n",
        "y_pred = predict_clf(nb_4, X_test_klass, y_ps_test_klass, metric='macro')"
      ],
      "execution_count": null,
      "outputs": [
        {
          "output_type": "stream",
          "text": [
            "   Srocc Val Scores (F1)\n",
            "0               0.726739\n",
            "1               0.726196\n",
            "2               0.534057\n",
            "3               0.479576\n",
            "4               0.649860\n",
            "Average:\t0.623\n",
            "\n",
            "              precision    recall  f1-score   support\n",
            "\n",
            "        long       0.99      0.89      0.94        91\n",
            "    spelling       1.00      1.00      1.00         1\n",
            "        weak       1.00      1.00      1.00       204\n",
            "      x-long       0.08      0.50      0.14         2\n",
            "\n",
            "    accuracy                           0.96       298\n",
            "   macro avg       0.77      0.85      0.77       298\n",
            "weighted avg       0.99      0.96      0.97       298\n",
            "\n",
            "F1-score (macro):\t0.769\n",
            "Recall (macro): \t0.846\n",
            "Precision (macro):\t0.768\n",
            "Accuracy:\t\t0.960\n",
            "\n",
            "Confusion matrix:\n",
            "     0  1    2   3\n",
            "0  81  0    0  10\n",
            "1   0  1    0   0\n",
            "2   0  0  203   1\n",
            "3   1  0    0   1\n"
          ],
          "name": "stdout"
        }
      ]
    },
    {
      "cell_type": "code",
      "metadata": {
        "colab": {
          "base_uri": "https://localhost:8080/"
        },
        "id": "rcYRv3SZqHbm",
        "outputId": "0c2c9475-2a7d-47b2-ab9c-83cbde10d798"
      },
      "source": [
        "nb_5 = GaussianNB(var_smoothing=1e-5)\n",
        "\n",
        "cross_val_clf(nb_5, X_train_klass, y_int_train_klass, metric='f1_macro')\n",
        "\n",
        "nb_5 = fit_clf(nb_5, X_train_klass, y_int_train_klass)\n",
        "y_pred = predict_clf(nb_5, X_test_klass, y_int_test_klass, metric='macro')"
      ],
      "execution_count": null,
      "outputs": [
        {
          "output_type": "stream",
          "text": [
            "   Srocc Val Scores (F1)\n",
            "0               0.456889\n",
            "1               0.451720\n",
            "2               0.474249\n",
            "3               0.459170\n",
            "4               0.449166\n",
            "Average:\t0.458\n",
            "\n",
            "              precision    recall  f1-score   support\n",
            "\n",
            "          11       0.83      0.78      0.80        87\n",
            "         110       0.92      0.94      0.93       183\n",
            "          30       0.17      0.17      0.17        12\n",
            "          40       0.00      0.00      0.00        10\n",
            "          50       0.00      0.00      0.00         3\n",
            "          70       0.00      0.00      0.00         3\n",
            "\n",
            "    accuracy                           0.81       298\n",
            "   macro avg       0.32      0.31      0.32       298\n",
            "weighted avg       0.81      0.81      0.81       298\n",
            "\n",
            "F1-score (macro):\t0.317\n",
            "Recall (macro): \t0.315\n",
            "Precision (macro):\t0.319\n",
            "Accuracy:\t\t0.812\n",
            "\n",
            "Confusion matrix:\n",
            "     0    1  2  3  4  5\n",
            "0  68   10  3  0  1  5\n",
            "1   5  172  3  0  0  3\n",
            "2   5    4  2  0  1  0\n",
            "3   2    0  3  0  5  0\n",
            "4   1    0  1  1  0  0\n",
            "5   1    1  0  0  1  0\n"
          ],
          "name": "stdout"
        }
      ]
    },
    {
      "cell_type": "markdown",
      "metadata": {
        "id": "xt_-sfFUt0vf"
      },
      "source": [
        "### Logistic Regression (useless)"
      ]
    },
    {
      "cell_type": "code",
      "metadata": {
        "colab": {
          "base_uri": "https://localhost:8080/"
        },
        "id": "Cn5v6fdqqHge",
        "outputId": "bb6c8c58-2c5e-4230-83ff-9e9a09195634"
      },
      "source": [
        "lr_4 = LogisticRegression() \n",
        "\n",
        "cross_val_clf(lr_4, X_train_klass, y_ps_train_klass, metric='f1_macro')\n",
        "\n",
        "lr_4 = fit_clf(lr_4, X_train_klass, y_ps_train_klass)\n",
        "y_pred = predict_clf(lr_4, X_test_klass, y_ps_test_klass, metric='macro')"
      ],
      "execution_count": null,
      "outputs": [
        {
          "output_type": "stream",
          "text": [
            "   Srocc Val Scores (F1)\n",
            "0               0.663879\n",
            "1               0.676067\n",
            "2               0.507265\n",
            "3               0.525606\n",
            "4               0.693388\n",
            "Average:\t0.613\n",
            "\n",
            "              precision    recall  f1-score   support\n",
            "\n",
            "        long       0.97      1.00      0.98        91\n",
            "    spelling       0.00      0.00      0.00         1\n",
            "        weak       1.00      1.00      1.00       204\n",
            "      x-long       0.00      0.00      0.00         2\n",
            "\n",
            "    accuracy                           0.99       298\n",
            "   macro avg       0.49      0.50      0.50       298\n",
            "weighted avg       0.98      0.99      0.98       298\n",
            "\n",
            "F1-score (macro):\t0.496\n",
            "Recall (macro): \t0.500\n",
            "Precision (macro):\t0.492\n",
            "Accuracy:\t\t0.990\n",
            "\n",
            "Confusion matrix:\n",
            "     0  1    2  3\n",
            "0  91  0    0  0\n",
            "1   1  0    0  0\n",
            "2   0  0  204  0\n",
            "3   2  0    0  0\n"
          ],
          "name": "stdout"
        }
      ]
    },
    {
      "cell_type": "code",
      "metadata": {
        "colab": {
          "base_uri": "https://localhost:8080/"
        },
        "id": "Y_fkrvtrqHTM",
        "outputId": "f840a40f-3c5b-49f3-fee4-31884e62ceb8"
      },
      "source": [
        "lr_5 = LogisticRegression() \n",
        "\n",
        "cross_val_clf(lr_5, X_train_klass, y_int_train_klass, metric='f1_macro')\n",
        "\n",
        "lr_5 = fit_clf(lr_5, X_train_klass, y_int_train_klass)\n",
        "y_pred = predict_clf(lr_5, X_test_klass, y_int_test_klass, metric='macro')"
      ],
      "execution_count": null,
      "outputs": [
        {
          "output_type": "stream",
          "text": [
            "   Srocc Val Scores (F1)\n",
            "0               0.329306\n",
            "1               0.345180\n",
            "2               0.350029\n",
            "3               0.363210\n",
            "4               0.369945\n",
            "Average:\t0.352\n",
            "\n",
            "              precision    recall  f1-score   support\n",
            "\n",
            "          11       0.71      0.80      0.75        87\n",
            "         110       0.89      0.97      0.93       183\n",
            "          30       0.00      0.00      0.00        12\n",
            "          40       0.00      0.00      0.00        10\n",
            "          50       0.00      0.00      0.00         3\n",
            "          70       0.00      0.00      0.00         3\n",
            "\n",
            "    accuracy                           0.83       298\n",
            "   macro avg       0.27      0.30      0.28       298\n",
            "weighted avg       0.76      0.83      0.79       298\n",
            "\n",
            "F1-score (macro):\t0.280\n",
            "Recall (macro): \t0.295\n",
            "Precision (macro):\t0.267\n",
            "Accuracy:\t\t0.829\n",
            "\n",
            "Confusion matrix:\n",
            "     0    1  2  3  4  5\n",
            "0  70   16  0  0  0  1\n",
            "1   6  177  0  0  0  0\n",
            "2   8    4  0  0  0  0\n",
            "3  10    0  0  0  0  0\n",
            "4   3    0  0  0  0  0\n",
            "5   2    1  0  0  0  0\n"
          ],
          "name": "stdout"
        }
      ]
    },
    {
      "cell_type": "markdown",
      "metadata": {
        "id": "oDAnMIHArR1T"
      },
      "source": [
        "# Комбинирование классификаторов"
      ]
    },
    {
      "cell_type": "markdown",
      "metadata": {
        "id": "N6_m4rYnrz1V"
      },
      "source": [
        "Вариант, со специально обученными классификаторами\n",
        "\n",
        "1. Random Forest (определение места паузы)\n",
        "2. Naive Baies (определение типа паузы)\n",
        "3. Decision Tree (определение интонационного контура)"
      ]
    },
    {
      "cell_type": "code",
      "metadata": {
        "id": "_LrjE4xqr89C"
      },
      "source": [
        "def clf_prosodic(X, clf, clf_ps, clf_int):\n",
        "    y_pred = clf.predict(X) # определение пауз\n",
        "\n",
        "    new_X = []\n",
        "    for i in range(len(y_pred)):\n",
        "        if y_pred[i] == 1:\n",
        "            new_X.append(X[i])\n",
        "\n",
        "    y_ps = clf_ps.predict(new_X)\n",
        "    y_int = clf_int.predict(new_X)\n",
        "    \n",
        "    y_ps_pred = []\n",
        "    y_int_pred = []\n",
        "\n",
        "    count = 0\n",
        "    for i in range(len(y_pred)):\n",
        "        if y_pred[i] == 1:\n",
        "            y_ps_pred.append(y_ps[count])\n",
        "            y_int_pred.append(y_int[count])\n",
        "            count += 1\n",
        "        else:\n",
        "            y_ps_pred.append(0)\n",
        "            y_int_pred.append(0)\n",
        "\n",
        "    return y_pred, y_ps_pred, y_int_pred"
      ],
      "execution_count": null,
      "outputs": []
    },
    {
      "cell_type": "code",
      "metadata": {
        "id": "1unZD3yTXhhs"
      },
      "source": [
        "def clf_score(y_pred, y, metric='binary'):\n",
        "\n",
        "    print(metrics.classification_report(y, y_pred))\n",
        "\n",
        "    print('F1-score (%s):\\t%0.3f' % (metric, metrics.f1_score(y, y_pred, average=metric)))\n",
        "    print('Recall (%s): \\t%0.3f' % (metric, metrics.recall_score(y, y_pred, average=metric)))\n",
        "    print('Precision (%s):\\t%0.3f' % (metric,metrics.precision_score(y, y_pred, average=metric)))\n",
        "    print('Accuracy:\\t\\t%0.3f' % metrics.accuracy_score(y, y_pred))\n",
        "\n",
        "    print('\\nConfusion matrix:\\n', pd.DataFrame(metrics.confusion_matrix(y, y_pred)))"
      ],
      "execution_count": null,
      "outputs": []
    },
    {
      "cell_type": "code",
      "metadata": {
        "id": "c3RR1Ar-r4u2"
      },
      "source": [
        "y_pred, y_ps_pred, y_int_pred = clf_prosodic(X_test, rf, nb_4, tree_5)"
      ],
      "execution_count": null,
      "outputs": []
    },
    {
      "cell_type": "markdown",
      "metadata": {
        "id": "ZciZGGGtAzur"
      },
      "source": [
        "Результаты:\r\n",
        "1. Определение места паузы\r\n",
        "2. Определение типа паузы\r\n",
        "3. Определение интонационного контура"
      ]
    },
    {
      "cell_type": "code",
      "metadata": {
        "colab": {
          "base_uri": "https://localhost:8080/"
        },
        "id": "mPKTUvXXr5p1",
        "outputId": "0b7130a1-6283-4ac0-8c7e-ed4bf2d063e8"
      },
      "source": [
        "clf_score(y_pred, y_test, metric='macro')"
      ],
      "execution_count": null,
      "outputs": [
        {
          "output_type": "stream",
          "text": [
            "              precision    recall  f1-score   support\n",
            "\n",
            "           0       0.98      1.00      0.99       970\n",
            "           1       0.99      0.94      0.97       298\n",
            "\n",
            "    accuracy                           0.98      1268\n",
            "   macro avg       0.99      0.97      0.98      1268\n",
            "weighted avg       0.98      0.98      0.98      1268\n",
            "\n",
            "F1-score (macro):\t0.978\n",
            "Recall (macro): \t0.970\n",
            "Precision (macro):\t0.986\n",
            "Accuracy:\t\t0.984\n",
            "\n",
            "Confusion matrix:\n",
            "      0    1\n",
            "0  967    3\n",
            "1   17  281\n"
          ],
          "name": "stdout"
        }
      ]
    },
    {
      "cell_type": "code",
      "metadata": {
        "colab": {
          "base_uri": "https://localhost:8080/"
        },
        "id": "JTBjJn5Ur5YT",
        "outputId": "0789e128-bf5c-48aa-8dac-54f006674f95"
      },
      "source": [
        "clf_score(y_ps_pred, y_ps_test, metric='macro')"
      ],
      "execution_count": null,
      "outputs": [
        {
          "output_type": "stream",
          "text": [
            "              precision    recall  f1-score   support\n",
            "\n",
            "           0       0.98      1.00      0.99       970\n",
            "        long       0.99      0.89      0.94        91\n",
            "    spelling       1.00      1.00      1.00         1\n",
            "        weak       0.98      0.91      0.95       204\n",
            "      x-long       0.08      0.50      0.14         2\n",
            "\n",
            "    accuracy                           0.97      1268\n",
            "   macro avg       0.81      0.86      0.80      1268\n",
            "weighted avg       0.98      0.97      0.98      1268\n",
            "\n",
            "F1-score (macro):\t0.803\n",
            "Recall (macro): \t0.860\n",
            "Precision (macro):\t0.808\n",
            "Accuracy:\t\t0.975\n",
            "\n",
            "Confusion matrix:\n",
            "      0   1  2    3   4\n",
            "0  967   0  0    3   0\n",
            "1    0  81  0    0  10\n",
            "2    0   0  1    0   0\n",
            "3   17   0  0  186   1\n",
            "4    0   1  0    0   1\n"
          ],
          "name": "stdout"
        }
      ]
    },
    {
      "cell_type": "code",
      "metadata": {
        "colab": {
          "base_uri": "https://localhost:8080/"
        },
        "id": "lIRKPp6Fr5Ue",
        "outputId": "ddea0bda-9801-416f-8ada-808fdb24486e"
      },
      "source": [
        "clf_score(y_int_pred, y_int_test, metric='macro')"
      ],
      "execution_count": null,
      "outputs": [
        {
          "output_type": "stream",
          "text": [
            "              precision    recall  f1-score   support\n",
            "\n",
            "           0       0.98      1.00      0.99       970\n",
            "          11       0.96      0.93      0.95        87\n",
            "         110       0.96      0.90      0.93       183\n",
            "          30       0.64      0.58      0.61        12\n",
            "          40       0.83      1.00      0.91        10\n",
            "          50       1.00      0.67      0.80         3\n",
            "          70       0.33      0.33      0.33         3\n",
            "\n",
            "    accuracy                           0.97      1268\n",
            "   macro avg       0.82      0.77      0.79      1268\n",
            "weighted avg       0.97      0.97      0.97      1268\n",
            "\n",
            "F1-score (macro):\t0.788\n",
            "Recall (macro): \t0.773\n",
            "Precision (macro):\t0.816\n",
            "Accuracy:\t\t0.972\n",
            "\n",
            "Confusion matrix:\n",
            "      0   1    2  3   4  5  6\n",
            "0  967   0    3  0   0  0  0\n",
            "1    3  81    0  2   1  0  0\n",
            "2   14   1  165  1   0  0  2\n",
            "3    0   2    3  7   0  0  0\n",
            "4    0   0    0  0  10  0  0\n",
            "5    0   0    0  0   1  2  0\n",
            "6    0   0    1  1   0  0  1\n"
          ],
          "name": "stdout"
        }
      ]
    }
  ]
}